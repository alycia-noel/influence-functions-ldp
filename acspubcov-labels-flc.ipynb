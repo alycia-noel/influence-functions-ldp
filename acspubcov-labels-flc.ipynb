{
 "cells": [
  {
   "cell_type": "markdown",
   "id": "547be779",
   "metadata": {},
   "source": [
    "### Import Packages and Set Global Variables"
   ]
  },
  {
   "cell_type": "code",
   "execution_count": null,
   "id": "61c82255",
   "metadata": {},
   "outputs": [],
   "source": [
    "import time\n",
    "import math\n",
    "import copy\n",
    "import torch\n",
    "import pickle\n",
    "import random\n",
    "import warnings\n",
    "import numpy as np\n",
    "import pandas as pd\n",
    "import scienceplots\n",
    "import torch.nn as nn\n",
    "import torch.optim as opt\n",
    "import matplotlib.cm as cm\n",
    "import matplotlib.pyplot as plt\n",
    "\n",
    "from tqdm import tqdm\n",
    "from copy import deepcopy\n",
    "from scipy.stats import spearmanr\n",
    "from torch.utils.data import DataLoader\n",
    "from torch.autograd import grad, Variable\n",
    "from torch.autograd.functional import vhp\n",
    "from sklearn.linear_model import SGDClassifier\n",
    "from matplotlib.ticker import FormatStrFormatter\n",
    "from folktables import ACSDataSource, ACSPublicCoverage\n",
    "from sklearn.metrics import mean_absolute_error, log_loss, accuracy_score\n",
    "\n",
    "warnings.filterwarnings(\"ignore\")\n",
    "\n",
    "E = math.e\n",
    "ds = ACSDataSource(survey_year='2018', horizon='5-Year', survey='person')\n",
    "STATE_DATA = ds.get_data(states=[\"AR\"], download=True)"
   ]
  },
  {
   "cell_type": "markdown",
   "id": "8d88723b",
   "metadata": {},
   "source": [
    "### Utility Functions"
   ]
  },
  {
   "cell_type": "markdown",
   "id": "064c5e9d",
   "metadata": {},
   "source": [
    "#### Plot results"
   ]
  },
  {
   "cell_type": "code",
   "execution_count": null,
   "id": "bd5b9aba",
   "metadata": {},
   "outputs": [],
   "source": [
    "def visualize_result(e_k_actual, e_k_estimated, ep, k_):\n",
    "    plt.rcParams['figure.dpi'] = 300\n",
    "    plt.style.use(['science'])\n",
    "    colors = cm.cool(np.linspace(0, 1, len(e_k_estimated)))\n",
    "    fig, ax = plt.subplots()\n",
    "    \n",
    "    ax.yaxis.set_major_formatter(FormatStrFormatter('%.4f'))\n",
    "    ax.xaxis.set_major_formatter(FormatStrFormatter('%.4f'))\n",
    "    \n",
    "    min_x = np.min(e_k_actual)\n",
    "    max_x = np.max(e_k_actual)\n",
    "    min_y = np.min(e_k_estimated)\n",
    "    max_y = np.max(e_k_estimated)\n",
    "    \n",
    "    z = np.polyfit(e_k_actual,  e_k_estimated, 1)\n",
    "    p = np.poly1d(z)\n",
    "    xx = np.linspace(-p(2)/p(1), max(e_k_actual)+.0001)\n",
    "    yy = np.polyval(p, xx)\n",
    "    \n",
    "    ax.plot(xx, yy, ls=\"-\", color='k')\n",
    "    \n",
    "    for k in range(len(e_k_actual)):\n",
    "        ax.scatter(e_k_actual[k], e_k_estimated[k], zorder=2, s=15, color=colors[k])\n",
    "\n",
    "    ax.set_title(f'Actual vs. Estimated loss for k={k_:.2f}%', fontsize=8)\n",
    "    ax.set_xlabel('Actual loss difference', fontsize=8)\n",
    "    ax.set_ylabel('Estimated loss difference', fontsize=8)\n",
    "   \n",
    "    ax.set_xlim(min_x-.0001, max_x+.0001)\n",
    "    ax.set_ylim(min_y-.0001, max_y+.0001)\n",
    "\n",
    "    text = 'MAE = {:.03}\\nP = {:.03}'.format(mean_absolute_error(e_k_actual, e_k_estimated), spearmanr(e_k_actual, e_k_estimated).correlation)\n",
    "    print(text)\n",
    "    plt.xticks(rotation = 45, fontsize=7, visible=True)\n",
    "    plt.yticks(fontsize=7)\n",
    "\n",
    "    plt.show()"
   ]
  },
  {
   "cell_type": "markdown",
   "id": "0070b920",
   "metadata": {},
   "source": [
    "#### Custom dataset"
   ]
  },
  {
   "cell_type": "code",
   "execution_count": null,
   "id": "741afa72",
   "metadata": {},
   "outputs": [],
   "source": [
    " class CreateData(torch.utils.data.Dataset):\n",
    "    def __init__(self, data, targets, pert_status):\n",
    "        self.data = data\n",
    "        self.targets = targets\n",
    "        self.pert = pert_status\n",
    "\n",
    "    def __len__(self):\n",
    "        return len(self.data)\n",
    "\n",
    "    def __getitem__(self, idx):\n",
    "        out_data = self.data[idx]\n",
    "        out_label = self.targets[idx]\n",
    "        pert_label = self.pert[idx]\n",
    "\n",
    "        return out_data, out_label, pert_label"
   ]
  },
  {
   "cell_type": "markdown",
   "id": "a8d227d8",
   "metadata": {},
   "source": [
    "#### Select k% of a group (based on gender)"
   ]
  },
  {
   "cell_type": "code",
   "execution_count": null,
   "id": "09d3bfd3",
   "metadata": {},
   "outputs": [],
   "source": [
    "def get_data(dfTrain, feature_set, label, k):    \n",
    "\n",
    "    selected_group = dfTrain.loc[dfTrain['SEX'] == 0]\n",
    "\n",
    "    num_to_sample = int((k/100)*len(dfTrain))\n",
    "\n",
    "    sampled_group = selected_group.sample(n=num_to_sample, ignore_index=False)\n",
    "    not_selected = dfTrain.drop(sampled_group.index)\n",
    "\n",
    "    selected_group_X = sampled_group[feature_set]\n",
    "    selected_group_y = sampled_group[label]\n",
    "\n",
    "    not_selected_group_X = not_selected[feature_set]\n",
    "    not_selected_group_y = not_selected[label]   \n",
    "    \n",
    "    return selected_group_X, selected_group_y, not_selected_group_X, not_selected_group_y\n"
   ]
  },
  {
   "cell_type": "markdown",
   "id": "32749599",
   "metadata": {},
   "source": [
    "#### Get and clean ACSPublicCoverage dataset"
   ]
  },
  {
   "cell_type": "code",
   "execution_count": null,
   "id": "a93fe248",
   "metadata": {},
   "outputs": [],
   "source": [
    "def get_acspubcov(data):\n",
    "    features, labels, _ = ACSPublicCoverage.df_to_pandas(data)\n",
    "    \n",
    "    df = pd.concat([features, labels], axis=1)\n",
    "    \n",
    "    df = df.drop_duplicates(keep='first', ignore_index=True)\n",
    "    df = df.drop(['ANC', 'ST', 'SCHL', 'ESP', 'FER', 'MIG', 'DEAR', 'DEYE', 'DREM'], axis=1)\n",
    "    \n",
    "    column_names = ['AGEP', 'MAR', 'SEX', 'DIS', 'CIT', 'PINCP', 'ESR', 'RAC1P', 'MIL', 'NATIVITY']\n",
    "    \n",
    "    def numericalBinary(dataset, features):\n",
    "        dataset[features] = np.where(dataset[features] >= dataset[features].mean(), 1, 0)\n",
    "\n",
    "    def binarize(dataset, features):\n",
    "        dataset[features] = np.where(df[features] == 1, 1, 0)\n",
    "            \n",
    "    numericalBinary(df,['AGEP', 'PINCP'])\n",
    "    binarize(df, ['MAR', 'SEX', 'DIS', 'RAC1P', 'PUBCOV', 'NATIVITY'])\n",
    "    \n",
    "    df['CIT'] = np.where((df['CIT'] == 1) | (df['CIT'] == 3), 1, 0)\n",
    "    df['MIL'] = np.where((df['MIL'] == 1) | (df['MIL'] == 2) | (df['MIL'] == 3), 1, 0)\n",
    "    df['ESR'] = np.where((df['ESR'] == 1) | (df['ESR'] == 2) | (df['ESR'] == 4) | (df['ESR'] == 5), 1, 0)\n",
    "    \n",
    "    num_train = int(len(df) * .8)\n",
    "    dfTrain = df.sample(n=num_train, replace=False, axis=0, ignore_index=False)\n",
    "\n",
    "    dfTest = df.drop(dfTrain.index, axis=0)\n",
    "    \n",
    "    label = 'PUBCOV'\n",
    "    return dfTrain, dfTest, label"
   ]
  },
  {
   "cell_type": "markdown",
   "id": "3e210d31",
   "metadata": {},
   "source": [
    "### Randomized Response"
   ]
  },
  {
   "cell_type": "markdown",
   "id": "b8c3016a",
   "metadata": {},
   "source": [
    "#### Get p and q (as a matrix) based on epsilon"
   ]
  },
  {
   "cell_type": "code",
   "execution_count": null,
   "id": "f20c9e92",
   "metadata": {},
   "outputs": [],
   "source": [
    "def get_p(epsilon):\n",
    "    prob_stay = (E ** epsilon) / (1 + (E ** epsilon))\n",
    "    prob_change = 1 / (1 + (E ** epsilon))\n",
    "    \n",
    "    p = torch.zeros(2,2)\n",
    "    for i in range(2):\n",
    "        for j in range(2):\n",
    "            if i == j: \n",
    "                p[i][j] = prob_stay\n",
    "            else:\n",
    "                p[i][j] = prob_change\n",
    "    \n",
    "    return p"
   ]
  },
  {
   "cell_type": "markdown",
   "id": "07ad186d",
   "metadata": {},
   "source": [
    "#### Perform forward loss correction"
   ]
  },
  {
   "cell_type": "code",
   "execution_count": null,
   "id": "75db2e50",
   "metadata": {},
   "outputs": [],
   "source": [
    "def forward_correct_loss(y_act, oupt, epsilon, criterion, device):\n",
    "    \n",
    "    p = get_p(epsilon)\n",
    "    y_pred_c = torch.matmul(oupt, p.to(device)) \n",
    "    loss = criterion(torch.log(y_pred_c), y_act.ravel())\n",
    "    \n",
    "    return loss "
   ]
  },
  {
   "cell_type": "markdown",
   "id": "07756821",
   "metadata": {},
   "source": [
    "### Models"
   ]
  },
  {
   "cell_type": "code",
   "execution_count": null,
   "id": "9daf5801",
   "metadata": {},
   "outputs": [],
   "source": [
    "class LogisticRegression(torch.nn.Module):\n",
    "    def __init__(self, num_features):\n",
    "        super(LogisticRegression, self).__init__()\n",
    "        \n",
    "        self.fc1 = torch.nn.Linear(num_features, 2)\n",
    "        self.criterion = torch.nn.NLLLoss(reduction='mean')\n",
    "        self.activ = torch.nn.Softmax()\n",
    "        \n",
    "    def forward(self, x):\n",
    "        probs = self.activ(self.fc1(x))\n",
    "\n",
    "        return probs\n",
    "    \n",
    "    def loss(self, test_loader, print_, device):\n",
    "        correct = 0\n",
    "        total = 0\n",
    "        all_labels = []\n",
    "        all_predicted = []\n",
    "        all_loss = 0\n",
    "        \n",
    "        for features, labels, _ in test_loader:\n",
    "            features = Variable(features).to(device)\n",
    "            labels = Variable(labels).to(device)\n",
    "            outputs = self.fc1(features)\n",
    "            loss = self.criterion(outputs, labels)\n",
    "            all_loss += loss\n",
    "            _, predicted = torch.max(outputs.data, 1)\n",
    "            total+= labels.size(0)\n",
    "            \n",
    "            all_labels.extend(list(labels.detach().cpu().numpy()))\n",
    "            all_predicted.extend(list(predicted.detach().cpu().numpy()))\n",
    "            correct+= (predicted.detach().cpu().numpy() == labels.detach().cpu().numpy()).sum()\n",
    "        acc = 100 * correct/total\n",
    "        \n",
    "        return loss/len(test_loader), acc"
   ]
  },
  {
   "cell_type": "code",
   "execution_count": null,
   "id": "b5c1a9e7",
   "metadata": {},
   "outputs": [],
   "source": [
    "def train(model, dataset, epsilon, lengths, device):\n",
    "    model.train()\n",
    "    \n",
    "    optimizer = torch.optim.SGD(model.parameters(), lr=.005, weight_decay=0)\n",
    "    criterion = torch.nn.NLLLoss(reduction='mean')\n",
    "    pert_status = np.zeros(len(dataset[0]))\n",
    " \n",
    "    if lengths is not None:\n",
    "        len_original = lengths[0]\n",
    "        len_perts = lengths[1]\n",
    "        total_len = len(dataset[0])\n",
    "        pert_status = []\n",
    "        pert_status.extend(np.zeros(len_original))\n",
    "        pert_status.extend(np.ones(len_perts))\n",
    "    \n",
    "    train_data = CreateData(dataset[0], dataset[1], pert_status)\n",
    "    train_dataloader = DataLoader(train_data, batch_size=1, shuffle=True)\n",
    "        \n",
    "    for itr in range(0, 7):\n",
    "        itr_loss = 0\n",
    "        correct = 0\n",
    "        total = 0\n",
    "        \n",
    "        for i, (features, labels, pert_val) in enumerate(train_dataloader):\n",
    "            features = Variable(features).to(device)\n",
    "            labels = Variable(labels).to(device)\n",
    "           \n",
    "            optimizer.zero_grad()\n",
    "            outputs = model(features)\n",
    "            \n",
    "            if pert_val == 0:\n",
    "                loss_val = criterion(torch.log(outputs), labels.ravel())\n",
    "            else:\n",
    "                loss_val = forward_correct_loss(labels, outputs, epsilon, torch.nn.NLLLoss(reduction='sum'), device)\n",
    "\n",
    "            itr_loss += loss_val\n",
    "            loss_val.backward()\n",
    "            optimizer.step()\n",
    "            \n",
    "            _, predicted = torch.max(outputs.data, 1)\n",
    "            total+= labels.size(0)\n",
    "            correct+= (predicted.detach().cpu() == labels.detach().cpu()).sum()\n",
    "                        \n",
    "    return model"
   ]
  },
  {
   "cell_type": "markdown",
   "id": "ce3c7499",
   "metadata": {},
   "source": [
    "### Influence Calculation Functions\n"
   ]
  },
  {
   "cell_type": "markdown",
   "id": "aa053cd1",
   "metadata": {},
   "source": [
    "#### Main function for calling all required parts to calculate the influence score"
   ]
  },
  {
   "cell_type": "code",
   "execution_count": null,
   "id": "6cc60cd5",
   "metadata": {},
   "outputs": [],
   "source": [
    "def calc_influence_single(model, epsilon, train_dataset, train_dataloader, test_dataloader, group_data, device, criterion, hessian):\n",
    "    start = time.time()\n",
    "    \n",
    "    if hessian is None:\n",
    "        s_test_vec = s_test_sample(model, test_dataloader, train_dataset, device, criterion)\n",
    "    else:\n",
    "        s_test_vec = hessian\n",
    "   \n",
    "    grad_z_vec = grad_training([group_data[0], group_data[1]], model, device, epsilon)\n",
    "    \n",
    "    with torch.no_grad():\n",
    "        influence = (sum([torch.sum(k * j).data for k, j in zip(grad_z_vec, s_test_vec)]) / len(train_dataset))\n",
    "            \n",
    "    end = time.time() - start\n",
    "\n",
    "    return influence.cpu(), end, s_test_vec"
   ]
  },
  {
   "cell_type": "markdown",
   "id": "7a0ff038",
   "metadata": {},
   "source": [
    "#### Get the average hessian estimate over r rounds"
   ]
  },
  {
   "cell_type": "code",
   "execution_count": null,
   "id": "ee60bf93",
   "metadata": {},
   "outputs": [],
   "source": [
    "def s_test_sample(model, test_dataloader, train_dataset, device, criterion):\n",
    "    scale = 25\n",
    "    damp = 0.01\n",
    "    recursion_depth = 7500\n",
    "    r = 3\n",
    "    \n",
    "    inverse_hvp = [torch.zeros_like(params, dtype=torch.float) for params in model.parameters()]\n",
    "    \n",
    "    for i in range(r):\n",
    "        hessian_loader = DataLoader(train_dataset, sampler=torch.utils.data.RandomSampler(train_dataset, True, num_samples=recursion_depth), batch_size = 1)\n",
    "        \n",
    "        cur_estimate = s_test(test_dataloader, model, i, hessian_loader, device, damp, scale, criterion)\n",
    "        \n",
    "        with torch.no_grad():\n",
    "            inverse_hvp = [old + (cur/scale) for old,cur in zip(inverse_hvp, cur_estimate)]\n",
    "    \n",
    "    with torch.no_grad():\n",
    "        inverse_hvp = [component / r for component in inverse_hvp]\n",
    "        \n",
    "    return inverse_hvp"
   ]
  },
  {
   "cell_type": "markdown",
   "id": "5ae3d56e",
   "metadata": {},
   "source": [
    "#### Calculate the hessian estimate"
   ]
  },
  {
   "cell_type": "code",
   "execution_count": null,
   "id": "b35142c1",
   "metadata": {},
   "outputs": [],
   "source": [
    "def s_test(test_dataloader, model, i, hessian_loader, device, damp, scale, criterion):\n",
    "    v = grad_z(test_dataloader, model, device, criterion)\n",
    "    h_estimate = v\n",
    "    \n",
    "    params, names = make_functional(model)\n",
    "    params = tuple(p.detach().requires_grad_() for p in params)\n",
    "    \n",
    "    progress_bar = tqdm(hessian_loader, desc=f\"IHVP sample {i}\")\n",
    "    \n",
    "    for i, (x_train, y_train, _) in enumerate(progress_bar):\n",
    "        x_train = Variable(x_train).to(device)\n",
    "        y_train = Variable(y_train).to(device)\n",
    "        \n",
    "        def f(*new_params):\n",
    "            load_weights(model, names, new_params)\n",
    "            out = model(x_train)\n",
    "            loss = criterion(out, y_train)\n",
    "            return loss\n",
    "    \n",
    "        hv = vhp(f, params, tuple(h_estimate), strict=True)[1]\n",
    "        \n",
    "        with torch.no_grad():\n",
    "            h_estimate = [\n",
    "                _v + (1-damp) * _h_e - _hv / scale for _v, _h_e, _hv in zip(v, h_estimate, hv)\n",
    "            ]\n",
    "            \n",
    "            if i % 100 == 0:\n",
    "                norm = sum([h_.norm() for h_ in h_estimate])\n",
    "                progress_bar.set_postfix({\"est norm\": norm.item()})\n",
    "                \n",
    "    with torch.no_grad():\n",
    "        load_weights(model, names, params, as_params=True)\n",
    "        \n",
    "    return h_estimate"
   ]
  },
  {
   "cell_type": "markdown",
   "id": "480a8919",
   "metadata": {},
   "source": [
    "#### Several helper functions"
   ]
  },
  {
   "cell_type": "code",
   "execution_count": null,
   "id": "09a97985",
   "metadata": {},
   "outputs": [],
   "source": [
    "def make_functional(model):\n",
    "    orig_params = tuple(model.parameters())\n",
    "    names = []\n",
    "    \n",
    "    for name, p in list(model.named_parameters()):\n",
    "        del_attr(model, name.split(\".\"))\n",
    "        names.append(name)\n",
    "    \n",
    "    return orig_params, names"
   ]
  },
  {
   "cell_type": "code",
   "execution_count": null,
   "id": "ba5d8922",
   "metadata": {},
   "outputs": [],
   "source": [
    "def del_attr(obj, names):\n",
    "    if len(names) == 1:\n",
    "        delattr(obj, names[0])\n",
    "    else:\n",
    "        del_attr(getattr(obj, names[0]), names[1:])"
   ]
  },
  {
   "cell_type": "code",
   "execution_count": null,
   "id": "6e485563",
   "metadata": {},
   "outputs": [],
   "source": [
    "def set_attr(obj, names, val):\n",
    "    if len(names) == 1:\n",
    "        setattr(obj, names[0], val)\n",
    "    else:\n",
    "        set_attr(getattr(obj, names[0]), names[1:], val)"
   ]
  },
  {
   "cell_type": "code",
   "execution_count": null,
   "id": "341df594",
   "metadata": {},
   "outputs": [],
   "source": [
    "def load_weights(model, names, params, as_params=False):\n",
    "    for name, p in zip(names, params):\n",
    "        if not as_params:\n",
    "            set_attr(model, name.split(\".\"), p)\n",
    "        else:\n",
    "            set_attr(model, name.split(\".\"), torch.nn.Parameter(p))"
   ]
  },
  {
   "cell_type": "markdown",
   "id": "9ee048b6",
   "metadata": {},
   "source": [
    "#### Get gradient of test data"
   ]
  },
  {
   "cell_type": "code",
   "execution_count": null,
   "id": "e1656b8b",
   "metadata": {},
   "outputs": [],
   "source": [
    "def grad_z(test_data, model, device, criterion):\n",
    "\n",
    "    model.eval()\n",
    "\n",
    "    itr_loss = 0\n",
    "    for i, (images, labels, _) in enumerate(test_data):\n",
    "        images = Variable(images).to(device)\n",
    "        labels = Variable(labels).to(device)\n",
    "\n",
    "        outputs = model(images)\n",
    "        loss = criterion(outputs, labels)\n",
    "        itr_loss += loss\n",
    "\n",
    "    loss_ = itr_loss / len(test_data)\n",
    "    return grad(loss_, model.parameters())"
   ]
  },
  {
   "cell_type": "markdown",
   "id": "e6e2afc1",
   "metadata": {},
   "source": [
    "#### Get gradient of training data"
   ]
  },
  {
   "cell_type": "code",
   "execution_count": null,
   "id": "38ac6b34",
   "metadata": {},
   "outputs": [],
   "source": [
    "def grad_training(train_data, model, device, epsilon):\n",
    "\n",
    "    model.eval()\n",
    "\n",
    "    x_train_input = torch.FloatTensor(train_data[0].values).to(device)\n",
    "    y_train_input = torch.LongTensor(train_data[1].values).to(device)\n",
    "    pert_status = np.ones(len(train_data[0]))\n",
    "    \n",
    "    train_data = CreateData(x_train_input, y_train_input, pert_status)\n",
    "    train_dataloader = DataLoader(train_data, batch_size=1, shuffle=True)\n",
    "\n",
    "    criterion = torch.nn.CrossEntropyLoss(reduction='sum')\n",
    "    \n",
    "    agg_loss=0\n",
    "    possible_labels = [0,1]\n",
    "    for i, (feature, label, _) in enumerate(train_dataloader):\n",
    "        pert_agg_loss = 0\n",
    "        \n",
    "        output = model(feature)\n",
    "        orig_loss = criterion(output, label)\n",
    "\n",
    "        for j in possible_labels:\n",
    "            if j != label.item():\n",
    "                pert_label = torch.LongTensor([j]).to(device)\n",
    "                pert_loss = forward_correct_loss(pert_label, output, epsilon, criterion, device)\n",
    "                pert_agg_loss += (pert_loss - orig_loss)\n",
    "                \n",
    "        agg_loss += pert_agg_loss\n",
    "        \n",
    "    loss = float(1/(1 + (E ** epsilon)))*(agg_loss)\n",
    "    \n",
    "    to_return = grad(loss, model.parameters())\n",
    "        \n",
    "    return to_return"
   ]
  },
  {
   "cell_type": "markdown",
   "id": "a2f72f48",
   "metadata": {},
   "source": [
    "### Main Function"
   ]
  },
  {
   "cell_type": "code",
   "execution_count": null,
   "id": "fe081fed",
   "metadata": {},
   "outputs": [],
   "source": [
    "def Main(epsilons, ks, num_rounds):\n",
    "\n",
    "    device = 'cuda:6' if torch.cuda.is_available() else 'cpu'\n",
    "    criterion = torch.nn.NLLLoss(reduction='mean')\n",
    "    \n",
    "    all_orig_loss_e_k = []\n",
    "    all_est_loss_e_k = []\n",
    "    all_time = []\n",
    "    \n",
    "    for nr in range(num_rounds):\n",
    "        print(f'\\nRound {nr+1}')\n",
    "        ############\n",
    "        # Get data #\n",
    "        ############\n",
    "        print('\\nGetting Data...')\n",
    "\n",
    "        dfTrain, dfTest, label = get_acspubcov(STATE_DATA)\n",
    "\n",
    "        feature_set = list(set(dfTrain.columns) - {label})\n",
    "        num_features = len(feature_set)\n",
    "\n",
    "        X_train, X_test = dfTrain[feature_set], dfTest[feature_set]\n",
    "        y_train, y_test = dfTrain[label], dfTest[label]\n",
    "        \n",
    "        \n",
    "        x_test_input = torch.FloatTensor(X_test.values).to(device)\n",
    "        y_test_input = torch.LongTensor(y_test.values).to(device)\n",
    "        pert_status_test = np.ones(len(x_test_input))\n",
    "        \n",
    "        x_train_input = torch.FloatTensor(X_train.values).to(device)\n",
    "        y_train_input = torch.LongTensor(y_train.values).to(device)\n",
    "        pert_status_train = np.ones(len(x_train_input))\n",
    "    \n",
    "        train_dataset = CreateData(x_train_input, y_train_input, pert_status_train)\n",
    "        test_dataset = CreateData(x_test_input, y_test_input, pert_status_test)\n",
    "\n",
    "    \n",
    "        train_loader = torch.utils.data.DataLoader(dataset=train_dataset, batch_size=32, shuffle=True)\n",
    "        test_loader = torch.utils.data.DataLoader(dataset=test_dataset, batch_size=32, shuffle=False)\n",
    "   \n",
    "        ##############################################\n",
    "        # Train original model and get original loss #\n",
    "        ##############################################\n",
    "        print('Training original model...')\n",
    "        torch_model = LogisticRegression(num_features)\n",
    "        torch_model.to(device)\n",
    "        torch_model = train(torch_model, [x_train_input, y_train_input], None, None, device)\n",
    "        test_loss_ori, acc_ori = torch_model.loss(test_loader, True, device)\n",
    "\n",
    "        e_k_act_losses = []\n",
    "        e_k_est_losses = []\n",
    "        influence_time = []\n",
    "        \n",
    "        ################################################################\n",
    "        # Perform influence and retraining for all epsilons a k values #\n",
    "        ################################################################\n",
    "        print('\\nBegining epsilon and k rounds')\n",
    "        print('-----------------------------')\n",
    "        for k_elem, k in enumerate(ks):\n",
    "            print(f'\\nk: {k}')\n",
    "            hessian = None\n",
    "            k_act_losses = []\n",
    "            k_est_losses = []\n",
    "            inf_time = []\n",
    "            \n",
    "            for ep_elem, ep in enumerate(epsilons):\n",
    "                print(f'ep: {ep}')\n",
    "                selected_group_X, selected_group_y, not_selected_group_X, not_selected_group_y = get_data(dfTrain, feature_set, label, k)\n",
    "                loss_diff_approx, tot_time, hessian = calc_influence_single(torch_model, ep, train_dataset, train_loader, test_loader, [selected_group_X, selected_group_y, not_selected_group_X, not_selected_group_y], device, criterion, hessian)\n",
    "                loss_diff_approx = -torch.FloatTensor(loss_diff_approx).cpu().numpy()\n",
    "                print(f'Approx difference: {loss_diff_approx:.5f}')\n",
    "                \n",
    "                # Retrain\n",
    "                p = ((E**ep)/(1+(E**ep)))\n",
    "                p_change = (1/(1+(E**ep)))\n",
    "\n",
    "                pert_selected_group_y = []\n",
    "                \n",
    "                for i, elem in enumerate(selected_group_y.values):\n",
    "                    rnd = np.random.random()\n",
    "                    if rnd <= p:\n",
    "                        pert_selected_group_y.append(elem)\n",
    "                    else:\n",
    "                        pert_selected_group_y.append(1 - elem)\n",
    "                    \n",
    "                y_w_group_pert = pd.concat([not_selected_group_y, pd.DataFrame(pert_selected_group_y)], axis = 0, ignore_index=True ) \n",
    "                y_wo_pert = pd.concat([not_selected_group_y, selected_group_y], axis = 0, ignore_index=True)\n",
    "                reconstructed_x = pd.concat([not_selected_group_X, selected_group_X], axis = 0, ignore_index=True)\n",
    "                                           \n",
    "                x_train_input_pert = torch.FloatTensor(reconstructed_x.values).to(device)\n",
    "                y_train_input_pert = torch.LongTensor(y_w_group_pert.values).to(device)\n",
    "\n",
    "                model_pert = LogisticRegression(num_features)\n",
    "                model_pert.to(device)\n",
    "                model_pert = train(model_pert, [x_train_input_pert, y_train_input_pert], ep, [len(not_selected_group_y), len(selected_group_y)], device)\n",
    "                test_loss_retrain, acc_retrain = model_pert.loss(test_loader, True, device)\n",
    "\n",
    "                 # get true loss diff\n",
    "                loss_diff_true = (test_loss_retrain - test_loss_ori).detach().cpu().item()\n",
    "                print(f'True difference: {loss_diff_true:.5f}')\n",
    "                k_act_losses.append(loss_diff_true)\n",
    "                k_est_losses.append(loss_diff_approx)\n",
    "                inf_time.append(tot_time)\n",
    "            \n",
    "            visualize_result(k_act_losses, k_est_losses, epsilons, k)\n",
    "            e_k_act_losses.append(k_act_losses)\n",
    "            e_k_est_losses.append(k_est_losses)\n",
    "            influence_time.append(inf_time)\n",
    "            \n",
    "        all_orig_loss_e_k.append(e_k_act_losses)\n",
    "        all_est_loss_e_k.append(e_k_est_losses) \n",
    "        all_time.append(influence_time)\n",
    "    \n",
    "    return all_orig_loss_e_k, all_est_loss_e_k, all_time"
   ]
  },
  {
   "cell_type": "markdown",
   "id": "06dfc9de",
   "metadata": {},
   "source": [
    "### Perform Experiment "
   ]
  },
  {
   "cell_type": "markdown",
   "id": "2747a8a8",
   "metadata": {},
   "source": [
    "#### Constants"
   ]
  },
  {
   "cell_type": "code",
   "execution_count": null,
   "id": "d0e3ef67",
   "metadata": {
    "scrolled": true
   },
   "outputs": [],
   "source": [
    "epsilons = np.linspace(.001, 5, 30)\n",
    "k = np.linspace(1, 30, 10) #10\n",
    "rounds = 1"
   ]
  },
  {
   "cell_type": "markdown",
   "id": "b10c0769",
   "metadata": {},
   "source": [
    "#### Run experiment and save results to pickle file"
   ]
  },
  {
   "cell_type": "code",
   "execution_count": null,
   "id": "ff4d7588",
   "metadata": {
    "scrolled": true
   },
   "outputs": [],
   "source": [
    "all_orig_loss_e_k, all_est_loss_e_k, all_time = Main(epsilons, k, rounds)\n",
    "\n",
    "with open('results/acspubcov/all_orig_loss_e_k_acspubcov-label-flc.txt', \"wb\") as file:   #Pickling\n",
    "    pickle.dump(all_orig_loss_e_k, file)\n",
    "\n",
    "with open('results/acspubcov/all_orig_loss_e_k_acspubcov-label-flc.txt', \"wb\") as file2:   #Pickling\n",
    "    pickle.dump(all_est_loss_e_k, file2)\n",
    "    \n",
    "with open('results/acspubcov/all_time_acspubcov-label-flc.txt', \"wb\") as file3:   #Pickling\n",
    "    pickle.dump(all_time, file3)"
   ]
  },
  {
   "cell_type": "markdown",
   "id": "18373b63",
   "metadata": {},
   "source": [
    "#### Reorganize results for visualization"
   ]
  },
  {
   "cell_type": "code",
   "execution_count": null,
   "id": "e68ef165",
   "metadata": {},
   "outputs": [],
   "source": [
    "sum_orig_loss_e_k = [[0 for _ in range(len(k))] for _ in range(len(epsilons))]\n",
    "sum_est_loss_e_k = [[0 for _ in range(len(k))] for _ in range(len(epsilons))]\n",
    "sum_time = [[0 for _ in range(len(k))] for _ in range(len(epsilons))]\n",
    "\n",
    "avg_orig_loss = []\n",
    "avg_est_loss = []\n",
    "avg_time = []\n",
    "\n",
    "for round_ in range(len(all_orig_loss_e_k)):\n",
    "    for e in range(len(epsilons)):\n",
    "        for k_ in range(len(k)):\n",
    "            sum_orig_loss_e_k[e][k_] = sum_orig_loss_e_k[e][k_] + all_orig_loss_e_k[round_][e][k_]\n",
    "            sum_est_loss_e_k[e][k_] = sum_est_loss_e_k[e][k_] + all_est_loss_e_k[round_][e][k_]\n",
    "            sum_time[e][k_] = sum_time[e][k_] + all_time[round_][e][k_]\n",
    "\n",
    "for e in range(len(epsilons)):\n",
    "    avg_orig_loss.append([ elem / len(all_orig_loss_e_k) for elem in sum_orig_loss_e_k[e]])\n",
    "    avg_est_loss.append([elem/ len(all_orig_loss_e_k) for elem in sum_est_loss_e_k[e]])\n",
    "    avg_time.append([elem/ len(all_orig_loss_e_k) for elem in sum_time[e]])\n",
    "\n",
    "k_e_orig = [[] for _ in range(len(k))]\n",
    "k_e_est = [[] for _ in range(len(k))]\n",
    "\n",
    "for e in range(len(epsilons)):\n",
    "    for k_ in range(len(k)):\n",
    "        k_e_orig[k_].append(avg_orig_loss[e][k_])\n",
    "        k_e_est[k_].append(avg_est_loss[e][k_])\n",
    "\n",
    "averaged_time = []\n",
    "\n",
    "for e in range(len(epsilons)):\n",
    "    averaged_time.append(sum_time[e][0])\n",
    "\n",
    "average_time_final = sum(averaged_time) / len(averaged_time)"
   ]
  },
  {
   "cell_type": "markdown",
   "id": "95ac2b85",
   "metadata": {},
   "source": [
    "#### Visualize results"
   ]
  },
  {
   "cell_type": "code",
   "execution_count": null,
   "id": "752355d6",
   "metadata": {
    "scrolled": true
   },
   "outputs": [],
   "source": [
    "for i in range(len(k_e_orig)):\n",
    "    visualize_result(k_e_orig[i], k_e_est[i], epsilons, k[i])"
   ]
  }
 ],
 "metadata": {
  "kernelspec": {
   "display_name": "Python 3 (ipykernel)",
   "language": "python",
   "name": "python3"
  },
  "language_info": {
   "codemirror_mode": {
    "name": "ipython",
    "version": 3
   },
   "file_extension": ".py",
   "mimetype": "text/x-python",
   "name": "python",
   "nbconvert_exporter": "python",
   "pygments_lexer": "ipython3",
   "version": "3.9.15"
  }
 },
 "nbformat": 4,
 "nbformat_minor": 5
}
