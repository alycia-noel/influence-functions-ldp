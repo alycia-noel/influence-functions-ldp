{
 "cells": [
  {
   "cell_type": "code",
   "execution_count": 1,
   "id": "9e364451",
   "metadata": {},
   "outputs": [],
   "source": [
    "import time\n",
    "import math\n",
    "import copy\n",
    "import torch\n",
    "import random\n",
    "import logging\n",
    "import warnings\n",
    "import datetime\n",
    "\n",
    "import numpy as np\n",
    "import seaborn as sns\n",
    "import torch.nn as nn\n",
    "import torch.optim as opt\n",
    "import matplotlib.pyplot as plt\n",
    "\n",
    "from tqdm import tqdm\n",
    "from sklearn import linear_model\n",
    "from torch.autograd import grad\n",
    "from torch.autograd.functional import vhp\n",
    "from data_processing import get_data_adult\n",
    "from torch.utils.data import Subset, DataLoader\n",
    "from sklearn.metrics import mean_absolute_error, r2_score, accuracy_score\n",
    "\n",
    "plt.rcParams['figure.dpi'] = 300\n",
    "warnings.filterwarnings(\"ignore\")\n",
    "\n",
    "E = math.e"
   ]
  },
  {
   "cell_type": "markdown",
   "id": "8d88723b",
   "metadata": {},
   "source": [
    "### Utility Functions"
   ]
  },
  {
   "cell_type": "code",
   "execution_count": 1,
   "id": "dafa202c",
   "metadata": {},
   "outputs": [],
   "source": [
    "def graph(data, title, x_label, y_label, labels):\n",
    "    sns.set(font_scale=1)\n",
    "\n",
    "    ticks = np.arange(0, len(data[2]), step=1)\n",
    "    plt.xticks(ticks=ticks, labels=data[2], rotation='vertical')\n",
    "    \n",
    "    plt.plot(data[0], 'b-', linewidth=2.0, label=labels[0])\n",
    "    plt.plot(data[1], 'r-', linewidth=2.0, label=labels[1])\n",
    "    plt.plot([a_i - b_i for a_i, b_i in zip(data[0], data[1])], 'k', linewidth=2.0, label='difference')\n",
    "    \n",
    "    plt.xlabel(x_label)\n",
    "    plt.ylabel(y_label)\n",
    "    plt.title(title)\n",
    "    plt.legend()\n",
    "    plt.tight_layout()\n",
    "    plt.show()"
   ]
  },
  {
   "cell_type": "code",
   "execution_count": 3,
   "id": "741afa72",
   "metadata": {},
   "outputs": [],
   "source": [
    " class CreateData(torch.utils.data.Dataset):\n",
    "    def __init__(self, data, targets):\n",
    "        self.data = data\n",
    "        self.targets = targets\n",
    "\n",
    "    def __len__(self):\n",
    "        return len(self.data)\n",
    "\n",
    "    def __getitem__(self, idx):\n",
    "        out_data = self.data[idx]\n",
    "        out_label = self.targets[idx]\n",
    "\n",
    "        return out_data, out_label"
   ]
  },
  {
   "cell_type": "markdown",
   "id": "3e210d31",
   "metadata": {},
   "source": [
    "### Randomized Response"
   ]
  },
  {
   "cell_type": "code",
   "execution_count": 4,
   "id": "096c08d8",
   "metadata": {},
   "outputs": [],
   "source": [
    "def randomize_resp(label, epsilon):\n",
    "\n",
    "    probability = float(E ** epsilon) / float(1 + (E ** epsilon))\n",
    "    \n",
    "    if label == 0:\n",
    "        new_label = np.random.choice([0,1], p=[probability, 1-probability])\n",
    "    else:\n",
    "        new_label = np.random.choice([0,1], p=[1-probability, probability])\n",
    "\n",
    "    return new_label"
   ]
  },
  {
   "cell_type": "markdown",
   "id": "07756821",
   "metadata": {},
   "source": [
    "### Models"
   ]
  },
  {
   "cell_type": "code",
   "execution_count": 5,
   "id": "9daf5801",
   "metadata": {},
   "outputs": [],
   "source": [
    "class LogisticRegression(torch.nn.Module):\n",
    "    def __init__(self, num_features, weight_decay, device):\n",
    "        super(LogisticRegression, self).__init__()\n",
    "\n",
    "        self.wd = torch.FloatTensor([weight_decay]).to(device)\n",
    "        self.w = torch.nn.Parameter(torch.zeros([num_features], requires_grad=True))\n",
    "\n",
    "    def forward(self, x):\n",
    "        logits = torch.matmul(x, torch.reshape(self.w, [-1, 1]))\n",
    "\n",
    "        return logits\n",
    "    \n",
    "    def loss(self, logits, y):\n",
    "        preds = torch.sigmoid(logits)\n",
    "        loss = -torch.mean(y * log_clip(preds) + (1 - y) * log_clip(1 - preds))\n",
    "\n",
    "        return loss"
   ]
  },
  {
   "cell_type": "code",
   "execution_count": 6,
   "id": "b5c1a9e7",
   "metadata": {},
   "outputs": [],
   "source": [
    "def log_clip(x):\n",
    "    return torch.log(torch.clamp(x, 1e-10, None))"
   ]
  },
  {
   "cell_type": "markdown",
   "id": "ce3c7499",
   "metadata": {},
   "source": [
    "### Influence Calculation Functions\n"
   ]
  },
  {
   "cell_type": "code",
   "execution_count": 7,
   "id": "6cc60cd5",
   "metadata": {},
   "outputs": [],
   "source": [
    "def calc_influence_single(model, epsilon, train_data, test_data, device, rec_depth, r, damp, scale):\n",
    "    \n",
    "        x_test, y_test = test_data[1], test_data[2]\n",
    "        x_test = test_data[0].collate_fn([x_test])\n",
    "        y_test = test_data[0].collate_fn([y_test])\n",
    "        \n",
    "        s_test_vec = s_test_sample(model, train_data, [x_test, y_test], device, rec_depth, r, damp, scale)\n",
    "\n",
    "        # Calculate the influence function\n",
    "        train_dataset_size = len(train_data[0].dataset)\n",
    "        y_perts = []\n",
    "\n",
    "        for i, y_ in enumerate(train_data[2]):\n",
    "            y_pert = randomize_resp(y_, epsilon)\n",
    "            y_perts.append(y_pert)\n",
    "\n",
    "        time_a = datetime.datetime.now()\n",
    "\n",
    "        grad_z_vec = grad_training([train_data[1], train_data[2]], y_perts, model, device)\n",
    "\n",
    "        time_b = datetime.datetime.now()\n",
    "        time_delta = time_b - time_a\n",
    "        logging.info(f\"Time for grad_z iter:\" f\" {time_delta.total_seconds() * 1000}\")\n",
    "\n",
    "        with torch.no_grad():\n",
    "            influence = sum([torch.sum(k * j).data for k, j in zip(grad_z_vec, s_test_vec)])\n",
    "\n",
    "        return influence.cpu(), y_perts"
   ]
  },
  {
   "cell_type": "code",
   "execution_count": 8,
   "id": "e371a36b",
   "metadata": {},
   "outputs": [],
   "source": [
    "def s_test_sample(model, train_data, test_data, device, rec_depth, r, damp, scale):\n",
    "\n",
    "    inverse_hvp = [torch.zeros_like(params, dtype=torch.float) for params in model.parameters()]\n",
    "\n",
    "    for i in range(r):\n",
    "\n",
    "        hessian_loader = DataLoader(train_data[0].dataset, sampler=torch.utils.data.RandomSampler(train_data[0].dataset, True, num_samples=rec_depth),batch_size=1,num_workers=4,)\n",
    "\n",
    "        cur_estimate = s_test(test_data, model, i, hessian_loader, device, damp, scale)\n",
    "\n",
    "        with torch.no_grad():\n",
    "            inverse_hvp = [old + (cur / scale) for old, cur in zip(inverse_hvp, cur_estimate)]\n",
    "\n",
    "    with torch.no_grad():\n",
    "        inverse_hvp = [component / r for component in inverse_hvp]\n",
    "\n",
    "    return inverse_hvp"
   ]
  },
  {
   "cell_type": "code",
   "execution_count": 9,
   "id": "6f2e41c9",
   "metadata": {},
   "outputs": [],
   "source": [
    "def grad_z(test_data, model, device):\n",
    "\n",
    "    model.eval()\n",
    "\n",
    "    test_data_features = test_data[0]\n",
    "    test_data_labels = test_data[1]\n",
    "\n",
    "    logits = model(test_data_features)\n",
    "    prediction = torch.sigmoid(logits)\n",
    "    loss = -torch.mean(test_data_labels * log_clip(prediction) + (1 - test_data_labels) * log_clip(1 - prediction))\n",
    "    \n",
    "    return grad(loss, model.parameters())"
   ]
  },
  {
   "cell_type": "code",
   "execution_count": 10,
   "id": "38ac6b34",
   "metadata": {},
   "outputs": [],
   "source": [
    "def grad_training(train_data, y_perts, model, device):\n",
    "    \n",
    "    model.eval()\n",
    "\n",
    "    train_data_features = torch.FloatTensor(train_data[0]).to(device)\n",
    "    train_data_labels = torch.FloatTensor(train_data[1]).to(device)\n",
    "    train_pert_data_labels = torch.FloatTensor(y_perts).to(device)\n",
    "\n",
    "    logits = model(train_data_features)\n",
    "    prediction = torch.sigmoid(logits)\n",
    "    orig_loss = -torch.mean(train_data_labels * log_clip(prediction) + (1 - train_data_labels) * log_clip(1 - prediction))\n",
    "    pert_loss = -torch.mean(train_pert_data_labels * log_clip(prediction) + (1 - train_pert_data_labels) * log_clip(1 - prediction))\n",
    "    \n",
    "    loss = (pert_loss -  orig_loss)\n",
    "    \n",
    "    return grad(loss, model.parameters())"
   ]
  },
  {
   "cell_type": "code",
   "execution_count": 11,
   "id": "956886b6",
   "metadata": {},
   "outputs": [],
   "source": [
    "def s_test(test_data, model, i, hessian_loader, device, damp, scale):\n",
    "\n",
    "    v = grad_z(test_data, model, device)\n",
    "    h_estimate = v\n",
    "\n",
    "    params, names = make_functional(model)\n",
    "    params = tuple(p.detach().requires_grad_() for p in params)\n",
    "\n",
    "    progress_bar = tqdm(hessian_loader, desc=f\"IHVP sample {i}\")\n",
    "    for i, (x_train, y_train) in enumerate(progress_bar):\n",
    "\n",
    "        x_train, y_train = x_train.type(torch.FloatTensor).to(device), y_train.type(torch.FloatTensor).to(device)\n",
    "\n",
    "        def f(*new_params):\n",
    "            load_weights(model, names, new_params)\n",
    "            out = model(x_train)\n",
    "            loss = calc_loss(out, y_train)\n",
    "            return loss\n",
    "\n",
    "        hv = vhp(f, params, tuple(h_estimate), strict=True)[1]\n",
    "\n",
    "        # Recursively calculate h_estimate\n",
    "        \n",
    "        # Influence = grad(x_test)^T*(H_1 + lambda*I)*\\sum grad(x_train)\n",
    "        with torch.no_grad():\n",
    "            h_estimate = [_v + (1 - damp) * _h_e - _hv / scale for _v, _h_e, _hv in zip(v, h_estimate, hv)]\n",
    "\n",
    "            if i % 100 == 0:\n",
    "                norm = sum([h_.norm() for h_ in h_estimate])\n",
    "                progress_bar.set_postfix({\"est_norm\": norm.item()})\n",
    "\n",
    "    with torch.no_grad():\n",
    "        load_weights(model, names, params, as_params=True)\n",
    "\n",
    "    return h_estimate\n"
   ]
  },
  {
   "cell_type": "code",
   "execution_count": 12,
   "id": "1b8e23c9",
   "metadata": {},
   "outputs": [],
   "source": [
    "def calc_loss(logits, labels):\n",
    "    preds = torch.sigmoid(logits)\n",
    "    loss = -torch.mean(labels * log_clip(preds) + (1 - labels) * log_clip(1 - preds))\n",
    "\n",
    "    return loss"
   ]
  },
  {
   "cell_type": "code",
   "execution_count": 13,
   "id": "e1413935",
   "metadata": {},
   "outputs": [],
   "source": [
    "def make_functional(model):\n",
    "    orig_params = tuple(model.parameters())\n",
    "\n",
    "    names = []\n",
    "\n",
    "    for name, p in list(model.named_parameters()):\n",
    "        del_attr(model, name.split(\".\"))\n",
    "        names.append(name)\n",
    "\n",
    "    return orig_params, names"
   ]
  },
  {
   "cell_type": "code",
   "execution_count": 14,
   "id": "0232f0a3",
   "metadata": {},
   "outputs": [],
   "source": [
    "def del_attr(obj, names):\n",
    "    if len(names) == 1:\n",
    "        delattr(obj, names[0])\n",
    "    else:\n",
    "        del_attr(getattr(obj, names[0]), names[1:])"
   ]
  },
  {
   "cell_type": "code",
   "execution_count": 15,
   "id": "a98806be",
   "metadata": {},
   "outputs": [],
   "source": [
    "def set_attr(obj, names, val):\n",
    "    if len(names) == 1:\n",
    "        setattr(obj, names[0], val)\n",
    "    else:\n",
    "        set_attr(getattr(obj, names[0]), names[1:], val)"
   ]
  },
  {
   "cell_type": "code",
   "execution_count": 16,
   "id": "37c996a7",
   "metadata": {},
   "outputs": [],
   "source": [
    "def load_weights(model, names, params, as_params=False):\n",
    "    for name, p in zip(names, params):\n",
    "        if not as_params:\n",
    "            set_attr(model, name.split(\".\"), p)\n",
    "        else:\n",
    "            set_attr(model, name.split(\".\"), torch.nn.Parameter(p))"
   ]
  },
  {
   "cell_type": "markdown",
   "id": "a2f72f48",
   "metadata": {},
   "source": [
    "### Perform Influence Calculation and LOO"
   ]
  },
  {
   "cell_type": "code",
   "execution_count": 17,
   "id": "fe081fed",
   "metadata": {},
   "outputs": [],
   "source": [
    "class TestLeaveOneOut():\n",
    "    def test_leave_one_out(self, epsilon, weight_decay, rec_depth, r, scale, damp):\n",
    "\n",
    "        num_features, train_data, test_data = get_data_adult()\n",
    "\n",
    "        device = 'cuda:5' if torch.cuda.is_available() else 'cpu'\n",
    "\n",
    "        train_sample_num = len(train_data[1])\n",
    "\n",
    "        train_dataset = CreateData(train_data[0], train_data[1])\n",
    "        train_loader = torch.utils.data.DataLoader(train_dataset, batch_size=1, shuffle=False)\n",
    "\n",
    "        # prepare sklearn model to train w\n",
    "        C = 1.0 / (train_sample_num * weight_decay)\n",
    "        sklearn_model = linear_model.LogisticRegression(C=C, solver='lbfgs', tol=1e-8, fit_intercept=False)\n",
    "\n",
    "        # prepare pytorch model to compute influence function\n",
    "        torch_model = LogisticRegression(num_features, weight_decay, device)\n",
    "\n",
    "        # train\n",
    "        sklearn_model.fit(train_data[0], train_data[1])\n",
    "        pred_logr = sklearn_model.predict(test_data[0])\n",
    "        score = accuracy_score(test_data[1], pred_logr)\n",
    "        print(f'lbfgs training took {sklearn_model.n_iter_} iter. Accuracy: {score:0.3f}'  )\n",
    "\n",
    "        # assign W into pytorch model\n",
    "        w_opt = sklearn_model.coef_.ravel()\n",
    "        with torch.no_grad():\n",
    "            torch_model.w = torch.nn.Parameter(\n",
    "                torch.tensor(w_opt, dtype=torch.float)\n",
    "            )\n",
    "        torch_model = torch_model.to(device)\n",
    "        \n",
    "        # calculate original loss\n",
    "        x_test_input = torch.FloatTensor(test_data[0][500:501]).to(device)\n",
    "        y_test_input = torch.LongTensor(test_data[1])[500:501].to(device)\n",
    "\n",
    "        test_dataset = CreateData(test_data[0][500], test_data[1][500])\n",
    "        test_loader = torch.utils.data.DataLoader(test_dataset, batch_size=1, shuffle=False)\n",
    "      \n",
    "        test_loss_ori = torch_model.loss(torch_model(x_test_input), y_test_input).detach().cpu().numpy()\n",
    "\n",
    "        loss_diff_approx, train_data_perts = calc_influence_single(torch_model, epsilon, [train_loader, train_data[0], train_data[1]], [test_loader, x_test_input, y_test_input], device, rec_depth, r, damp, scale)\n",
    "        \n",
    "        loss_diff_approx = - torch.FloatTensor(loss_diff_approx).cpu().numpy()\n",
    "        \n",
    "#         for i in tqdm(range(len(train_data_perts))):\n",
    "#             x = train_data[0][i]\n",
    "#             x_pert = [randomize_resp(x_, epsilon) for x_ in x]\n",
    "#             train_data_perts[i] = x_pert\n",
    "\n",
    "\n",
    "        # retrain\n",
    "        sklearn_model_pert = linear_model.LogisticRegression(C=C, fit_intercept=False, tol=1e-8, solver='lbfgs')\n",
    "        sklearn_model_pert.fit(train_data[0], train_data_perts)\n",
    "        \n",
    "        pred_logr = sklearn_model_pert.predict(test_data[0])\n",
    "        score = accuracy_score(test_data[1], pred_logr)\n",
    "        print(f'Perturbation lbfgs training took {sklearn_model_pert.n_iter_} iter. Accuracy: {score:0.3f}'  )\n",
    "       \n",
    "        w_retrain = sklearn_model_pert.coef_.T.ravel()\n",
    "        with torch.no_grad():\n",
    "            torch_model.w = torch.nn.Parameter(\n",
    "                torch.tensor(w_retrain, dtype=torch.float)\n",
    "            )\n",
    "\n",
    "        torch_model = torch_model.to(device)\n",
    "\n",
    "        # get retrain loss\n",
    "        test_loss_retrain = torch_model.loss(torch_model(x_test_input), y_test_input).detach().cpu().numpy()\n",
    "\n",
    "        # get true loss diff\n",
    "        loss_diff_true = test_loss_retrain - test_loss_ori\n",
    "        \n",
    "        est_loss_diff = loss_diff_approx\n",
    "        avg_loss_diff = loss_diff_true\n",
    "     \n",
    "        print('Real avg. loss diff: ', avg_loss_diff, 'Est. avg. loss diff: ', est_loss_diff)\n",
    "        \n",
    "        return avg_loss_diff, est_loss_diff"
   ]
  },
  {
   "cell_type": "code",
   "execution_count": 18,
   "id": "bd5b9aba",
   "metadata": {},
   "outputs": [],
   "source": [
    "def visualize_result(actual_loss_diff, estimated_loss_diff):\n",
    "    r2_s = r2_score(actual_loss_diff, estimated_loss_diff)\n",
    "\n",
    "    max_abs = np.max([np.abs(actual_loss_diff), np.abs(estimated_loss_diff)])\n",
    "    min_, max_ = -max_abs * 1.1, max_abs * 1.1\n",
    "    plt.rcParams['figure.figsize'] = 6, 5\n",
    "    plt.scatter(actual_loss_diff, estimated_loss_diff, zorder=2, s=10)\n",
    "    plt.title('Loss diff Pert.')\n",
    "    plt.xlabel('Actual loss diff')\n",
    "    plt.ylabel('Estimated loss diff')\n",
    "    range_ = [min_, max_]\n",
    "    plt.plot(range_, range_, 'k-', alpha=0.2, zorder=1)\n",
    "    text = 'MAE = {:.03}\\nR2 score = {:.03}'.format(mean_absolute_error(actual_loss_diff, estimated_loss_diff),\n",
    "                                                    r2_s)\n",
    "    plt.text(max_abs, -max_abs, text, verticalalignment='bottom', horizontalalignment='right')\n",
    "    plt.xlim(min_, max_)\n",
    "    plt.ylim(min_, max_)\n",
    "\n",
    "    plt.savefig(\"result.png\")\n",
    "\n",
    "    return r2_s"
   ]
  },
  {
   "cell_type": "code",
   "execution_count": 19,
   "id": "391d9b94",
   "metadata": {
    "scrolled": false
   },
   "outputs": [
    {
     "name": "stdout",
     "output_type": "stream",
     "text": [
      "Working on epsilon:  0.001\n",
      "lbfgs training took [21] iter. Accuracy: 0.868\n"
     ]
    },
    {
     "name": "stderr",
     "output_type": "stream",
     "text": [
      "IHVP sample 0: 100%|██████████| 5350/5350 [00:17<00:00, 300.54it/s, est_norm=18]\n",
      "IHVP sample 1: 100%|████████| 5350/5350 [00:17<00:00, 304.32it/s, est_norm=19.3]\n",
      "IHVP sample 2: 100%|████████| 5350/5350 [00:17<00:00, 302.92it/s, est_norm=20.7]\n",
      "IHVP sample 3: 100%|████████| 5350/5350 [00:17<00:00, 306.98it/s, est_norm=16.8]\n",
      "IHVP sample 4: 100%|████████| 5350/5350 [00:17<00:00, 306.84it/s, est_norm=18.2]\n"
     ]
    },
    {
     "name": "stdout",
     "output_type": "stream",
     "text": [
      "Perturbation lbfgs training took [13] iter. Accuracy: 0.457\n",
      "Real avg. loss diff:  0.55000997 Est. avg. loss diff:  0.38316202\n",
      "Working on epsilon:  0.005\n",
      "lbfgs training took [21] iter. Accuracy: 0.868\n"
     ]
    },
    {
     "name": "stderr",
     "output_type": "stream",
     "text": [
      "IHVP sample 0: 100%|████████| 5350/5350 [00:17<00:00, 306.30it/s, est_norm=19.2]\n",
      "IHVP sample 1: 100%|████████| 5350/5350 [00:16<00:00, 331.19it/s, est_norm=20.5]\n",
      "IHVP sample 2: 100%|████████| 5350/5350 [00:17<00:00, 311.43it/s, est_norm=18.8]\n",
      "IHVP sample 3: 100%|██████████| 5350/5350 [00:16<00:00, 325.89it/s, est_norm=19]\n",
      "IHVP sample 4: 100%|████████| 5350/5350 [00:17<00:00, 298.52it/s, est_norm=18.1]\n"
     ]
    },
    {
     "name": "stdout",
     "output_type": "stream",
     "text": [
      "Perturbation lbfgs training took [16] iter. Accuracy: 0.493\n",
      "Real avg. loss diff:  0.5462799 Est. avg. loss diff:  0.30175787\n",
      "Working on epsilon:  0.01\n",
      "lbfgs training took [21] iter. Accuracy: 0.868\n"
     ]
    },
    {
     "name": "stderr",
     "output_type": "stream",
     "text": [
      "IHVP sample 0: 100%|████████| 5350/5350 [00:17<00:00, 300.25it/s, est_norm=17.6]\n",
      "IHVP sample 1: 100%|████████| 5350/5350 [00:16<00:00, 323.80it/s, est_norm=17.7]\n",
      "IHVP sample 2: 100%|████████| 5350/5350 [00:17<00:00, 301.34it/s, est_norm=20.8]\n",
      "IHVP sample 3: 100%|██████████| 5350/5350 [00:17<00:00, 301.70it/s, est_norm=19]\n",
      "IHVP sample 4: 100%|██████████| 5350/5350 [00:17<00:00, 314.46it/s, est_norm=20]\n"
     ]
    },
    {
     "name": "stdout",
     "output_type": "stream",
     "text": [
      "Perturbation lbfgs training took [16] iter. Accuracy: 0.458\n",
      "Real avg. loss diff:  0.5546694 Est. avg. loss diff:  0.34404048\n",
      "Working on epsilon:  0.05\n",
      "lbfgs training took [21] iter. Accuracy: 0.868\n"
     ]
    },
    {
     "name": "stderr",
     "output_type": "stream",
     "text": [
      "IHVP sample 0: 100%|████████| 5350/5350 [00:16<00:00, 330.02it/s, est_norm=19.2]\n",
      "IHVP sample 1: 100%|████████| 5350/5350 [00:17<00:00, 302.67it/s, est_norm=16.8]\n",
      "IHVP sample 2: 100%|████████| 5350/5350 [00:17<00:00, 298.34it/s, est_norm=18.5]\n",
      "IHVP sample 3: 100%|██████████| 5350/5350 [00:16<00:00, 325.17it/s, est_norm=19]\n",
      "IHVP sample 4: 100%|████████| 5350/5350 [00:16<00:00, 326.10it/s, est_norm=18.6]\n"
     ]
    },
    {
     "name": "stdout",
     "output_type": "stream",
     "text": [
      "Perturbation lbfgs training took [18] iter. Accuracy: 0.814\n",
      "Real avg. loss diff:  0.5154588 Est. avg. loss diff:  0.3190121\n",
      "Working on epsilon:  0.1\n",
      "lbfgs training took [21] iter. Accuracy: 0.868\n"
     ]
    },
    {
     "name": "stderr",
     "output_type": "stream",
     "text": [
      "IHVP sample 0: 100%|████████| 5350/5350 [00:17<00:00, 304.74it/s, est_norm=20.2]\n",
      "IHVP sample 1: 100%|████████| 5350/5350 [00:15<00:00, 337.01it/s, est_norm=18.3]\n",
      "IHVP sample 2: 100%|████████| 5350/5350 [00:15<00:00, 340.81it/s, est_norm=19.1]\n",
      "IHVP sample 3: 100%|████████| 5350/5350 [00:18<00:00, 294.80it/s, est_norm=18.7]\n",
      "IHVP sample 4: 100%|████████| 5350/5350 [00:17<00:00, 307.99it/s, est_norm=18.3]\n"
     ]
    },
    {
     "name": "stdout",
     "output_type": "stream",
     "text": [
      "Perturbation lbfgs training took [18] iter. Accuracy: 0.822\n",
      "Real avg. loss diff:  0.5153254 Est. avg. loss diff:  0.39772886\n",
      "Working on epsilon:  0.15\n",
      "lbfgs training took [21] iter. Accuracy: 0.868\n"
     ]
    },
    {
     "name": "stderr",
     "output_type": "stream",
     "text": [
      "IHVP sample 0: 100%|████████| 5350/5350 [00:15<00:00, 336.90it/s, est_norm=18.7]\n",
      "IHVP sample 1: 100%|████████| 5350/5350 [00:16<00:00, 331.03it/s, est_norm=19.5]\n",
      "IHVP sample 2: 100%|████████| 5350/5350 [00:18<00:00, 289.72it/s, est_norm=18.6]\n",
      "IHVP sample 3: 100%|████████| 5350/5350 [00:15<00:00, 346.47it/s, est_norm=18.6]\n",
      "IHVP sample 4: 100%|████████| 5350/5350 [00:18<00:00, 289.04it/s, est_norm=20.7]\n"
     ]
    },
    {
     "name": "stdout",
     "output_type": "stream",
     "text": [
      "Perturbation lbfgs training took [18] iter. Accuracy: 0.840\n",
      "Real avg. loss diff:  0.4929448 Est. avg. loss diff:  0.31992766\n",
      "Working on epsilon:  0.2\n",
      "lbfgs training took [21] iter. Accuracy: 0.868\n"
     ]
    },
    {
     "name": "stderr",
     "output_type": "stream",
     "text": [
      "IHVP sample 0: 100%|████████| 5350/5350 [00:17<00:00, 311.04it/s, est_norm=18.7]\n",
      "IHVP sample 1: 100%|████████| 5350/5350 [00:18<00:00, 294.93it/s, est_norm=19.9]\n",
      "IHVP sample 2: 100%|████████| 5350/5350 [00:17<00:00, 304.12it/s, est_norm=18.4]\n",
      "IHVP sample 3: 100%|████████| 5350/5350 [00:18<00:00, 296.44it/s, est_norm=20.1]\n",
      "IHVP sample 4: 100%|██████████| 5350/5350 [00:17<00:00, 307.09it/s, est_norm=20]\n"
     ]
    },
    {
     "name": "stdout",
     "output_type": "stream",
     "text": [
      "Perturbation lbfgs training took [20] iter. Accuracy: 0.868\n",
      "Real avg. loss diff:  0.49465236 Est. avg. loss diff:  0.31095713\n",
      "Working on epsilon:  0.25\n",
      "lbfgs training took [21] iter. Accuracy: 0.868\n"
     ]
    },
    {
     "name": "stderr",
     "output_type": "stream",
     "text": [
      "IHVP sample 0: 100%|██████████| 5350/5350 [00:16<00:00, 326.52it/s, est_norm=19]\n",
      "IHVP sample 1: 100%|████████| 5350/5350 [00:17<00:00, 303.10it/s, est_norm=19.5]\n",
      "IHVP sample 2: 100%|████████| 5350/5350 [00:17<00:00, 303.64it/s, est_norm=18.4]\n",
      "IHVP sample 3: 100%|████████| 5350/5350 [00:16<00:00, 327.32it/s, est_norm=21.3]\n",
      "IHVP sample 4: 100%|████████| 5350/5350 [00:16<00:00, 329.09it/s, est_norm=18.6]\n"
     ]
    },
    {
     "name": "stdout",
     "output_type": "stream",
     "text": [
      "Perturbation lbfgs training took [20] iter. Accuracy: 0.867\n",
      "Real avg. loss diff:  0.46673426 Est. avg. loss diff:  0.304345\n",
      "Working on epsilon:  0.3\n",
      "lbfgs training took [21] iter. Accuracy: 0.868\n"
     ]
    },
    {
     "name": "stderr",
     "output_type": "stream",
     "text": [
      "IHVP sample 0: 100%|████████| 5350/5350 [00:18<00:00, 295.63it/s, est_norm=18.1]\n",
      "IHVP sample 1: 100%|████████| 5350/5350 [00:18<00:00, 281.68it/s, est_norm=19.6]\n",
      "IHVP sample 2: 100%|████████| 5350/5350 [00:17<00:00, 300.92it/s, est_norm=19.3]\n",
      "IHVP sample 3: 100%|████████| 5350/5350 [00:17<00:00, 303.64it/s, est_norm=19.1]\n",
      "IHVP sample 4: 100%|████████| 5350/5350 [00:16<00:00, 326.51it/s, est_norm=19.7]\n"
     ]
    },
    {
     "name": "stdout",
     "output_type": "stream",
     "text": [
      "Perturbation lbfgs training took [19] iter. Accuracy: 0.868\n",
      "Real avg. loss diff:  0.45583007 Est. avg. loss diff:  0.3132036\n",
      "Working on epsilon:  0.35\n",
      "lbfgs training took [21] iter. Accuracy: 0.868\n"
     ]
    },
    {
     "name": "stderr",
     "output_type": "stream",
     "text": [
      "IHVP sample 0: 100%|██████████| 5350/5350 [00:17<00:00, 306.64it/s, est_norm=18]\n",
      "IHVP sample 1: 100%|████████| 5350/5350 [00:16<00:00, 317.53it/s, est_norm=17.6]\n",
      "IHVP sample 2: 100%|████████| 5350/5350 [00:17<00:00, 299.50it/s, est_norm=19.1]\n",
      "IHVP sample 3: 100%|████████| 5350/5350 [00:17<00:00, 301.39it/s, est_norm=18.2]\n",
      "IHVP sample 4: 100%|██████████| 5350/5350 [00:17<00:00, 299.88it/s, est_norm=20]\n"
     ]
    },
    {
     "name": "stdout",
     "output_type": "stream",
     "text": [
      "Perturbation lbfgs training took [18] iter. Accuracy: 0.868\n",
      "Real avg. loss diff:  0.41811416 Est. avg. loss diff:  0.27486312\n",
      "Working on epsilon:  0.4\n",
      "lbfgs training took [21] iter. Accuracy: 0.868\n"
     ]
    },
    {
     "name": "stderr",
     "output_type": "stream",
     "text": [
      "IHVP sample 0: 100%|████████| 5350/5350 [00:16<00:00, 318.37it/s, est_norm=19.8]\n",
      "IHVP sample 1: 100%|████████| 5350/5350 [00:17<00:00, 301.42it/s, est_norm=17.6]\n",
      "IHVP sample 2: 100%|████████| 5350/5350 [00:18<00:00, 283.37it/s, est_norm=19.6]\n",
      "IHVP sample 3: 100%|████████| 5350/5350 [00:17<00:00, 297.59it/s, est_norm=19.6]\n",
      "IHVP sample 4: 100%|████████| 5350/5350 [00:18<00:00, 296.43it/s, est_norm=20.2]\n"
     ]
    },
    {
     "name": "stdout",
     "output_type": "stream",
     "text": [
      "Perturbation lbfgs training took [18] iter. Accuracy: 0.867\n",
      "Real avg. loss diff:  0.41400483 Est. avg. loss diff:  0.29430264\n",
      "Working on epsilon:  0.45\n",
      "lbfgs training took [21] iter. Accuracy: 0.868\n"
     ]
    },
    {
     "name": "stderr",
     "output_type": "stream",
     "text": [
      "IHVP sample 0: 100%|████████| 5350/5350 [00:18<00:00, 284.95it/s, est_norm=19.2]\n",
      "IHVP sample 1: 100%|██████████| 5350/5350 [00:17<00:00, 313.61it/s, est_norm=18]\n",
      "IHVP sample 2: 100%|████████| 5350/5350 [00:18<00:00, 294.95it/s, est_norm=18.6]\n",
      "IHVP sample 3: 100%|████████| 5350/5350 [00:17<00:00, 301.91it/s, est_norm=20.7]\n",
      "IHVP sample 4: 100%|████████| 5350/5350 [00:15<00:00, 337.59it/s, est_norm=19.1]\n"
     ]
    },
    {
     "name": "stdout",
     "output_type": "stream",
     "text": [
      "Perturbation lbfgs training took [19] iter. Accuracy: 0.868\n",
      "Real avg. loss diff:  0.39751318 Est. avg. loss diff:  0.2669468\n",
      "Working on epsilon:  0.5\n",
      "lbfgs training took [21] iter. Accuracy: 0.868\n"
     ]
    },
    {
     "name": "stderr",
     "output_type": "stream",
     "text": [
      "IHVP sample 0: 100%|████████| 5350/5350 [00:17<00:00, 310.58it/s, est_norm=19.2]\n",
      "IHVP sample 1: 100%|████████| 5350/5350 [00:18<00:00, 292.65it/s, est_norm=19.9]\n",
      "IHVP sample 2: 100%|████████| 5350/5350 [00:16<00:00, 330.99it/s, est_norm=19.1]\n",
      "IHVP sample 3: 100%|████████| 5350/5350 [00:17<00:00, 303.74it/s, est_norm=18.3]\n",
      "IHVP sample 4: 100%|██████████| 5350/5350 [00:17<00:00, 303.56it/s, est_norm=21]\n"
     ]
    },
    {
     "name": "stdout",
     "output_type": "stream",
     "text": [
      "Perturbation lbfgs training took [17] iter. Accuracy: 0.868\n",
      "Real avg. loss diff:  0.36768654 Est. avg. loss diff:  0.2753593\n",
      "Working on epsilon:  0.55\n",
      "lbfgs training took [21] iter. Accuracy: 0.868\n"
     ]
    },
    {
     "name": "stderr",
     "output_type": "stream",
     "text": [
      "IHVP sample 0: 100%|████████| 5350/5350 [00:17<00:00, 307.81it/s, est_norm=20.1]\n",
      "IHVP sample 1: 100%|████████| 5350/5350 [00:17<00:00, 303.05it/s, est_norm=19.4]\n",
      "IHVP sample 2: 100%|████████| 5350/5350 [00:17<00:00, 297.49it/s, est_norm=18.9]\n",
      "IHVP sample 3: 100%|████████| 5350/5350 [00:17<00:00, 299.51it/s, est_norm=18.4]\n",
      "IHVP sample 4: 100%|████████| 5350/5350 [00:17<00:00, 305.33it/s, est_norm=17.8]\n"
     ]
    },
    {
     "name": "stdout",
     "output_type": "stream",
     "text": [
      "Perturbation lbfgs training took [18] iter. Accuracy: 0.868\n",
      "Real avg. loss diff:  0.34888712 Est. avg. loss diff:  0.27416214\n",
      "Working on epsilon:  0.6\n",
      "lbfgs training took [21] iter. Accuracy: 0.868\n"
     ]
    },
    {
     "name": "stderr",
     "output_type": "stream",
     "text": [
      "IHVP sample 0: 100%|██████████| 5350/5350 [00:17<00:00, 301.46it/s, est_norm=18]\n",
      "IHVP sample 1: 100%|████████| 5350/5350 [00:17<00:00, 301.69it/s, est_norm=18.6]\n",
      "IHVP sample 2: 100%|██████████| 5350/5350 [00:17<00:00, 299.62it/s, est_norm=20]\n",
      "IHVP sample 3: 100%|██████████| 5350/5350 [00:18<00:00, 295.16it/s, est_norm=19]\n",
      "IHVP sample 4: 100%|████████| 5350/5350 [00:16<00:00, 323.79it/s, est_norm=19.4]\n"
     ]
    },
    {
     "name": "stdout",
     "output_type": "stream",
     "text": [
      "Perturbation lbfgs training took [17] iter. Accuracy: 0.868\n",
      "Real avg. loss diff:  0.35546628 Est. avg. loss diff:  0.28019947\n",
      "Working on epsilon:  0.65\n",
      "lbfgs training took [21] iter. Accuracy: 0.868\n"
     ]
    },
    {
     "name": "stderr",
     "output_type": "stream",
     "text": [
      "IHVP sample 0: 100%|████████| 5350/5350 [00:17<00:00, 302.44it/s, est_norm=20.4]\n",
      "IHVP sample 1: 100%|████████| 5350/5350 [00:17<00:00, 304.50it/s, est_norm=18.8]\n",
      "IHVP sample 2: 100%|████████| 5350/5350 [00:17<00:00, 312.83it/s, est_norm=18.8]\n",
      "IHVP sample 3: 100%|████████| 5350/5350 [00:17<00:00, 298.40it/s, est_norm=18.7]\n",
      "IHVP sample 4: 100%|████████| 5350/5350 [00:15<00:00, 349.42it/s, est_norm=20.1]\n"
     ]
    },
    {
     "name": "stdout",
     "output_type": "stream",
     "text": [
      "Perturbation lbfgs training took [18] iter. Accuracy: 0.868\n",
      "Real avg. loss diff:  0.33981565 Est. avg. loss diff:  0.2117669\n",
      "Working on epsilon:  0.7\n",
      "lbfgs training took [21] iter. Accuracy: 0.868\n"
     ]
    },
    {
     "name": "stderr",
     "output_type": "stream",
     "text": [
      "IHVP sample 0: 100%|████████| 5350/5350 [00:17<00:00, 300.18it/s, est_norm=18.4]\n",
      "IHVP sample 1: 100%|████████| 5350/5350 [00:17<00:00, 301.19it/s, est_norm=18.8]\n",
      "IHVP sample 2: 100%|████████| 5350/5350 [00:17<00:00, 303.56it/s, est_norm=18.9]\n",
      "IHVP sample 3: 100%|████████| 5350/5350 [00:17<00:00, 313.51it/s, est_norm=18.9]\n",
      "IHVP sample 4: 100%|████████| 5350/5350 [00:17<00:00, 300.14it/s, est_norm=19.9]\n"
     ]
    },
    {
     "name": "stdout",
     "output_type": "stream",
     "text": [
      "Perturbation lbfgs training took [17] iter. Accuracy: 0.868\n",
      "Real avg. loss diff:  0.32833824 Est. avg. loss diff:  0.25494516\n",
      "Working on epsilon:  0.75\n",
      "lbfgs training took [21] iter. Accuracy: 0.868\n"
     ]
    },
    {
     "name": "stderr",
     "output_type": "stream",
     "text": [
      "IHVP sample 0: 100%|████████| 5350/5350 [00:18<00:00, 281.96it/s, est_norm=17.6]\n",
      "IHVP sample 1: 100%|██████████| 5350/5350 [00:17<00:00, 303.83it/s, est_norm=19]\n",
      "IHVP sample 2: 100%|████████| 5350/5350 [00:17<00:00, 299.95it/s, est_norm=18.9]\n",
      "IHVP sample 3: 100%|████████| 5350/5350 [00:17<00:00, 306.27it/s, est_norm=18.5]\n",
      "IHVP sample 4: 100%|████████| 5350/5350 [00:17<00:00, 309.10it/s, est_norm=19.2]\n"
     ]
    },
    {
     "name": "stdout",
     "output_type": "stream",
     "text": [
      "Perturbation lbfgs training took [13] iter. Accuracy: 0.868\n",
      "Real avg. loss diff:  0.3105881 Est. avg. loss diff:  0.2172962\n",
      "Working on epsilon:  0.8\n",
      "lbfgs training took [21] iter. Accuracy: 0.868\n"
     ]
    },
    {
     "name": "stderr",
     "output_type": "stream",
     "text": [
      "IHVP sample 0: 100%|████████| 5350/5350 [00:17<00:00, 304.05it/s, est_norm=20.6]\n",
      "IHVP sample 1: 100%|████████| 5350/5350 [00:16<00:00, 325.87it/s, est_norm=19.2]\n",
      "IHVP sample 2: 100%|████████| 5350/5350 [00:16<00:00, 324.03it/s, est_norm=19.2]\n",
      "IHVP sample 3: 100%|████████| 5350/5350 [00:17<00:00, 299.80it/s, est_norm=20.4]\n",
      "IHVP sample 4: 100%|████████| 5350/5350 [00:17<00:00, 298.15it/s, est_norm=19.3]\n"
     ]
    },
    {
     "name": "stdout",
     "output_type": "stream",
     "text": [
      "Perturbation lbfgs training took [17] iter. Accuracy: 0.868\n",
      "Real avg. loss diff:  0.3039091 Est. avg. loss diff:  0.1945598\n",
      "Working on epsilon:  0.85\n",
      "lbfgs training took [21] iter. Accuracy: 0.868\n"
     ]
    },
    {
     "name": "stderr",
     "output_type": "stream",
     "text": [
      "IHVP sample 0: 100%|████████| 5350/5350 [00:16<00:00, 323.81it/s, est_norm=20.3]\n",
      "IHVP sample 1: 100%|████████| 5350/5350 [00:17<00:00, 297.82it/s, est_norm=18.9]\n",
      "IHVP sample 2: 100%|████████| 5350/5350 [00:17<00:00, 300.18it/s, est_norm=19.7]\n",
      "IHVP sample 3: 100%|████████| 5350/5350 [00:18<00:00, 297.14it/s, est_norm=19.1]\n",
      "IHVP sample 4: 100%|████████| 5350/5350 [00:18<00:00, 291.99it/s, est_norm=18.7]\n"
     ]
    },
    {
     "name": "stdout",
     "output_type": "stream",
     "text": [
      "Perturbation lbfgs training took [18] iter. Accuracy: 0.868\n",
      "Real avg. loss diff:  0.2938612 Est. avg. loss diff:  0.18271515\n",
      "Working on epsilon:  0.9\n",
      "lbfgs training took [21] iter. Accuracy: 0.868\n"
     ]
    },
    {
     "name": "stderr",
     "output_type": "stream",
     "text": [
      "IHVP sample 0: 100%|████████| 5350/5350 [00:18<00:00, 295.87it/s, est_norm=19.2]\n",
      "IHVP sample 1: 100%|████████| 5350/5350 [00:17<00:00, 298.35it/s, est_norm=19.7]\n",
      "IHVP sample 2: 100%|████████| 5350/5350 [00:18<00:00, 295.12it/s, est_norm=18.1]\n",
      "IHVP sample 3: 100%|████████| 5350/5350 [00:18<00:00, 287.81it/s, est_norm=18.6]\n",
      "IHVP sample 4: 100%|████████| 5350/5350 [00:18<00:00, 294.32it/s, est_norm=19.5]\n"
     ]
    },
    {
     "name": "stdout",
     "output_type": "stream",
     "text": [
      "Perturbation lbfgs training took [16] iter. Accuracy: 0.868\n",
      "Real avg. loss diff:  0.24336478 Est. avg. loss diff:  0.19723268\n",
      "Working on epsilon:  0.95\n",
      "lbfgs training took [21] iter. Accuracy: 0.868\n"
     ]
    },
    {
     "name": "stderr",
     "output_type": "stream",
     "text": [
      "IHVP sample 0: 100%|████████| 5350/5350 [00:17<00:00, 300.46it/s, est_norm=18.2]\n",
      "IHVP sample 1: 100%|████████| 5350/5350 [00:17<00:00, 309.56it/s, est_norm=19.7]\n",
      "IHVP sample 2: 100%|████████| 5350/5350 [00:17<00:00, 304.56it/s, est_norm=18.8]\n",
      "IHVP sample 3: 100%|████████| 5350/5350 [00:17<00:00, 297.34it/s, est_norm=19.5]\n",
      "IHVP sample 4: 100%|████████| 5350/5350 [00:17<00:00, 299.61it/s, est_norm=19.7]\n"
     ]
    },
    {
     "name": "stdout",
     "output_type": "stream",
     "text": [
      "Perturbation lbfgs training took [16] iter. Accuracy: 0.868\n",
      "Real avg. loss diff:  0.27804977 Est. avg. loss diff:  0.18857628\n",
      "Working on epsilon:  1\n",
      "lbfgs training took [21] iter. Accuracy: 0.868\n"
     ]
    },
    {
     "name": "stderr",
     "output_type": "stream",
     "text": [
      "IHVP sample 0: 100%|████████| 5350/5350 [00:17<00:00, 298.37it/s, est_norm=18.3]\n",
      "IHVP sample 1: 100%|████████| 5350/5350 [00:17<00:00, 311.83it/s, est_norm=20.2]\n",
      "IHVP sample 2: 100%|██████████| 5350/5350 [00:18<00:00, 293.07it/s, est_norm=19]\n",
      "IHVP sample 3: 100%|████████| 5350/5350 [00:16<00:00, 321.77it/s, est_norm=18.6]\n",
      "IHVP sample 4: 100%|████████| 5350/5350 [00:18<00:00, 288.77it/s, est_norm=18.4]\n"
     ]
    },
    {
     "name": "stdout",
     "output_type": "stream",
     "text": [
      "Perturbation lbfgs training took [13] iter. Accuracy: 0.868\n",
      "Real avg. loss diff:  0.24767706 Est. avg. loss diff:  0.19136792\n",
      "Working on epsilon:  5\n",
      "lbfgs training took [21] iter. Accuracy: 0.868\n"
     ]
    },
    {
     "name": "stderr",
     "output_type": "stream",
     "text": [
      "IHVP sample 0: 100%|██████████| 5350/5350 [00:17<00:00, 297.25it/s, est_norm=18]\n",
      "IHVP sample 1: 100%|██████████| 5350/5350 [00:17<00:00, 302.90it/s, est_norm=20]\n",
      "IHVP sample 2: 100%|██████████| 5350/5350 [00:17<00:00, 298.62it/s, est_norm=19]\n",
      "IHVP sample 3: 100%|████████| 5350/5350 [00:17<00:00, 298.16it/s, est_norm=18.5]\n",
      "IHVP sample 4: 100%|████████| 5350/5350 [00:19<00:00, 280.25it/s, est_norm=19.5]\n"
     ]
    },
    {
     "name": "stdout",
     "output_type": "stream",
     "text": [
      "Perturbation lbfgs training took [20] iter. Accuracy: 0.868\n",
      "Real avg. loss diff:  0.007156402 Est. avg. loss diff:  0.0049365484\n",
      "Working on epsilon:  10\n",
      "lbfgs training took [21] iter. Accuracy: 0.868\n"
     ]
    },
    {
     "name": "stderr",
     "output_type": "stream",
     "text": [
      "IHVP sample 0: 100%|████████| 5350/5350 [00:17<00:00, 299.94it/s, est_norm=18.1]\n",
      "IHVP sample 1: 100%|██████████| 5350/5350 [00:17<00:00, 300.94it/s, est_norm=19]\n",
      "IHVP sample 2: 100%|████████| 5350/5350 [00:16<00:00, 327.92it/s, est_norm=19.6]\n",
      "IHVP sample 3: 100%|████████| 5350/5350 [00:17<00:00, 307.02it/s, est_norm=18.1]\n",
      "IHVP sample 4: 100%|████████| 5350/5350 [00:18<00:00, 292.04it/s, est_norm=18.6]\n"
     ]
    },
    {
     "name": "stdout",
     "output_type": "stream",
     "text": [
      "Perturbation lbfgs training took [21] iter. Accuracy: 0.868\n",
      "Real avg. loss diff:  0.00021597743 Est. avg. loss diff:  -2.0261848e-12\n",
      "Working on epsilon:  0.001\n",
      "lbfgs training took [21] iter. Accuracy: 0.868\n"
     ]
    },
    {
     "name": "stderr",
     "output_type": "stream",
     "text": [
      "IHVP sample 0: 100%|████████| 5350/5350 [00:17<00:00, 300.27it/s, est_norm=19.7]\n",
      "IHVP sample 1: 100%|████████| 5350/5350 [00:16<00:00, 330.73it/s, est_norm=18.7]\n",
      "IHVP sample 2: 100%|████████| 5350/5350 [00:17<00:00, 298.06it/s, est_norm=19.7]\n",
      "IHVP sample 3: 100%|████████| 5350/5350 [00:18<00:00, 292.49it/s, est_norm=20.6]\n",
      "IHVP sample 4: 100%|████████| 5350/5350 [00:17<00:00, 305.91it/s, est_norm=18.4]\n"
     ]
    },
    {
     "name": "stdout",
     "output_type": "stream",
     "text": [
      "Perturbation lbfgs training took [15] iter. Accuracy: 0.646\n",
      "Real avg. loss diff:  0.5178703 Est. avg. loss diff:  0.3722977\n",
      "Working on epsilon:  0.005\n",
      "lbfgs training took [21] iter. Accuracy: 0.868\n"
     ]
    },
    {
     "name": "stderr",
     "output_type": "stream",
     "text": [
      "IHVP sample 0: 100%|████████| 5350/5350 [00:19<00:00, 276.04it/s, est_norm=19.6]\n",
      "IHVP sample 1: 100%|████████| 5350/5350 [00:16<00:00, 322.30it/s, est_norm=20.7]\n",
      "IHVP sample 2: 100%|████████| 5350/5350 [00:18<00:00, 294.79it/s, est_norm=18.8]\n",
      "IHVP sample 3: 100%|████████| 5350/5350 [00:17<00:00, 302.37it/s, est_norm=19.7]\n",
      "IHVP sample 4: 100%|████████| 5350/5350 [00:17<00:00, 301.14it/s, est_norm=17.7]\n"
     ]
    },
    {
     "name": "stdout",
     "output_type": "stream",
     "text": [
      "Perturbation lbfgs training took [18] iter. Accuracy: 0.641\n",
      "Real avg. loss diff:  0.5264107 Est. avg. loss diff:  0.36036718\n",
      "Working on epsilon:  0.01\n",
      "lbfgs training took [21] iter. Accuracy: 0.868\n"
     ]
    },
    {
     "name": "stderr",
     "output_type": "stream",
     "text": [
      "IHVP sample 0: 100%|████████| 5350/5350 [00:17<00:00, 300.38it/s, est_norm=19.4]\n",
      "IHVP sample 1: 100%|████████| 5350/5350 [00:17<00:00, 301.36it/s, est_norm=19.2]\n",
      "IHVP sample 2: 100%|████████| 5350/5350 [00:16<00:00, 321.21it/s, est_norm=18.9]\n",
      "IHVP sample 3: 100%|████████| 5350/5350 [00:17<00:00, 310.90it/s, est_norm=19.8]\n",
      "IHVP sample 4: 100%|████████| 5350/5350 [00:18<00:00, 292.20it/s, est_norm=18.1]\n"
     ]
    },
    {
     "name": "stdout",
     "output_type": "stream",
     "text": [
      "Perturbation lbfgs training took [17] iter. Accuracy: 0.691\n",
      "Real avg. loss diff:  0.51086664 Est. avg. loss diff:  0.35737514\n",
      "Working on epsilon:  0.05\n",
      "lbfgs training took [21] iter. Accuracy: 0.868\n"
     ]
    },
    {
     "name": "stderr",
     "output_type": "stream",
     "text": [
      "IHVP sample 0: 100%|████████| 5350/5350 [00:19<00:00, 281.09it/s, est_norm=19.2]\n",
      "IHVP sample 1: 100%|████████| 5350/5350 [00:19<00:00, 272.52it/s, est_norm=18.7]\n",
      "IHVP sample 2: 100%|████████| 5350/5350 [00:17<00:00, 298.34it/s, est_norm=19.7]\n",
      "IHVP sample 3: 100%|████████| 5350/5350 [00:17<00:00, 300.44it/s, est_norm=19.8]\n",
      "IHVP sample 4: 100%|████████| 5350/5350 [00:18<00:00, 296.03it/s, est_norm=18.1]\n"
     ]
    },
    {
     "name": "stdout",
     "output_type": "stream",
     "text": [
      "Perturbation lbfgs training took [17] iter. Accuracy: 0.710\n",
      "Real avg. loss diff:  0.54894984 Est. avg. loss diff:  0.33450603\n",
      "Working on epsilon:  0.1\n",
      "lbfgs training took [21] iter. Accuracy: 0.868\n"
     ]
    },
    {
     "name": "stderr",
     "output_type": "stream",
     "text": [
      "IHVP sample 0: 100%|████████| 5350/5350 [00:17<00:00, 312.20it/s, est_norm=19.7]\n",
      "IHVP sample 1: 100%|████████| 5350/5350 [00:16<00:00, 318.20it/s, est_norm=18.6]\n",
      "IHVP sample 2: 100%|████████| 5350/5350 [00:18<00:00, 285.87it/s, est_norm=19.7]\n",
      "IHVP sample 3: 100%|████████| 5350/5350 [00:17<00:00, 300.75it/s, est_norm=19.2]\n",
      "IHVP sample 4: 100%|████████| 5350/5350 [00:17<00:00, 302.24it/s, est_norm=18.3]\n"
     ]
    },
    {
     "name": "stdout",
     "output_type": "stream",
     "text": [
      "Perturbation lbfgs training took [18] iter. Accuracy: 0.816\n",
      "Real avg. loss diff:  0.4920276 Est. avg. loss diff:  0.34864607\n",
      "Working on epsilon:  0.15\n",
      "lbfgs training took [21] iter. Accuracy: 0.868\n"
     ]
    },
    {
     "name": "stderr",
     "output_type": "stream",
     "text": [
      "IHVP sample 0: 100%|████████| 5350/5350 [00:17<00:00, 297.92it/s, est_norm=18.5]\n",
      "IHVP sample 1: 100%|████████| 5350/5350 [00:16<00:00, 333.43it/s, est_norm=19.2]\n",
      "IHVP sample 2: 100%|████████| 5350/5350 [00:18<00:00, 289.83it/s, est_norm=19.8]\n",
      "IHVP sample 3: 100%|████████| 5350/5350 [00:18<00:00, 295.25it/s, est_norm=18.6]\n",
      "IHVP sample 4: 100%|██████████| 5350/5350 [00:17<00:00, 297.40it/s, est_norm=18]\n"
     ]
    },
    {
     "name": "stdout",
     "output_type": "stream",
     "text": [
      "Perturbation lbfgs training took [18] iter. Accuracy: 0.846\n",
      "Real avg. loss diff:  0.5164367 Est. avg. loss diff:  0.32906896\n",
      "Working on epsilon:  0.2\n",
      "lbfgs training took [21] iter. Accuracy: 0.868\n"
     ]
    },
    {
     "name": "stderr",
     "output_type": "stream",
     "text": [
      "IHVP sample 0: 100%|████████| 5350/5350 [00:17<00:00, 298.73it/s, est_norm=18.3]\n",
      "IHVP sample 1: 100%|████████| 5350/5350 [00:17<00:00, 299.36it/s, est_norm=19.1]\n",
      "IHVP sample 2: 100%|████████| 5350/5350 [00:16<00:00, 333.45it/s, est_norm=19.8]\n",
      "IHVP sample 3: 100%|████████| 5350/5350 [00:17<00:00, 299.10it/s, est_norm=20.6]\n",
      "IHVP sample 4: 100%|████████| 5350/5350 [00:17<00:00, 313.16it/s, est_norm=18.5]\n"
     ]
    },
    {
     "name": "stdout",
     "output_type": "stream",
     "text": [
      "Perturbation lbfgs training took [17] iter. Accuracy: 0.865\n",
      "Real avg. loss diff:  0.49909565 Est. avg. loss diff:  0.27596998\n",
      "Working on epsilon:  0.25\n",
      "lbfgs training took [21] iter. Accuracy: 0.868\n"
     ]
    },
    {
     "name": "stderr",
     "output_type": "stream",
     "text": [
      "IHVP sample 0: 100%|████████| 5350/5350 [00:17<00:00, 304.74it/s, est_norm=18.6]\n",
      "IHVP sample 1: 100%|██████████| 5350/5350 [00:16<00:00, 322.63it/s, est_norm=19]\n",
      "IHVP sample 2: 100%|████████| 5350/5350 [00:16<00:00, 322.59it/s, est_norm=18.3]\n",
      "IHVP sample 3: 100%|████████| 5350/5350 [00:17<00:00, 298.97it/s, est_norm=18.9]\n",
      "IHVP sample 4: 100%|████████| 5350/5350 [00:17<00:00, 306.71it/s, est_norm=19.1]\n"
     ]
    },
    {
     "name": "stdout",
     "output_type": "stream",
     "text": [
      "Perturbation lbfgs training took [20] iter. Accuracy: 0.863\n",
      "Real avg. loss diff:  0.4480383 Est. avg. loss diff:  0.33233738\n",
      "Working on epsilon:  0.3\n",
      "lbfgs training took [21] iter. Accuracy: 0.868\n"
     ]
    },
    {
     "name": "stderr",
     "output_type": "stream",
     "text": [
      "IHVP sample 0: 100%|████████| 5350/5350 [00:17<00:00, 299.81it/s, est_norm=18.9]\n",
      "IHVP sample 1: 100%|████████| 5350/5350 [00:15<00:00, 337.81it/s, est_norm=19.7]\n",
      "IHVP sample 2: 100%|████████| 5350/5350 [00:16<00:00, 329.55it/s, est_norm=18.8]\n",
      "IHVP sample 3: 100%|████████| 5350/5350 [00:18<00:00, 295.77it/s, est_norm=19.3]\n",
      "IHVP sample 4: 100%|████████| 5350/5350 [00:18<00:00, 285.12it/s, est_norm=20.5]\n"
     ]
    },
    {
     "name": "stdout",
     "output_type": "stream",
     "text": [
      "Perturbation lbfgs training took [17] iter. Accuracy: 0.868\n",
      "Real avg. loss diff:  0.4605169 Est. avg. loss diff:  0.29635158\n",
      "Working on epsilon:  0.35\n",
      "lbfgs training took [21] iter. Accuracy: 0.868\n"
     ]
    },
    {
     "name": "stderr",
     "output_type": "stream",
     "text": [
      "IHVP sample 0: 100%|████████| 5350/5350 [00:17<00:00, 298.03it/s, est_norm=18.6]\n",
      "IHVP sample 1: 100%|████████| 5350/5350 [00:18<00:00, 296.97it/s, est_norm=17.8]\n",
      "IHVP sample 2: 100%|████████| 5350/5350 [00:18<00:00, 295.84it/s, est_norm=20.1]\n",
      "IHVP sample 3: 100%|████████| 5350/5350 [00:17<00:00, 298.65it/s, est_norm=19.9]\n",
      "IHVP sample 4: 100%|████████| 5350/5350 [00:16<00:00, 327.63it/s, est_norm=18.2]\n"
     ]
    },
    {
     "name": "stdout",
     "output_type": "stream",
     "text": [
      "Perturbation lbfgs training took [18] iter. Accuracy: 0.866\n",
      "Real avg. loss diff:  0.4456742 Est. avg. loss diff:  0.3041074\n",
      "Working on epsilon:  0.4\n",
      "lbfgs training took [21] iter. Accuracy: 0.868\n"
     ]
    },
    {
     "name": "stderr",
     "output_type": "stream",
     "text": [
      "IHVP sample 0: 100%|████████| 5350/5350 [00:16<00:00, 317.04it/s, est_norm=19.6]\n",
      "IHVP sample 1: 100%|████████| 5350/5350 [00:17<00:00, 298.46it/s, est_norm=18.2]\n",
      "IHVP sample 2: 100%|████████| 5350/5350 [00:17<00:00, 300.71it/s, est_norm=19.9]\n",
      "IHVP sample 3: 100%|████████| 5350/5350 [00:17<00:00, 306.01it/s, est_norm=19.8]\n",
      "IHVP sample 4: 100%|██████████| 5350/5350 [00:17<00:00, 302.77it/s, est_norm=20]\n"
     ]
    },
    {
     "name": "stdout",
     "output_type": "stream",
     "text": [
      "Perturbation lbfgs training took [18] iter. Accuracy: 0.868\n",
      "Real avg. loss diff:  0.43764594 Est. avg. loss diff:  0.2744575\n",
      "Working on epsilon:  0.45\n",
      "lbfgs training took [21] iter. Accuracy: 0.868\n"
     ]
    },
    {
     "name": "stderr",
     "output_type": "stream",
     "text": [
      "IHVP sample 0: 100%|████████| 5350/5350 [00:17<00:00, 300.72it/s, est_norm=18.2]\n",
      "IHVP sample 1: 100%|████████| 5350/5350 [00:16<00:00, 319.72it/s, est_norm=19.6]\n",
      "IHVP sample 2: 100%|██████████| 5350/5350 [00:17<00:00, 297.61it/s, est_norm=19]\n",
      "IHVP sample 3: 100%|████████| 5350/5350 [00:18<00:00, 288.60it/s, est_norm=17.8]\n",
      "IHVP sample 4: 100%|██████████| 5350/5350 [00:16<00:00, 324.54it/s, est_norm=20]\n"
     ]
    },
    {
     "name": "stdout",
     "output_type": "stream",
     "text": [
      "Perturbation lbfgs training took [17] iter. Accuracy: 0.868\n",
      "Real avg. loss diff:  0.37249723 Est. avg. loss diff:  0.279191\n",
      "Working on epsilon:  0.5\n",
      "lbfgs training took [21] iter. Accuracy: 0.868\n"
     ]
    },
    {
     "name": "stderr",
     "output_type": "stream",
     "text": [
      "IHVP sample 0: 100%|████████| 5350/5350 [00:15<00:00, 339.84it/s, est_norm=18.3]\n",
      "IHVP sample 1: 100%|████████| 5350/5350 [00:15<00:00, 339.27it/s, est_norm=18.9]\n",
      "IHVP sample 2: 100%|████████| 5350/5350 [00:18<00:00, 292.94it/s, est_norm=17.4]\n",
      "IHVP sample 3: 100%|████████| 5350/5350 [00:16<00:00, 319.59it/s, est_norm=18.5]\n",
      "IHVP sample 4: 100%|████████| 5350/5350 [00:17<00:00, 298.75it/s, est_norm=17.9]\n"
     ]
    },
    {
     "name": "stdout",
     "output_type": "stream",
     "text": [
      "Perturbation lbfgs training took [17] iter. Accuracy: 0.868\n",
      "Real avg. loss diff:  0.40193 Est. avg. loss diff:  0.25380757\n",
      "Working on epsilon:  0.55\n",
      "lbfgs training took [21] iter. Accuracy: 0.868\n"
     ]
    },
    {
     "name": "stderr",
     "output_type": "stream",
     "text": [
      "IHVP sample 0: 100%|████████| 5350/5350 [00:16<00:00, 327.65it/s, est_norm=19.6]\n",
      "IHVP sample 1: 100%|████████| 5350/5350 [00:18<00:00, 295.10it/s, est_norm=18.6]\n",
      "IHVP sample 2: 100%|████████| 5350/5350 [00:17<00:00, 298.66it/s, est_norm=17.5]\n",
      "IHVP sample 3: 100%|████████| 5350/5350 [00:16<00:00, 321.98it/s, est_norm=20.3]\n",
      "IHVP sample 4: 100%|████████| 5350/5350 [00:17<00:00, 298.66it/s, est_norm=18.9]\n"
     ]
    },
    {
     "name": "stdout",
     "output_type": "stream",
     "text": [
      "Perturbation lbfgs training took [17] iter. Accuracy: 0.868\n",
      "Real avg. loss diff:  0.36895338 Est. avg. loss diff:  0.29294336\n",
      "Working on epsilon:  0.6\n",
      "lbfgs training took [21] iter. Accuracy: 0.868\n"
     ]
    },
    {
     "name": "stderr",
     "output_type": "stream",
     "text": [
      "IHVP sample 0: 100%|████████| 5350/5350 [00:18<00:00, 296.07it/s, est_norm=19.2]\n",
      "IHVP sample 1: 100%|████████| 5350/5350 [00:18<00:00, 286.65it/s, est_norm=19.2]\n",
      "IHVP sample 2: 100%|████████| 5350/5350 [00:17<00:00, 310.65it/s, est_norm=18.9]\n",
      "IHVP sample 3: 100%|████████| 5350/5350 [00:16<00:00, 329.48it/s, est_norm=18.7]\n",
      "IHVP sample 4: 100%|██████████| 5350/5350 [00:17<00:00, 298.56it/s, est_norm=20]\n"
     ]
    },
    {
     "name": "stdout",
     "output_type": "stream",
     "text": [
      "Perturbation lbfgs training took [16] iter. Accuracy: 0.868\n",
      "Real avg. loss diff:  0.35413036 Est. avg. loss diff:  0.28506568\n",
      "Working on epsilon:  0.65\n",
      "lbfgs training took [21] iter. Accuracy: 0.868\n"
     ]
    },
    {
     "name": "stderr",
     "output_type": "stream",
     "text": [
      "IHVP sample 0: 100%|████████| 5350/5350 [00:17<00:00, 303.46it/s, est_norm=18.3]\n",
      "IHVP sample 1: 100%|████████| 5350/5350 [00:17<00:00, 300.67it/s, est_norm=19.1]\n",
      "IHVP sample 2: 100%|████████| 5350/5350 [00:19<00:00, 280.85it/s, est_norm=18.9]\n",
      "IHVP sample 3: 100%|████████| 5350/5350 [00:18<00:00, 285.59it/s, est_norm=18.6]\n",
      "IHVP sample 4: 100%|████████| 5350/5350 [00:17<00:00, 300.84it/s, est_norm=21.2]\n"
     ]
    },
    {
     "name": "stdout",
     "output_type": "stream",
     "text": [
      "Perturbation lbfgs training took [14] iter. Accuracy: 0.868\n",
      "Real avg. loss diff:  0.3229789 Est. avg. loss diff:  0.24545011\n",
      "Working on epsilon:  0.7\n",
      "lbfgs training took [21] iter. Accuracy: 0.868\n"
     ]
    },
    {
     "name": "stderr",
     "output_type": "stream",
     "text": [
      "IHVP sample 0: 100%|████████| 5350/5350 [00:19<00:00, 280.51it/s, est_norm=19.2]\n",
      "IHVP sample 1: 100%|████████| 5350/5350 [00:16<00:00, 315.30it/s, est_norm=18.8]\n",
      "IHVP sample 2: 100%|████████| 5350/5350 [00:17<00:00, 300.25it/s, est_norm=19.8]\n",
      "IHVP sample 3: 100%|████████| 5350/5350 [00:18<00:00, 293.60it/s, est_norm=19.7]\n",
      "IHVP sample 4: 100%|████████| 5350/5350 [00:17<00:00, 299.38it/s, est_norm=17.8]\n"
     ]
    },
    {
     "name": "stdout",
     "output_type": "stream",
     "text": [
      "Perturbation lbfgs training took [17] iter. Accuracy: 0.868\n",
      "Real avg. loss diff:  0.34918818 Est. avg. loss diff:  0.26604265\n",
      "Working on epsilon:  0.75\n",
      "lbfgs training took [21] iter. Accuracy: 0.868\n"
     ]
    },
    {
     "name": "stderr",
     "output_type": "stream",
     "text": [
      "IHVP sample 0: 100%|████████| 5350/5350 [00:17<00:00, 306.88it/s, est_norm=19.1]\n",
      "IHVP sample 1: 100%|████████| 5350/5350 [00:16<00:00, 332.65it/s, est_norm=20.7]\n",
      "IHVP sample 2: 100%|████████| 5350/5350 [00:17<00:00, 297.34it/s, est_norm=19.5]\n",
      "IHVP sample 3: 100%|████████| 5350/5350 [00:17<00:00, 299.83it/s, est_norm=18.5]\n",
      "IHVP sample 4: 100%|████████| 5350/5350 [00:18<00:00, 292.18it/s, est_norm=19.1]\n"
     ]
    },
    {
     "name": "stdout",
     "output_type": "stream",
     "text": [
      "Perturbation lbfgs training took [17] iter. Accuracy: 0.868\n",
      "Real avg. loss diff:  0.31819773 Est. avg. loss diff:  0.24679965\n",
      "Working on epsilon:  0.8\n",
      "lbfgs training took [21] iter. Accuracy: 0.868\n"
     ]
    },
    {
     "name": "stderr",
     "output_type": "stream",
     "text": [
      "IHVP sample 0: 100%|████████| 5350/5350 [00:17<00:00, 297.60it/s, est_norm=19.4]\n",
      "IHVP sample 1: 100%|████████| 5350/5350 [00:16<00:00, 330.91it/s, est_norm=21.4]\n",
      "IHVP sample 2: 100%|████████| 5350/5350 [00:17<00:00, 305.20it/s, est_norm=20.2]\n",
      "IHVP sample 3: 100%|██████████| 5350/5350 [00:16<00:00, 330.99it/s, est_norm=19]\n",
      "IHVP sample 4: 100%|████████| 5350/5350 [00:17<00:00, 297.88it/s, est_norm=17.6]\n"
     ]
    },
    {
     "name": "stdout",
     "output_type": "stream",
     "text": [
      "Perturbation lbfgs training took [16] iter. Accuracy: 0.868\n",
      "Real avg. loss diff:  0.30294362 Est. avg. loss diff:  0.22587413\n",
      "Working on epsilon:  0.85\n",
      "lbfgs training took [21] iter. Accuracy: 0.868\n"
     ]
    },
    {
     "name": "stderr",
     "output_type": "stream",
     "text": [
      "IHVP sample 0: 100%|████████| 5350/5350 [00:17<00:00, 307.00it/s, est_norm=20.3]\n",
      "IHVP sample 1: 100%|████████| 5350/5350 [00:17<00:00, 314.39it/s, est_norm=20.6]\n",
      "IHVP sample 2: 100%|████████| 5350/5350 [00:17<00:00, 314.04it/s, est_norm=18.5]\n",
      "IHVP sample 3: 100%|████████| 5350/5350 [00:17<00:00, 304.84it/s, est_norm=18.5]\n",
      "IHVP sample 4: 100%|██████████| 5350/5350 [00:17<00:00, 299.38it/s, est_norm=20]\n"
     ]
    },
    {
     "name": "stdout",
     "output_type": "stream",
     "text": [
      "Perturbation lbfgs training took [16] iter. Accuracy: 0.868\n",
      "Real avg. loss diff:  0.2937739 Est. avg. loss diff:  0.19644843\n",
      "Working on epsilon:  0.9\n",
      "lbfgs training took [21] iter. Accuracy: 0.868\n"
     ]
    },
    {
     "name": "stderr",
     "output_type": "stream",
     "text": [
      "IHVP sample 0: 100%|████████| 5350/5350 [00:17<00:00, 309.02it/s, est_norm=19.9]\n",
      "IHVP sample 1: 100%|██████████| 5350/5350 [00:18<00:00, 292.25it/s, est_norm=19]\n",
      "IHVP sample 2: 100%|████████| 5350/5350 [00:17<00:00, 297.45it/s, est_norm=19.8]\n",
      "IHVP sample 3: 100%|████████| 5350/5350 [00:17<00:00, 310.97it/s, est_norm=18.8]\n",
      "IHVP sample 4: 100%|████████| 5350/5350 [00:17<00:00, 299.49it/s, est_norm=19.5]\n"
     ]
    },
    {
     "name": "stdout",
     "output_type": "stream",
     "text": [
      "Perturbation lbfgs training took [16] iter. Accuracy: 0.868\n",
      "Real avg. loss diff:  0.27480394 Est. avg. loss diff:  0.18831226\n",
      "Working on epsilon:  0.95\n",
      "lbfgs training took [21] iter. Accuracy: 0.868\n"
     ]
    },
    {
     "name": "stderr",
     "output_type": "stream",
     "text": [
      "IHVP sample 0: 100%|████████| 5350/5350 [00:16<00:00, 321.99it/s, est_norm=18.4]\n",
      "IHVP sample 1: 100%|██████████| 5350/5350 [00:18<00:00, 295.87it/s, est_norm=19]\n",
      "IHVP sample 2: 100%|████████| 5350/5350 [00:16<00:00, 331.77it/s, est_norm=17.4]\n",
      "IHVP sample 3: 100%|██████████| 5350/5350 [00:18<00:00, 292.38it/s, est_norm=19]\n",
      "IHVP sample 4: 100%|████████| 5350/5350 [00:17<00:00, 300.88it/s, est_norm=18.8]\n"
     ]
    },
    {
     "name": "stdout",
     "output_type": "stream",
     "text": [
      "Perturbation lbfgs training took [16] iter. Accuracy: 0.868\n",
      "Real avg. loss diff:  0.27216303 Est. avg. loss diff:  0.20762143\n",
      "Working on epsilon:  1\n",
      "lbfgs training took [21] iter. Accuracy: 0.868\n"
     ]
    },
    {
     "name": "stderr",
     "output_type": "stream",
     "text": [
      "IHVP sample 0: 100%|████████| 5350/5350 [00:17<00:00, 300.61it/s, est_norm=18.8]\n",
      "IHVP sample 1: 100%|████████| 5350/5350 [00:17<00:00, 298.06it/s, est_norm=19.1]\n",
      "IHVP sample 2: 100%|████████| 5350/5350 [00:17<00:00, 299.17it/s, est_norm=19.8]\n",
      "IHVP sample 3: 100%|████████| 5350/5350 [00:18<00:00, 296.93it/s, est_norm=18.4]\n",
      "IHVP sample 4: 100%|██████████| 5350/5350 [00:17<00:00, 298.97it/s, est_norm=19]\n"
     ]
    },
    {
     "name": "stdout",
     "output_type": "stream",
     "text": [
      "Perturbation lbfgs training took [16] iter. Accuracy: 0.868\n",
      "Real avg. loss diff:  0.25950754 Est. avg. loss diff:  0.16475467\n",
      "Working on epsilon:  5\n",
      "lbfgs training took [21] iter. Accuracy: 0.868\n"
     ]
    },
    {
     "name": "stderr",
     "output_type": "stream",
     "text": [
      "IHVP sample 0: 100%|████████| 5350/5350 [00:19<00:00, 269.87it/s, est_norm=19.2]\n",
      "IHVP sample 1: 100%|██████████| 5350/5350 [00:17<00:00, 314.69it/s, est_norm=18]\n",
      "IHVP sample 2: 100%|████████| 5350/5350 [00:17<00:00, 302.39it/s, est_norm=19.5]\n",
      "IHVP sample 3: 100%|████████| 5350/5350 [00:17<00:00, 305.64it/s, est_norm=19.4]\n",
      "IHVP sample 4: 100%|████████| 5350/5350 [00:17<00:00, 304.93it/s, est_norm=19.7]\n"
     ]
    },
    {
     "name": "stdout",
     "output_type": "stream",
     "text": [
      "Perturbation lbfgs training took [20] iter. Accuracy: 0.868\n",
      "Real avg. loss diff:  0.0068395734 Est. avg. loss diff:  0.004020607\n",
      "Working on epsilon:  10\n",
      "lbfgs training took [21] iter. Accuracy: 0.868\n"
     ]
    },
    {
     "name": "stderr",
     "output_type": "stream",
     "text": [
      "IHVP sample 0: 100%|████████| 5350/5350 [00:17<00:00, 302.62it/s, est_norm=18.4]\n",
      "IHVP sample 1: 100%|████████| 5350/5350 [00:17<00:00, 299.54it/s, est_norm=18.9]\n",
      "IHVP sample 2: 100%|████████| 5350/5350 [00:17<00:00, 304.78it/s, est_norm=19.6]\n",
      "IHVP sample 3: 100%|██████████| 5350/5350 [00:17<00:00, 314.48it/s, est_norm=19]\n",
      "IHVP sample 4: 100%|████████| 5350/5350 [00:17<00:00, 300.61it/s, est_norm=20.3]\n"
     ]
    },
    {
     "name": "stdout",
     "output_type": "stream",
     "text": [
      "Perturbation lbfgs training took [21] iter. Accuracy: 0.868\n",
      "Real avg. loss diff:  0.00035458803 Est. avg. loss diff:  6.516829e-05\n",
      "Working on epsilon:  0.001\n",
      "lbfgs training took [21] iter. Accuracy: 0.868\n"
     ]
    },
    {
     "name": "stderr",
     "output_type": "stream",
     "text": [
      "IHVP sample 0: 100%|████████| 5350/5350 [00:17<00:00, 297.34it/s, est_norm=17.3]\n",
      "IHVP sample 1: 100%|████████| 5350/5350 [00:17<00:00, 305.62it/s, est_norm=18.1]\n",
      "IHVP sample 2: 100%|████████| 5350/5350 [00:17<00:00, 302.16it/s, est_norm=19.3]\n",
      "IHVP sample 3: 100%|████████| 5350/5350 [00:17<00:00, 301.40it/s, est_norm=17.6]\n",
      "IHVP sample 4: 100%|████████| 5350/5350 [00:18<00:00, 295.20it/s, est_norm=19.1]\n"
     ]
    },
    {
     "name": "stdout",
     "output_type": "stream",
     "text": [
      "Perturbation lbfgs training took [15] iter. Accuracy: 0.597\n",
      "Real avg. loss diff:  0.52433455 Est. avg. loss diff:  0.33827567\n",
      "Working on epsilon:  0.005\n",
      "lbfgs training took [21] iter. Accuracy: 0.868\n"
     ]
    },
    {
     "name": "stderr",
     "output_type": "stream",
     "text": [
      "IHVP sample 0: 100%|████████| 5350/5350 [00:17<00:00, 301.51it/s, est_norm=19.7]\n",
      "IHVP sample 1: 100%|████████| 5350/5350 [00:17<00:00, 302.84it/s, est_norm=20.4]\n",
      "IHVP sample 2: 100%|████████| 5350/5350 [00:17<00:00, 304.13it/s, est_norm=19.2]\n",
      "IHVP sample 3: 100%|████████| 5350/5350 [00:17<00:00, 302.79it/s, est_norm=19.6]\n",
      "IHVP sample 4: 100%|████████| 5350/5350 [00:16<00:00, 320.28it/s, est_norm=19.6]\n"
     ]
    },
    {
     "name": "stdout",
     "output_type": "stream",
     "text": [
      "Perturbation lbfgs training took [15] iter. Accuracy: 0.496\n",
      "Real avg. loss diff:  0.55077815 Est. avg. loss diff:  0.31498122\n",
      "Working on epsilon:  0.01\n",
      "lbfgs training took [21] iter. Accuracy: 0.868\n"
     ]
    },
    {
     "name": "stderr",
     "output_type": "stream",
     "text": [
      "IHVP sample 0: 100%|████████| 5350/5350 [00:14<00:00, 356.88it/s, est_norm=18.8]\n",
      "IHVP sample 1: 100%|██████████| 5350/5350 [00:17<00:00, 298.37it/s, est_norm=19]\n",
      "IHVP sample 2: 100%|██████████| 5350/5350 [00:16<00:00, 326.22it/s, est_norm=19]\n",
      "IHVP sample 3: 100%|████████| 5350/5350 [00:18<00:00, 294.34it/s, est_norm=19.9]\n",
      "IHVP sample 4: 100%|████████| 5350/5350 [00:18<00:00, 287.78it/s, est_norm=19.4]\n"
     ]
    },
    {
     "name": "stdout",
     "output_type": "stream",
     "text": [
      "Perturbation lbfgs training took [14] iter. Accuracy: 0.501\n",
      "Real avg. loss diff:  0.55848897 Est. avg. loss diff:  0.31111544\n",
      "Working on epsilon:  0.05\n",
      "lbfgs training took [21] iter. Accuracy: 0.868\n"
     ]
    },
    {
     "name": "stderr",
     "output_type": "stream",
     "text": [
      "IHVP sample 0: 100%|████████| 5350/5350 [00:18<00:00, 295.14it/s, est_norm=19.5]\n",
      "IHVP sample 1: 100%|██████████| 5350/5350 [00:17<00:00, 299.96it/s, est_norm=18]\n",
      "IHVP sample 2: 100%|████████| 5350/5350 [00:17<00:00, 306.47it/s, est_norm=19.2]\n",
      "IHVP sample 3: 100%|████████| 5350/5350 [00:17<00:00, 303.74it/s, est_norm=19.4]\n",
      "IHVP sample 4: 100%|████████| 5350/5350 [00:17<00:00, 299.86it/s, est_norm=18.7]\n"
     ]
    },
    {
     "name": "stdout",
     "output_type": "stream",
     "text": [
      "Perturbation lbfgs training took [14] iter. Accuracy: 0.630\n",
      "Real avg. loss diff:  0.5673058 Est. avg. loss diff:  0.3774469\n",
      "Working on epsilon:  0.1\n",
      "lbfgs training took [21] iter. Accuracy: 0.868\n"
     ]
    },
    {
     "name": "stderr",
     "output_type": "stream",
     "text": [
      "IHVP sample 0: 100%|████████| 5350/5350 [00:17<00:00, 301.06it/s, est_norm=18.2]\n",
      "IHVP sample 1: 100%|████████| 5350/5350 [00:16<00:00, 317.24it/s, est_norm=18.6]\n",
      "IHVP sample 2: 100%|████████| 5350/5350 [00:18<00:00, 282.66it/s, est_norm=18.4]\n",
      "IHVP sample 3: 100%|████████| 5350/5350 [00:19<00:00, 268.94it/s, est_norm=20.6]\n",
      "IHVP sample 4: 100%|████████| 5350/5350 [00:19<00:00, 271.19it/s, est_norm=18.5]\n"
     ]
    },
    {
     "name": "stdout",
     "output_type": "stream",
     "text": [
      "Perturbation lbfgs training took [19] iter. Accuracy: 0.827\n",
      "Real avg. loss diff:  0.50869286 Est. avg. loss diff:  0.3281875\n",
      "Working on epsilon:  0.15\n",
      "lbfgs training took [21] iter. Accuracy: 0.868\n"
     ]
    },
    {
     "name": "stderr",
     "output_type": "stream",
     "text": [
      "IHVP sample 0: 100%|████████| 5350/5350 [00:17<00:00, 302.48it/s, est_norm=17.7]\n",
      "IHVP sample 1: 100%|████████| 5350/5350 [00:17<00:00, 308.72it/s, est_norm=20.1]\n",
      "IHVP sample 2: 100%|████████| 5350/5350 [00:18<00:00, 290.24it/s, est_norm=19.4]\n",
      "IHVP sample 3: 100%|████████| 5350/5350 [00:17<00:00, 300.57it/s, est_norm=18.7]\n",
      "IHVP sample 4: 100%|████████| 5350/5350 [00:16<00:00, 329.72it/s, est_norm=19.6]\n"
     ]
    },
    {
     "name": "stdout",
     "output_type": "stream",
     "text": [
      "Perturbation lbfgs training took [17] iter. Accuracy: 0.862\n",
      "Real avg. loss diff:  0.47208998 Est. avg. loss diff:  0.33780894\n",
      "Working on epsilon:  0.2\n",
      "lbfgs training took [21] iter. Accuracy: 0.868\n"
     ]
    },
    {
     "name": "stderr",
     "output_type": "stream",
     "text": [
      "IHVP sample 0: 100%|████████| 5350/5350 [00:18<00:00, 293.68it/s, est_norm=20.6]\n",
      "IHVP sample 1: 100%|████████| 5350/5350 [00:16<00:00, 327.48it/s, est_norm=20.5]\n",
      "IHVP sample 2: 100%|████████| 5350/5350 [00:18<00:00, 294.43it/s, est_norm=17.7]\n",
      "IHVP sample 3: 100%|██████████| 5350/5350 [00:17<00:00, 297.78it/s, est_norm=19]\n",
      "IHVP sample 4: 100%|████████| 5350/5350 [00:17<00:00, 300.42it/s, est_norm=17.9]\n"
     ]
    },
    {
     "name": "stdout",
     "output_type": "stream",
     "text": [
      "Perturbation lbfgs training took [18] iter. Accuracy: 0.863\n",
      "Real avg. loss diff:  0.4691824 Est. avg. loss diff:  0.2881946\n",
      "Working on epsilon:  0.25\n",
      "lbfgs training took [21] iter. Accuracy: 0.868\n"
     ]
    },
    {
     "name": "stderr",
     "output_type": "stream",
     "text": [
      "IHVP sample 0: 100%|████████| 5350/5350 [00:18<00:00, 297.06it/s, est_norm=19.3]\n",
      "IHVP sample 1: 100%|████████| 5350/5350 [00:17<00:00, 304.36it/s, est_norm=19.6]\n",
      "IHVP sample 2: 100%|██████████| 5350/5350 [00:18<00:00, 296.39it/s, est_norm=18]\n",
      "IHVP sample 3: 100%|████████| 5350/5350 [00:17<00:00, 301.58it/s, est_norm=19.6]\n",
      "IHVP sample 4: 100%|████████| 5350/5350 [00:17<00:00, 300.80it/s, est_norm=18.1]\n"
     ]
    },
    {
     "name": "stdout",
     "output_type": "stream",
     "text": [
      "Perturbation lbfgs training took [17] iter. Accuracy: 0.865\n",
      "Real avg. loss diff:  0.45430663 Est. avg. loss diff:  0.27212036\n",
      "Working on epsilon:  0.3\n",
      "lbfgs training took [21] iter. Accuracy: 0.868\n"
     ]
    },
    {
     "name": "stderr",
     "output_type": "stream",
     "text": [
      "IHVP sample 0: 100%|████████| 5350/5350 [00:17<00:00, 298.88it/s, est_norm=19.7]\n",
      "IHVP sample 1: 100%|████████| 5350/5350 [00:17<00:00, 298.80it/s, est_norm=19.8]\n",
      "IHVP sample 2: 100%|████████| 5350/5350 [00:17<00:00, 303.34it/s, est_norm=19.3]\n",
      "IHVP sample 3: 100%|████████| 5350/5350 [00:17<00:00, 308.51it/s, est_norm=18.3]\n",
      "IHVP sample 4: 100%|████████| 5350/5350 [00:18<00:00, 296.04it/s, est_norm=17.8]\n"
     ]
    },
    {
     "name": "stdout",
     "output_type": "stream",
     "text": [
      "Perturbation lbfgs training took [19] iter. Accuracy: 0.868\n",
      "Real avg. loss diff:  0.45676324 Est. avg. loss diff:  0.29525864\n",
      "Working on epsilon:  0.35\n",
      "lbfgs training took [21] iter. Accuracy: 0.868\n"
     ]
    },
    {
     "name": "stderr",
     "output_type": "stream",
     "text": [
      "IHVP sample 0: 100%|████████| 5350/5350 [00:15<00:00, 354.62it/s, est_norm=19.5]\n",
      "IHVP sample 1: 100%|████████| 5350/5350 [00:17<00:00, 300.23it/s, est_norm=18.4]\n",
      "IHVP sample 2: 100%|████████| 5350/5350 [00:16<00:00, 323.74it/s, est_norm=17.3]\n",
      "IHVP sample 3: 100%|████████| 5350/5350 [00:17<00:00, 313.29it/s, est_norm=19.2]\n",
      "IHVP sample 4: 100%|████████| 5350/5350 [00:17<00:00, 303.76it/s, est_norm=19.3]\n"
     ]
    },
    {
     "name": "stdout",
     "output_type": "stream",
     "text": [
      "Perturbation lbfgs training took [19] iter. Accuracy: 0.868\n",
      "Real avg. loss diff:  0.45897725 Est. avg. loss diff:  0.28199795\n",
      "Working on epsilon:  0.4\n",
      "lbfgs training took [21] iter. Accuracy: 0.868\n"
     ]
    },
    {
     "name": "stderr",
     "output_type": "stream",
     "text": [
      "IHVP sample 0: 100%|████████| 5350/5350 [00:18<00:00, 290.27it/s, est_norm=19.1]\n",
      "IHVP sample 1: 100%|████████| 5350/5350 [00:16<00:00, 315.56it/s, est_norm=18.4]\n",
      "IHVP sample 2: 100%|████████| 5350/5350 [00:17<00:00, 304.49it/s, est_norm=19.8]\n",
      "IHVP sample 3: 100%|████████| 5350/5350 [00:17<00:00, 300.96it/s, est_norm=18.7]\n",
      "IHVP sample 4: 100%|████████| 5350/5350 [00:18<00:00, 292.78it/s, est_norm=19.8]\n"
     ]
    },
    {
     "name": "stdout",
     "output_type": "stream",
     "text": [
      "Perturbation lbfgs training took [18] iter. Accuracy: 0.868\n",
      "Real avg. loss diff:  0.40552118 Est. avg. loss diff:  0.3466294\n",
      "Working on epsilon:  0.45\n",
      "lbfgs training took [21] iter. Accuracy: 0.868\n"
     ]
    },
    {
     "name": "stderr",
     "output_type": "stream",
     "text": [
      "IHVP sample 0: 100%|████████| 5350/5350 [00:17<00:00, 303.48it/s, est_norm=19.4]\n",
      "IHVP sample 1: 100%|████████| 5350/5350 [00:18<00:00, 296.82it/s, est_norm=19.5]\n",
      "IHVP sample 2: 100%|██████████| 5350/5350 [00:18<00:00, 296.91it/s, est_norm=19]\n",
      "IHVP sample 3: 100%|██████████| 5350/5350 [00:16<00:00, 317.32it/s, est_norm=20]\n",
      "IHVP sample 4: 100%|████████| 5350/5350 [00:18<00:00, 296.27it/s, est_norm=17.9]\n"
     ]
    },
    {
     "name": "stdout",
     "output_type": "stream",
     "text": [
      "Perturbation lbfgs training took [15] iter. Accuracy: 0.868\n",
      "Real avg. loss diff:  0.41184095 Est. avg. loss diff:  0.22326633\n",
      "Working on epsilon:  0.5\n",
      "lbfgs training took [21] iter. Accuracy: 0.868\n"
     ]
    },
    {
     "name": "stderr",
     "output_type": "stream",
     "text": [
      "IHVP sample 0: 100%|████████| 5350/5350 [00:18<00:00, 297.20it/s, est_norm=18.3]\n",
      "IHVP sample 1: 100%|████████| 5350/5350 [00:17<00:00, 302.47it/s, est_norm=19.6]\n",
      "IHVP sample 2: 100%|████████| 5350/5350 [00:16<00:00, 322.03it/s, est_norm=18.5]\n",
      "IHVP sample 3: 100%|████████| 5350/5350 [00:16<00:00, 327.82it/s, est_norm=18.9]\n",
      "IHVP sample 4: 100%|████████| 5350/5350 [00:17<00:00, 302.29it/s, est_norm=19.1]\n"
     ]
    },
    {
     "name": "stdout",
     "output_type": "stream",
     "text": [
      "Perturbation lbfgs training took [16] iter. Accuracy: 0.868\n",
      "Real avg. loss diff:  0.38280717 Est. avg. loss diff:  0.2844294\n",
      "Working on epsilon:  0.55\n",
      "lbfgs training took [21] iter. Accuracy: 0.868\n"
     ]
    },
    {
     "name": "stderr",
     "output_type": "stream",
     "text": [
      "IHVP sample 0: 100%|██████████| 5350/5350 [00:17<00:00, 297.61it/s, est_norm=20]\n",
      "IHVP sample 1: 100%|████████| 5350/5350 [00:17<00:00, 299.49it/s, est_norm=19.4]\n",
      "IHVP sample 2: 100%|████████| 5350/5350 [00:14<00:00, 357.77it/s, est_norm=19.5]\n",
      "IHVP sample 3: 100%|██████████| 5350/5350 [00:18<00:00, 288.98it/s, est_norm=17]\n",
      "IHVP sample 4: 100%|████████| 5350/5350 [00:18<00:00, 292.41it/s, est_norm=18.9]\n"
     ]
    },
    {
     "name": "stdout",
     "output_type": "stream",
     "text": [
      "Perturbation lbfgs training took [17] iter. Accuracy: 0.868\n",
      "Real avg. loss diff:  0.33832207 Est. avg. loss diff:  0.28738925\n",
      "Working on epsilon:  0.6\n",
      "lbfgs training took [21] iter. Accuracy: 0.868\n"
     ]
    },
    {
     "name": "stderr",
     "output_type": "stream",
     "text": [
      "IHVP sample 0: 100%|████████| 5350/5350 [00:17<00:00, 307.98it/s, est_norm=18.1]\n",
      "IHVP sample 1: 100%|████████| 5350/5350 [00:17<00:00, 303.45it/s, est_norm=18.9]\n",
      "IHVP sample 2: 100%|████████| 5350/5350 [00:17<00:00, 303.10it/s, est_norm=18.3]\n",
      "IHVP sample 3: 100%|████████| 5350/5350 [00:17<00:00, 297.65it/s, est_norm=18.6]\n",
      "IHVP sample 4: 100%|██████████| 5350/5350 [00:17<00:00, 309.74it/s, est_norm=19]\n"
     ]
    },
    {
     "name": "stdout",
     "output_type": "stream",
     "text": [
      "Perturbation lbfgs training took [16] iter. Accuracy: 0.868\n",
      "Real avg. loss diff:  0.35946772 Est. avg. loss diff:  0.27871615\n",
      "Working on epsilon:  0.65\n",
      "lbfgs training took [21] iter. Accuracy: 0.868\n"
     ]
    },
    {
     "name": "stderr",
     "output_type": "stream",
     "text": [
      "IHVP sample 0: 100%|████████| 5350/5350 [00:17<00:00, 300.18it/s, est_norm=18.9]\n",
      "IHVP sample 1: 100%|████████| 5350/5350 [00:16<00:00, 327.61it/s, est_norm=17.8]\n",
      "IHVP sample 2: 100%|████████| 5350/5350 [00:18<00:00, 294.48it/s, est_norm=20.3]\n",
      "IHVP sample 3: 100%|████████| 5350/5350 [00:17<00:00, 297.56it/s, est_norm=19.2]\n",
      "IHVP sample 4: 100%|████████| 5350/5350 [00:18<00:00, 297.11it/s, est_norm=17.1]\n"
     ]
    },
    {
     "name": "stdout",
     "output_type": "stream",
     "text": [
      "Perturbation lbfgs training took [17] iter. Accuracy: 0.868\n",
      "Real avg. loss diff:  0.32943296 Est. avg. loss diff:  0.23649901\n",
      "Working on epsilon:  0.7\n",
      "lbfgs training took [21] iter. Accuracy: 0.868\n"
     ]
    },
    {
     "name": "stderr",
     "output_type": "stream",
     "text": [
      "IHVP sample 0: 100%|████████| 5350/5350 [00:17<00:00, 297.93it/s, est_norm=19.4]\n",
      "IHVP sample 1: 100%|████████| 5350/5350 [00:18<00:00, 296.37it/s, est_norm=19.6]\n",
      "IHVP sample 2: 100%|████████| 5350/5350 [00:17<00:00, 303.26it/s, est_norm=19.2]\n",
      "IHVP sample 3: 100%|████████| 5350/5350 [00:17<00:00, 303.72it/s, est_norm=18.1]\n",
      "IHVP sample 4: 100%|████████| 5350/5350 [00:16<00:00, 327.10it/s, est_norm=19.5]\n"
     ]
    },
    {
     "name": "stdout",
     "output_type": "stream",
     "text": [
      "Perturbation lbfgs training took [16] iter. Accuracy: 0.868\n",
      "Real avg. loss diff:  0.3007008 Est. avg. loss diff:  0.21145135\n",
      "Working on epsilon:  0.75\n",
      "lbfgs training took [21] iter. Accuracy: 0.868\n"
     ]
    },
    {
     "name": "stderr",
     "output_type": "stream",
     "text": [
      "IHVP sample 0: 100%|████████| 5350/5350 [00:17<00:00, 312.39it/s, est_norm=18.6]\n",
      "IHVP sample 1: 100%|████████| 5350/5350 [00:17<00:00, 306.93it/s, est_norm=19.6]\n",
      "IHVP sample 2: 100%|████████| 5350/5350 [00:17<00:00, 303.39it/s, est_norm=17.4]\n",
      "IHVP sample 3: 100%|████████| 5350/5350 [00:18<00:00, 292.48it/s, est_norm=17.5]\n",
      "IHVP sample 4: 100%|████████| 5350/5350 [00:18<00:00, 297.10it/s, est_norm=18.9]\n"
     ]
    },
    {
     "name": "stdout",
     "output_type": "stream",
     "text": [
      "Perturbation lbfgs training took [17] iter. Accuracy: 0.868\n",
      "Real avg. loss diff:  0.31316438 Est. avg. loss diff:  0.21890202\n",
      "Working on epsilon:  0.8\n",
      "lbfgs training took [21] iter. Accuracy: 0.868\n"
     ]
    },
    {
     "name": "stderr",
     "output_type": "stream",
     "text": [
      "IHVP sample 0: 100%|████████| 5350/5350 [00:18<00:00, 296.40it/s, est_norm=19.3]\n",
      "IHVP sample 1: 100%|████████| 5350/5350 [00:18<00:00, 297.02it/s, est_norm=17.7]\n",
      "IHVP sample 2: 100%|████████| 5350/5350 [00:18<00:00, 295.08it/s, est_norm=17.6]\n",
      "IHVP sample 3: 100%|████████| 5350/5350 [00:17<00:00, 298.83it/s, est_norm=18.8]\n",
      "IHVP sample 4: 100%|████████| 5350/5350 [00:18<00:00, 294.65it/s, est_norm=18.1]\n"
     ]
    },
    {
     "name": "stdout",
     "output_type": "stream",
     "text": [
      "Perturbation lbfgs training took [17] iter. Accuracy: 0.868\n",
      "Real avg. loss diff:  0.29454988 Est. avg. loss diff:  0.20217286\n",
      "Working on epsilon:  0.85\n",
      "lbfgs training took [21] iter. Accuracy: 0.868\n"
     ]
    },
    {
     "name": "stderr",
     "output_type": "stream",
     "text": [
      "IHVP sample 0: 100%|████████| 5350/5350 [00:18<00:00, 288.16it/s, est_norm=19.2]\n",
      "IHVP sample 1: 100%|██████████| 5350/5350 [00:18<00:00, 291.97it/s, est_norm=21]\n",
      "IHVP sample 2: 100%|██████████| 5350/5350 [00:18<00:00, 282.74it/s, est_norm=19]\n",
      "IHVP sample 3: 100%|████████| 5350/5350 [00:17<00:00, 300.00it/s, est_norm=19.2]\n",
      "IHVP sample 4: 100%|████████| 5350/5350 [00:17<00:00, 301.64it/s, est_norm=19.5]\n"
     ]
    },
    {
     "name": "stdout",
     "output_type": "stream",
     "text": [
      "Perturbation lbfgs training took [13] iter. Accuracy: 0.868\n",
      "Real avg. loss diff:  0.30573872 Est. avg. loss diff:  0.19362533\n",
      "Working on epsilon:  0.9\n",
      "lbfgs training took [21] iter. Accuracy: 0.868\n"
     ]
    },
    {
     "name": "stderr",
     "output_type": "stream",
     "text": [
      "IHVP sample 0: 100%|██████████| 5350/5350 [00:18<00:00, 296.81it/s, est_norm=20]\n",
      "IHVP sample 1: 100%|████████| 5350/5350 [00:16<00:00, 326.59it/s, est_norm=19.6]\n",
      "IHVP sample 2: 100%|████████| 5350/5350 [00:17<00:00, 301.56it/s, est_norm=18.8]\n",
      "IHVP sample 3: 100%|████████| 5350/5350 [00:18<00:00, 296.93it/s, est_norm=18.2]\n",
      "IHVP sample 4: 100%|████████| 5350/5350 [00:18<00:00, 296.38it/s, est_norm=19.8]\n"
     ]
    },
    {
     "name": "stdout",
     "output_type": "stream",
     "text": [
      "Perturbation lbfgs training took [16] iter. Accuracy: 0.868\n",
      "Real avg. loss diff:  0.27469727 Est. avg. loss diff:  0.18412562\n",
      "Working on epsilon:  0.95\n",
      "lbfgs training took [21] iter. Accuracy: 0.868\n"
     ]
    },
    {
     "name": "stderr",
     "output_type": "stream",
     "text": [
      "IHVP sample 0: 100%|████████| 5350/5350 [00:17<00:00, 303.41it/s, est_norm=18.9]\n",
      "IHVP sample 1: 100%|████████| 5350/5350 [00:17<00:00, 297.73it/s, est_norm=18.5]\n",
      "IHVP sample 2: 100%|████████| 5350/5350 [00:15<00:00, 338.92it/s, est_norm=18.2]\n",
      "IHVP sample 3: 100%|████████| 5350/5350 [00:17<00:00, 302.84it/s, est_norm=17.9]\n",
      "IHVP sample 4: 100%|████████| 5350/5350 [00:17<00:00, 301.12it/s, est_norm=20.3]\n"
     ]
    },
    {
     "name": "stdout",
     "output_type": "stream",
     "text": [
      "Perturbation lbfgs training took [14] iter. Accuracy: 0.868\n",
      "Real avg. loss diff:  0.2843491 Est. avg. loss diff:  0.2172063\n",
      "Working on epsilon:  1\n",
      "lbfgs training took [21] iter. Accuracy: 0.868\n"
     ]
    },
    {
     "name": "stderr",
     "output_type": "stream",
     "text": [
      "IHVP sample 0: 100%|████████| 5350/5350 [00:17<00:00, 301.31it/s, est_norm=19.8]\n",
      "IHVP sample 1: 100%|████████| 5350/5350 [00:18<00:00, 297.18it/s, est_norm=19.4]\n",
      "IHVP sample 2: 100%|████████| 5350/5350 [00:17<00:00, 303.15it/s, est_norm=19.6]\n",
      "IHVP sample 3: 100%|██████████| 5350/5350 [00:18<00:00, 295.39it/s, est_norm=18]\n",
      "IHVP sample 4: 100%|████████| 5350/5350 [00:16<00:00, 315.29it/s, est_norm=19.1]\n"
     ]
    },
    {
     "name": "stdout",
     "output_type": "stream",
     "text": [
      "Perturbation lbfgs training took [14] iter. Accuracy: 0.868\n",
      "Real avg. loss diff:  0.24389711 Est. avg. loss diff:  0.19653061\n",
      "Working on epsilon:  5\n",
      "lbfgs training took [21] iter. Accuracy: 0.868\n"
     ]
    },
    {
     "name": "stderr",
     "output_type": "stream",
     "text": [
      "IHVP sample 0: 100%|████████| 5350/5350 [00:19<00:00, 278.09it/s, est_norm=20.5]\n",
      "IHVP sample 1: 100%|████████| 5350/5350 [00:17<00:00, 297.91it/s, est_norm=20.7]\n",
      "IHVP sample 2: 100%|████████| 5350/5350 [00:17<00:00, 311.49it/s, est_norm=18.6]\n",
      "IHVP sample 3: 100%|████████| 5350/5350 [00:19<00:00, 275.82it/s, est_norm=18.4]\n",
      "IHVP sample 4: 100%|████████| 5350/5350 [00:18<00:00, 295.85it/s, est_norm=19.7]\n"
     ]
    },
    {
     "name": "stdout",
     "output_type": "stream",
     "text": [
      "Perturbation lbfgs training took [20] iter. Accuracy: 0.868\n",
      "Real avg. loss diff:  0.0065209568 Est. avg. loss diff:  0.005249224\n",
      "Working on epsilon:  10\n",
      "lbfgs training took [21] iter. Accuracy: 0.868\n"
     ]
    },
    {
     "name": "stderr",
     "output_type": "stream",
     "text": [
      "IHVP sample 0: 100%|████████| 5350/5350 [00:17<00:00, 309.23it/s, est_norm=17.2]\n",
      "IHVP sample 1: 100%|████████| 5350/5350 [00:17<00:00, 305.29it/s, est_norm=19.3]\n",
      "IHVP sample 2: 100%|████████| 5350/5350 [00:16<00:00, 320.26it/s, est_norm=19.3]\n",
      "IHVP sample 3: 100%|██████████| 5350/5350 [00:18<00:00, 297.13it/s, est_norm=21]\n",
      "IHVP sample 4: 100%|████████| 5350/5350 [00:16<00:00, 332.01it/s, est_norm=18.1]\n"
     ]
    },
    {
     "name": "stdout",
     "output_type": "stream",
     "text": [
      "Perturbation lbfgs training took [21] iter. Accuracy: 0.868\n",
      "Real avg. loss diff:  0.00022821128 Est. avg. loss diff:  0.00013559469\n",
      "Working on epsilon:  0.001\n",
      "lbfgs training took [21] iter. Accuracy: 0.868\n"
     ]
    },
    {
     "name": "stderr",
     "output_type": "stream",
     "text": [
      "IHVP sample 0: 100%|██████████| 5350/5350 [00:18<00:00, 295.73it/s, est_norm=19]\n",
      "IHVP sample 1: 100%|████████| 5350/5350 [00:17<00:00, 298.49it/s, est_norm=19.2]\n",
      "IHVP sample 2: 100%|████████| 5350/5350 [00:17<00:00, 313.24it/s, est_norm=18.5]\n",
      "IHVP sample 3: 100%|████████| 5350/5350 [00:17<00:00, 304.15it/s, est_norm=21.3]\n",
      "IHVP sample 4: 100%|████████| 5350/5350 [00:16<00:00, 319.84it/s, est_norm=16.7]\n"
     ]
    },
    {
     "name": "stdout",
     "output_type": "stream",
     "text": [
      "Perturbation lbfgs training took [17] iter. Accuracy: 0.341\n",
      "Real avg. loss diff:  0.5467714 Est. avg. loss diff:  0.33624953\n",
      "Working on epsilon:  0.005\n",
      "lbfgs training took [21] iter. Accuracy: 0.868\n"
     ]
    },
    {
     "name": "stderr",
     "output_type": "stream",
     "text": [
      "IHVP sample 0: 100%|████████| 5350/5350 [00:17<00:00, 302.49it/s, est_norm=18.5]\n",
      "IHVP sample 1: 100%|████████| 5350/5350 [00:17<00:00, 308.58it/s, est_norm=18.8]\n",
      "IHVP sample 2: 100%|████████| 5350/5350 [00:17<00:00, 299.74it/s, est_norm=18.6]\n",
      "IHVP sample 3: 100%|████████| 5350/5350 [00:17<00:00, 307.41it/s, est_norm=19.3]\n",
      "IHVP sample 4: 100%|████████| 5350/5350 [00:17<00:00, 298.93it/s, est_norm=19.2]\n"
     ]
    },
    {
     "name": "stdout",
     "output_type": "stream",
     "text": [
      "Perturbation lbfgs training took [18] iter. Accuracy: 0.451\n",
      "Real avg. loss diff:  0.5474912 Est. avg. loss diff:  0.32657337\n",
      "Working on epsilon:  0.01\n",
      "lbfgs training took [21] iter. Accuracy: 0.868\n"
     ]
    },
    {
     "name": "stderr",
     "output_type": "stream",
     "text": [
      "IHVP sample 0: 100%|████████| 5350/5350 [00:17<00:00, 298.46it/s, est_norm=19.7]\n",
      "IHVP sample 1: 100%|████████| 5350/5350 [00:16<00:00, 323.93it/s, est_norm=19.3]\n",
      "IHVP sample 2: 100%|████████| 5350/5350 [00:18<00:00, 294.58it/s, est_norm=19.9]\n",
      "IHVP sample 3: 100%|████████| 5350/5350 [00:17<00:00, 302.93it/s, est_norm=19.6]\n",
      "IHVP sample 4: 100%|████████| 5350/5350 [00:17<00:00, 300.95it/s, est_norm=18.6]\n"
     ]
    },
    {
     "name": "stdout",
     "output_type": "stream",
     "text": [
      "Perturbation lbfgs training took [15] iter. Accuracy: 0.586\n",
      "Real avg. loss diff:  0.51604116 Est. avg. loss diff:  0.31544882\n",
      "Working on epsilon:  0.05\n",
      "lbfgs training took [21] iter. Accuracy: 0.868\n"
     ]
    },
    {
     "name": "stderr",
     "output_type": "stream",
     "text": [
      "IHVP sample 0: 100%|████████| 5350/5350 [00:16<00:00, 318.62it/s, est_norm=17.3]\n",
      "IHVP sample 1: 100%|████████| 5350/5350 [00:17<00:00, 299.53it/s, est_norm=17.4]\n",
      "IHVP sample 2: 100%|████████| 5350/5350 [00:17<00:00, 300.40it/s, est_norm=18.6]\n",
      "IHVP sample 3: 100%|████████| 5350/5350 [00:17<00:00, 305.51it/s, est_norm=19.5]\n",
      "IHVP sample 4: 100%|████████| 5350/5350 [00:16<00:00, 319.02it/s, est_norm=20.5]\n"
     ]
    },
    {
     "name": "stdout",
     "output_type": "stream",
     "text": [
      "Perturbation lbfgs training took [20] iter. Accuracy: 0.762\n",
      "Real avg. loss diff:  0.49544445 Est. avg. loss diff:  0.34713334\n",
      "Working on epsilon:  0.1\n",
      "lbfgs training took [21] iter. Accuracy: 0.868\n"
     ]
    },
    {
     "name": "stderr",
     "output_type": "stream",
     "text": [
      "IHVP sample 0: 100%|████████| 5350/5350 [00:18<00:00, 292.29it/s, est_norm=18.6]\n",
      "IHVP sample 1: 100%|████████| 5350/5350 [00:18<00:00, 297.09it/s, est_norm=19.3]\n",
      "IHVP sample 2: 100%|████████| 5350/5350 [00:18<00:00, 295.38it/s, est_norm=19.6]\n",
      "IHVP sample 3: 100%|████████| 5350/5350 [00:17<00:00, 306.38it/s, est_norm=17.7]\n",
      "IHVP sample 4: 100%|████████| 5350/5350 [00:18<00:00, 296.56it/s, est_norm=20.1]\n"
     ]
    },
    {
     "name": "stdout",
     "output_type": "stream",
     "text": [
      "Perturbation lbfgs training took [21] iter. Accuracy: 0.820\n",
      "Real avg. loss diff:  0.5000968 Est. avg. loss diff:  0.30044556\n",
      "Working on epsilon:  0.15\n",
      "lbfgs training took [21] iter. Accuracy: 0.868\n"
     ]
    },
    {
     "name": "stderr",
     "output_type": "stream",
     "text": [
      "IHVP sample 0: 100%|████████| 5350/5350 [00:16<00:00, 325.69it/s, est_norm=19.6]\n",
      "IHVP sample 1: 100%|████████| 5350/5350 [00:17<00:00, 298.51it/s, est_norm=19.5]\n",
      "IHVP sample 2: 100%|████████| 5350/5350 [00:17<00:00, 310.51it/s, est_norm=21.7]\n",
      "IHVP sample 3: 100%|████████| 5350/5350 [00:17<00:00, 313.84it/s, est_norm=18.9]\n",
      "IHVP sample 4: 100%|████████| 5350/5350 [00:17<00:00, 300.27it/s, est_norm=18.8]\n"
     ]
    },
    {
     "name": "stdout",
     "output_type": "stream",
     "text": [
      "Perturbation lbfgs training took [21] iter. Accuracy: 0.851\n",
      "Real avg. loss diff:  0.4978229 Est. avg. loss diff:  0.3364299\n",
      "Working on epsilon:  0.2\n",
      "lbfgs training took [21] iter. Accuracy: 0.868\n"
     ]
    },
    {
     "name": "stderr",
     "output_type": "stream",
     "text": [
      "IHVP sample 0: 100%|████████| 5350/5350 [00:17<00:00, 301.52it/s, est_norm=18.3]\n",
      "IHVP sample 1: 100%|████████| 5350/5350 [00:17<00:00, 302.87it/s, est_norm=18.5]\n",
      "IHVP sample 2: 100%|████████| 5350/5350 [00:17<00:00, 300.20it/s, est_norm=20.3]\n",
      "IHVP sample 3: 100%|████████| 5350/5350 [00:18<00:00, 290.03it/s, est_norm=20.3]\n",
      "IHVP sample 4: 100%|████████| 5350/5350 [00:17<00:00, 308.11it/s, est_norm=17.5]\n"
     ]
    },
    {
     "name": "stdout",
     "output_type": "stream",
     "text": [
      "Perturbation lbfgs training took [19] iter. Accuracy: 0.867\n",
      "Real avg. loss diff:  0.48114654 Est. avg. loss diff:  0.295397\n",
      "Working on epsilon:  0.25\n",
      "lbfgs training took [21] iter. Accuracy: 0.868\n"
     ]
    },
    {
     "name": "stderr",
     "output_type": "stream",
     "text": [
      "IHVP sample 0: 100%|████████| 5350/5350 [00:17<00:00, 307.85it/s, est_norm=20.5]\n",
      "IHVP sample 1: 100%|████████| 5350/5350 [00:18<00:00, 296.68it/s, est_norm=18.8]\n",
      "IHVP sample 2: 100%|████████| 5350/5350 [00:17<00:00, 299.67it/s, est_norm=19.6]\n",
      "IHVP sample 3: 100%|████████| 5350/5350 [00:18<00:00, 295.76it/s, est_norm=19.5]\n",
      "IHVP sample 4: 100%|████████| 5350/5350 [00:16<00:00, 322.77it/s, est_norm=18.2]\n"
     ]
    },
    {
     "name": "stdout",
     "output_type": "stream",
     "text": [
      "Perturbation lbfgs training took [18] iter. Accuracy: 0.864\n",
      "Real avg. loss diff:  0.47827378 Est. avg. loss diff:  0.27268407\n",
      "Working on epsilon:  0.3\n",
      "lbfgs training took [21] iter. Accuracy: 0.868\n"
     ]
    },
    {
     "name": "stderr",
     "output_type": "stream",
     "text": [
      "IHVP sample 0: 100%|████████| 5350/5350 [00:17<00:00, 302.52it/s, est_norm=19.1]\n",
      "IHVP sample 1: 100%|████████| 5350/5350 [00:16<00:00, 322.05it/s, est_norm=17.3]\n",
      "IHVP sample 2: 100%|████████| 5350/5350 [00:17<00:00, 298.92it/s, est_norm=19.9]\n",
      "IHVP sample 3: 100%|████████| 5350/5350 [00:18<00:00, 289.91it/s, est_norm=17.9]\n",
      "IHVP sample 4: 100%|████████| 5350/5350 [00:16<00:00, 319.02it/s, est_norm=18.8]\n"
     ]
    },
    {
     "name": "stdout",
     "output_type": "stream",
     "text": [
      "Perturbation lbfgs training took [19] iter. Accuracy: 0.868\n",
      "Real avg. loss diff:  0.43150893 Est. avg. loss diff:  0.29700413\n",
      "Working on epsilon:  0.35\n",
      "lbfgs training took [21] iter. Accuracy: 0.868\n"
     ]
    },
    {
     "name": "stderr",
     "output_type": "stream",
     "text": [
      "IHVP sample 0: 100%|████████| 5350/5350 [00:18<00:00, 285.61it/s, est_norm=18.9]\n",
      "IHVP sample 1: 100%|████████| 5350/5350 [00:16<00:00, 325.49it/s, est_norm=18.9]\n",
      "IHVP sample 2: 100%|██████████| 5350/5350 [00:17<00:00, 310.18it/s, est_norm=19]\n",
      "IHVP sample 3: 100%|████████| 5350/5350 [00:17<00:00, 313.06it/s, est_norm=21.7]\n",
      "IHVP sample 4: 100%|████████| 5350/5350 [00:17<00:00, 308.32it/s, est_norm=18.8]\n"
     ]
    },
    {
     "name": "stdout",
     "output_type": "stream",
     "text": [
      "Perturbation lbfgs training took [19] iter. Accuracy: 0.868\n",
      "Real avg. loss diff:  0.44595852 Est. avg. loss diff:  0.3420986\n",
      "Working on epsilon:  0.4\n",
      "lbfgs training took [21] iter. Accuracy: 0.868\n"
     ]
    },
    {
     "name": "stderr",
     "output_type": "stream",
     "text": [
      "IHVP sample 0: 100%|████████| 5350/5350 [00:17<00:00, 311.72it/s, est_norm=20.1]\n",
      "IHVP sample 1: 100%|████████| 5350/5350 [00:16<00:00, 326.04it/s, est_norm=20.7]\n",
      "IHVP sample 2: 100%|████████| 5350/5350 [00:16<00:00, 333.68it/s, est_norm=18.7]\n",
      "IHVP sample 3: 100%|████████| 5350/5350 [00:18<00:00, 290.48it/s, est_norm=19.1]\n",
      "IHVP sample 4: 100%|████████| 5350/5350 [00:18<00:00, 290.50it/s, est_norm=19.5]\n"
     ]
    },
    {
     "name": "stdout",
     "output_type": "stream",
     "text": [
      "Perturbation lbfgs training took [19] iter. Accuracy: 0.868\n",
      "Real avg. loss diff:  0.41548184 Est. avg. loss diff:  0.2820801\n",
      "Working on epsilon:  0.45\n",
      "lbfgs training took [21] iter. Accuracy: 0.868\n"
     ]
    },
    {
     "name": "stderr",
     "output_type": "stream",
     "text": [
      "IHVP sample 0: 100%|████████| 5350/5350 [00:17<00:00, 300.47it/s, est_norm=18.7]\n",
      "IHVP sample 1: 100%|████████| 5350/5350 [00:17<00:00, 300.88it/s, est_norm=17.9]\n",
      "IHVP sample 2: 100%|████████| 5350/5350 [00:17<00:00, 309.99it/s, est_norm=18.6]\n",
      "IHVP sample 3: 100%|████████| 5350/5350 [00:18<00:00, 294.61it/s, est_norm=19.3]\n",
      "IHVP sample 4: 100%|████████| 5350/5350 [00:16<00:00, 327.73it/s, est_norm=18.7]\n"
     ]
    },
    {
     "name": "stdout",
     "output_type": "stream",
     "text": [
      "Perturbation lbfgs training took [16] iter. Accuracy: 0.867\n",
      "Real avg. loss diff:  0.40089962 Est. avg. loss diff:  0.27725992\n",
      "Working on epsilon:  0.5\n",
      "lbfgs training took [21] iter. Accuracy: 0.868\n"
     ]
    },
    {
     "name": "stderr",
     "output_type": "stream",
     "text": [
      "IHVP sample 0: 100%|████████| 5350/5350 [00:18<00:00, 289.08it/s, est_norm=18.6]\n",
      "IHVP sample 1: 100%|████████| 5350/5350 [00:17<00:00, 301.38it/s, est_norm=19.6]\n",
      "IHVP sample 2: 100%|██████████| 5350/5350 [00:16<00:00, 315.88it/s, est_norm=19]\n",
      "IHVP sample 3: 100%|██████████| 5350/5350 [00:17<00:00, 299.79it/s, est_norm=20]\n",
      "IHVP sample 4: 100%|████████| 5350/5350 [00:18<00:00, 295.66it/s, est_norm=19.1]\n"
     ]
    },
    {
     "name": "stdout",
     "output_type": "stream",
     "text": [
      "Perturbation lbfgs training took [18] iter. Accuracy: 0.868\n",
      "Real avg. loss diff:  0.40417543 Est. avg. loss diff:  0.27097678\n",
      "Working on epsilon:  0.55\n",
      "lbfgs training took [21] iter. Accuracy: 0.868\n"
     ]
    },
    {
     "name": "stderr",
     "output_type": "stream",
     "text": [
      "IHVP sample 0: 100%|████████| 5350/5350 [00:18<00:00, 293.72it/s, est_norm=18.3]\n",
      "IHVP sample 1: 100%|████████| 5350/5350 [00:17<00:00, 303.21it/s, est_norm=18.6]\n",
      "IHVP sample 2: 100%|████████| 5350/5350 [00:17<00:00, 297.96it/s, est_norm=18.8]\n",
      "IHVP sample 3: 100%|████████| 5350/5350 [00:18<00:00, 297.21it/s, est_norm=18.8]\n",
      "IHVP sample 4: 100%|████████| 5350/5350 [00:17<00:00, 304.70it/s, est_norm=18.2]\n"
     ]
    },
    {
     "name": "stdout",
     "output_type": "stream",
     "text": [
      "Perturbation lbfgs training took [17] iter. Accuracy: 0.868\n",
      "Real avg. loss diff:  0.38472077 Est. avg. loss diff:  0.25224763\n",
      "Working on epsilon:  0.6\n",
      "lbfgs training took [21] iter. Accuracy: 0.868\n"
     ]
    },
    {
     "name": "stderr",
     "output_type": "stream",
     "text": [
      "IHVP sample 0: 100%|████████| 5350/5350 [00:17<00:00, 312.75it/s, est_norm=19.9]\n",
      "IHVP sample 1: 100%|████████| 5350/5350 [00:18<00:00, 291.98it/s, est_norm=19.6]\n",
      "IHVP sample 2: 100%|████████| 5350/5350 [00:17<00:00, 306.19it/s, est_norm=17.7]\n",
      "IHVP sample 3: 100%|████████| 5350/5350 [00:17<00:00, 313.77it/s, est_norm=17.6]\n",
      "IHVP sample 4: 100%|████████| 5350/5350 [00:17<00:00, 300.87it/s, est_norm=19.3]\n"
     ]
    },
    {
     "name": "stdout",
     "output_type": "stream",
     "text": [
      "Perturbation lbfgs training took [15] iter. Accuracy: 0.868\n",
      "Real avg. loss diff:  0.3451334 Est. avg. loss diff:  0.2594513\n",
      "Working on epsilon:  0.65\n",
      "lbfgs training took [21] iter. Accuracy: 0.868\n"
     ]
    },
    {
     "name": "stderr",
     "output_type": "stream",
     "text": [
      "IHVP sample 0: 100%|████████| 5350/5350 [00:16<00:00, 317.85it/s, est_norm=19.2]\n",
      "IHVP sample 1: 100%|████████| 5350/5350 [00:16<00:00, 322.06it/s, est_norm=18.4]\n",
      "IHVP sample 2: 100%|████████| 5350/5350 [00:17<00:00, 299.27it/s, est_norm=18.6]\n",
      "IHVP sample 3: 100%|████████| 5350/5350 [00:17<00:00, 301.68it/s, est_norm=19.2]\n",
      "IHVP sample 4: 100%|████████| 5350/5350 [00:16<00:00, 329.99it/s, est_norm=18.5]\n"
     ]
    },
    {
     "name": "stdout",
     "output_type": "stream",
     "text": [
      "Perturbation lbfgs training took [16] iter. Accuracy: 0.868\n",
      "Real avg. loss diff:  0.30600402 Est. avg. loss diff:  0.19683017\n",
      "Working on epsilon:  0.7\n",
      "lbfgs training took [21] iter. Accuracy: 0.868\n"
     ]
    },
    {
     "name": "stderr",
     "output_type": "stream",
     "text": [
      "IHVP sample 0: 100%|████████| 5350/5350 [00:17<00:00, 302.13it/s, est_norm=18.3]\n",
      "IHVP sample 1: 100%|████████| 5350/5350 [00:18<00:00, 294.56it/s, est_norm=18.6]\n",
      "IHVP sample 2: 100%|████████| 5350/5350 [00:18<00:00, 292.52it/s, est_norm=17.7]\n",
      "IHVP sample 3: 100%|██████████| 5350/5350 [00:18<00:00, 297.05it/s, est_norm=19]\n",
      "IHVP sample 4: 100%|████████| 5350/5350 [00:17<00:00, 298.50it/s, est_norm=19.4]\n"
     ]
    },
    {
     "name": "stdout",
     "output_type": "stream",
     "text": [
      "Perturbation lbfgs training took [17] iter. Accuracy: 0.868\n",
      "Real avg. loss diff:  0.33688572 Est. avg. loss diff:  0.23597494\n",
      "Working on epsilon:  0.75\n",
      "lbfgs training took [21] iter. Accuracy: 0.868\n"
     ]
    },
    {
     "name": "stderr",
     "output_type": "stream",
     "text": [
      "IHVP sample 0: 100%|████████| 5350/5350 [00:17<00:00, 307.91it/s, est_norm=19.4]\n",
      "IHVP sample 1: 100%|████████| 5350/5350 [00:17<00:00, 299.30it/s, est_norm=19.3]\n",
      "IHVP sample 2: 100%|████████| 5350/5350 [00:15<00:00, 334.87it/s, est_norm=20.4]\n",
      "IHVP sample 3: 100%|██████████| 5350/5350 [00:17<00:00, 302.15it/s, est_norm=19]\n",
      "IHVP sample 4: 100%|██████████| 5350/5350 [00:17<00:00, 300.11it/s, est_norm=19]\n"
     ]
    },
    {
     "name": "stdout",
     "output_type": "stream",
     "text": [
      "Perturbation lbfgs training took [17] iter. Accuracy: 0.868\n",
      "Real avg. loss diff:  0.3051149 Est. avg. loss diff:  0.20732352\n",
      "Working on epsilon:  0.8\n",
      "lbfgs training took [21] iter. Accuracy: 0.868\n"
     ]
    },
    {
     "name": "stderr",
     "output_type": "stream",
     "text": [
      "IHVP sample 0: 100%|████████| 5350/5350 [00:18<00:00, 296.27it/s, est_norm=19.8]\n",
      "IHVP sample 1: 100%|████████| 5350/5350 [00:17<00:00, 300.74it/s, est_norm=18.7]\n",
      "IHVP sample 2: 100%|████████| 5350/5350 [00:17<00:00, 298.29it/s, est_norm=19.5]\n",
      "IHVP sample 3: 100%|████████| 5350/5350 [00:17<00:00, 300.18it/s, est_norm=20.4]\n",
      "IHVP sample 4: 100%|████████| 5350/5350 [00:18<00:00, 290.02it/s, est_norm=19.8]\n"
     ]
    },
    {
     "name": "stdout",
     "output_type": "stream",
     "text": [
      "Perturbation lbfgs training took [16] iter. Accuracy: 0.868\n",
      "Real avg. loss diff:  0.31866357 Est. avg. loss diff:  0.22559819\n",
      "Working on epsilon:  0.85\n",
      "lbfgs training took [21] iter. Accuracy: 0.868\n"
     ]
    },
    {
     "name": "stderr",
     "output_type": "stream",
     "text": [
      "IHVP sample 0: 100%|████████| 5350/5350 [00:17<00:00, 310.58it/s, est_norm=20.1]\n",
      "IHVP sample 1: 100%|████████| 5350/5350 [00:16<00:00, 316.99it/s, est_norm=19.1]\n",
      "IHVP sample 2: 100%|████████| 5350/5350 [00:16<00:00, 325.28it/s, est_norm=18.6]\n",
      "IHVP sample 3: 100%|████████| 5350/5350 [00:17<00:00, 300.13it/s, est_norm=19.1]\n",
      "IHVP sample 4: 100%|████████| 5350/5350 [00:18<00:00, 295.62it/s, est_norm=20.1]\n"
     ]
    },
    {
     "name": "stdout",
     "output_type": "stream",
     "text": [
      "Perturbation lbfgs training took [13] iter. Accuracy: 0.868\n",
      "Real avg. loss diff:  0.29233053 Est. avg. loss diff:  0.20617141\n",
      "Working on epsilon:  0.9\n",
      "lbfgs training took [21] iter. Accuracy: 0.868\n"
     ]
    },
    {
     "name": "stderr",
     "output_type": "stream",
     "text": [
      "IHVP sample 0: 100%|████████| 5350/5350 [00:18<00:00, 283.76it/s, est_norm=19.5]\n",
      "IHVP sample 1: 100%|████████| 5350/5350 [00:17<00:00, 304.91it/s, est_norm=19.7]\n",
      "IHVP sample 2: 100%|████████| 5350/5350 [00:18<00:00, 296.89it/s, est_norm=18.7]\n",
      "IHVP sample 3: 100%|██████████| 5350/5350 [00:17<00:00, 298.76it/s, est_norm=19]\n",
      "IHVP sample 4: 100%|████████| 5350/5350 [00:17<00:00, 304.33it/s, est_norm=18.4]\n"
     ]
    },
    {
     "name": "stdout",
     "output_type": "stream",
     "text": [
      "Perturbation lbfgs training took [16] iter. Accuracy: 0.868\n",
      "Real avg. loss diff:  0.30995625 Est. avg. loss diff:  0.20854682\n",
      "Working on epsilon:  0.95\n",
      "lbfgs training took [21] iter. Accuracy: 0.868\n"
     ]
    },
    {
     "name": "stderr",
     "output_type": "stream",
     "text": [
      "IHVP sample 0: 100%|████████| 5350/5350 [00:15<00:00, 337.61it/s, est_norm=18.2]\n",
      "IHVP sample 1: 100%|████████| 5350/5350 [00:17<00:00, 303.37it/s, est_norm=19.4]\n",
      "IHVP sample 2: 100%|████████| 5350/5350 [00:18<00:00, 284.36it/s, est_norm=19.7]\n",
      "IHVP sample 3: 100%|████████| 5350/5350 [00:18<00:00, 286.70it/s, est_norm=17.4]\n",
      "IHVP sample 4: 100%|████████| 5350/5350 [00:17<00:00, 298.51it/s, est_norm=18.6]\n"
     ]
    },
    {
     "name": "stdout",
     "output_type": "stream",
     "text": [
      "Perturbation lbfgs training took [15] iter. Accuracy: 0.868\n",
      "Real avg. loss diff:  0.26399347 Est. avg. loss diff:  0.19624998\n",
      "Working on epsilon:  1\n",
      "lbfgs training took [21] iter. Accuracy: 0.868\n"
     ]
    },
    {
     "name": "stderr",
     "output_type": "stream",
     "text": [
      "IHVP sample 0: 100%|████████| 5350/5350 [00:17<00:00, 297.69it/s, est_norm=18.9]\n",
      "IHVP sample 1: 100%|████████| 5350/5350 [00:18<00:00, 296.84it/s, est_norm=16.9]\n",
      "IHVP sample 2: 100%|████████| 5350/5350 [00:17<00:00, 303.42it/s, est_norm=20.1]\n",
      "IHVP sample 3: 100%|████████| 5350/5350 [00:15<00:00, 334.80it/s, est_norm=17.3]\n",
      "IHVP sample 4: 100%|████████| 5350/5350 [00:18<00:00, 295.67it/s, est_norm=19.1]\n"
     ]
    },
    {
     "name": "stdout",
     "output_type": "stream",
     "text": [
      "Perturbation lbfgs training took [16] iter. Accuracy: 0.868\n",
      "Real avg. loss diff:  0.26784995 Est. avg. loss diff:  0.16362387\n",
      "Working on epsilon:  5\n",
      "lbfgs training took [21] iter. Accuracy: 0.868\n"
     ]
    },
    {
     "name": "stderr",
     "output_type": "stream",
     "text": [
      "IHVP sample 0: 100%|████████| 5350/5350 [00:17<00:00, 302.12it/s, est_norm=18.7]\n",
      "IHVP sample 1: 100%|████████| 5350/5350 [00:18<00:00, 294.57it/s, est_norm=19.6]\n",
      "IHVP sample 2: 100%|████████| 5350/5350 [00:17<00:00, 298.85it/s, est_norm=20.2]\n",
      "IHVP sample 3: 100%|████████| 5350/5350 [00:17<00:00, 306.18it/s, est_norm=19.3]\n",
      "IHVP sample 4: 100%|████████| 5350/5350 [00:18<00:00, 292.09it/s, est_norm=17.7]\n"
     ]
    },
    {
     "name": "stdout",
     "output_type": "stream",
     "text": [
      "Perturbation lbfgs training took [20] iter. Accuracy: 0.868\n",
      "Real avg. loss diff:  0.004567504 Est. avg. loss diff:  0.004230121\n",
      "Working on epsilon:  10\n",
      "lbfgs training took [21] iter. Accuracy: 0.868\n"
     ]
    },
    {
     "name": "stderr",
     "output_type": "stream",
     "text": [
      "IHVP sample 0: 100%|████████| 5350/5350 [00:19<00:00, 273.02it/s, est_norm=19.8]\n",
      "IHVP sample 1: 100%|████████| 5350/5350 [00:16<00:00, 326.48it/s, est_norm=19.4]\n",
      "IHVP sample 2: 100%|████████| 5350/5350 [00:17<00:00, 314.64it/s, est_norm=17.8]\n",
      "IHVP sample 3: 100%|████████| 5350/5350 [00:17<00:00, 297.37it/s, est_norm=18.7]\n",
      "IHVP sample 4: 100%|████████| 5350/5350 [00:18<00:00, 296.82it/s, est_norm=19.3]\n"
     ]
    },
    {
     "name": "stdout",
     "output_type": "stream",
     "text": [
      "Perturbation lbfgs training took [21] iter. Accuracy: 0.868\n",
      "Real avg. loss diff:  -3.9294362e-05 Est. avg. loss diff:  3.5256337e-05\n",
      "Working on epsilon:  0.001\n",
      "lbfgs training took [21] iter. Accuracy: 0.868\n"
     ]
    },
    {
     "name": "stderr",
     "output_type": "stream",
     "text": [
      "IHVP sample 0: 100%|████████| 5350/5350 [00:17<00:00, 306.92it/s, est_norm=20.3]\n",
      "IHVP sample 1: 100%|████████| 5350/5350 [00:18<00:00, 296.99it/s, est_norm=19.8]\n",
      "IHVP sample 2: 100%|████████| 5350/5350 [00:14<00:00, 371.82it/s, est_norm=18.6]\n",
      "IHVP sample 3: 100%|████████| 5350/5350 [00:17<00:00, 297.89it/s, est_norm=19.8]\n",
      "IHVP sample 4: 100%|████████| 5350/5350 [00:16<00:00, 319.72it/s, est_norm=20.8]\n"
     ]
    },
    {
     "name": "stdout",
     "output_type": "stream",
     "text": [
      "Perturbation lbfgs training took [18] iter. Accuracy: 0.417\n",
      "Real avg. loss diff:  0.5387496 Est. avg. loss diff:  0.34411606\n",
      "Working on epsilon:  0.005\n",
      "lbfgs training took [21] iter. Accuracy: 0.868\n"
     ]
    },
    {
     "name": "stderr",
     "output_type": "stream",
     "text": [
      "IHVP sample 0: 100%|████████| 5350/5350 [00:17<00:00, 308.39it/s, est_norm=19.9]\n",
      "IHVP sample 1: 100%|████████| 5350/5350 [00:17<00:00, 301.32it/s, est_norm=17.6]\n",
      "IHVP sample 2: 100%|████████| 5350/5350 [00:17<00:00, 298.81it/s, est_norm=18.8]\n",
      "IHVP sample 3: 100%|████████| 5350/5350 [00:16<00:00, 317.48it/s, est_norm=19.5]\n",
      "IHVP sample 4: 100%|████████| 5350/5350 [00:18<00:00, 297.05it/s, est_norm=18.7]\n"
     ]
    },
    {
     "name": "stdout",
     "output_type": "stream",
     "text": [
      "Perturbation lbfgs training took [13] iter. Accuracy: 0.613\n",
      "Real avg. loss diff:  0.5413494 Est. avg. loss diff:  0.3497388\n",
      "Working on epsilon:  0.01\n",
      "lbfgs training took [21] iter. Accuracy: 0.868\n"
     ]
    },
    {
     "name": "stderr",
     "output_type": "stream",
     "text": [
      "IHVP sample 0: 100%|████████| 5350/5350 [00:17<00:00, 304.17it/s, est_norm=18.1]\n",
      "IHVP sample 1: 100%|████████| 5350/5350 [00:18<00:00, 294.12it/s, est_norm=18.5]\n",
      "IHVP sample 2: 100%|████████| 5350/5350 [00:18<00:00, 287.19it/s, est_norm=19.8]\n",
      "IHVP sample 3: 100%|████████| 5350/5350 [00:17<00:00, 305.75it/s, est_norm=19.5]\n",
      "IHVP sample 4: 100%|████████| 5350/5350 [00:17<00:00, 300.41it/s, est_norm=17.9]\n"
     ]
    },
    {
     "name": "stdout",
     "output_type": "stream",
     "text": [
      "Perturbation lbfgs training took [18] iter. Accuracy: 0.584\n",
      "Real avg. loss diff:  0.5794735 Est. avg. loss diff:  0.33863652\n",
      "Working on epsilon:  0.05\n",
      "lbfgs training took [21] iter. Accuracy: 0.868\n"
     ]
    },
    {
     "name": "stderr",
     "output_type": "stream",
     "text": [
      "IHVP sample 0: 100%|████████| 5350/5350 [00:17<00:00, 302.08it/s, est_norm=19.4]\n",
      "IHVP sample 1: 100%|████████| 5350/5350 [00:17<00:00, 313.65it/s, est_norm=18.8]\n",
      "IHVP sample 2: 100%|████████| 5350/5350 [00:18<00:00, 290.74it/s, est_norm=18.9]\n",
      "IHVP sample 3: 100%|██████████| 5350/5350 [00:19<00:00, 276.22it/s, est_norm=19]\n",
      "IHVP sample 4: 100%|████████| 5350/5350 [00:16<00:00, 322.74it/s, est_norm=18.2]\n"
     ]
    },
    {
     "name": "stdout",
     "output_type": "stream",
     "text": [
      "Perturbation lbfgs training took [16] iter. Accuracy: 0.579\n",
      "Real avg. loss diff:  0.5539516 Est. avg. loss diff:  0.3577941\n",
      "Working on epsilon:  0.1\n",
      "lbfgs training took [21] iter. Accuracy: 0.868\n"
     ]
    },
    {
     "name": "stderr",
     "output_type": "stream",
     "text": [
      "IHVP sample 0: 100%|████████| 5350/5350 [00:17<00:00, 299.57it/s, est_norm=18.1]\n",
      "IHVP sample 1: 100%|████████| 5350/5350 [00:18<00:00, 284.31it/s, est_norm=17.6]\n",
      "IHVP sample 2: 100%|████████| 5350/5350 [00:18<00:00, 290.91it/s, est_norm=18.6]\n",
      "IHVP sample 3: 100%|██████████| 5350/5350 [00:17<00:00, 297.67it/s, est_norm=20]\n",
      "IHVP sample 4: 100%|████████| 5350/5350 [00:18<00:00, 287.60it/s, est_norm=19.5]\n"
     ]
    },
    {
     "name": "stdout",
     "output_type": "stream",
     "text": [
      "Perturbation lbfgs training took [18] iter. Accuracy: 0.853\n",
      "Real avg. loss diff:  0.49692193 Est. avg. loss diff:  0.3088005\n",
      "Working on epsilon:  0.15\n",
      "lbfgs training took [21] iter. Accuracy: 0.868\n"
     ]
    },
    {
     "name": "stderr",
     "output_type": "stream",
     "text": [
      "IHVP sample 0: 100%|██████████| 5350/5350 [00:16<00:00, 319.92it/s, est_norm=18]\n",
      "IHVP sample 1: 100%|██████████| 5350/5350 [00:17<00:00, 300.39it/s, est_norm=20]\n",
      "IHVP sample 2: 100%|████████| 5350/5350 [00:16<00:00, 317.91it/s, est_norm=19.6]\n",
      "IHVP sample 3: 100%|████████| 5350/5350 [00:15<00:00, 354.39it/s, est_norm=19.9]\n",
      "IHVP sample 4: 100%|████████| 5350/5350 [00:17<00:00, 307.09it/s, est_norm=18.2]\n"
     ]
    },
    {
     "name": "stdout",
     "output_type": "stream",
     "text": [
      "Perturbation lbfgs training took [19] iter. Accuracy: 0.818\n",
      "Real avg. loss diff:  0.5333965 Est. avg. loss diff:  0.30507398\n",
      "Working on epsilon:  0.2\n",
      "lbfgs training took [21] iter. Accuracy: 0.868\n"
     ]
    },
    {
     "name": "stderr",
     "output_type": "stream",
     "text": [
      "IHVP sample 0: 100%|██████████| 5350/5350 [00:17<00:00, 301.17it/s, est_norm=19]\n",
      "IHVP sample 1: 100%|████████| 5350/5350 [00:17<00:00, 299.98it/s, est_norm=18.6]\n",
      "IHVP sample 2: 100%|████████| 5350/5350 [00:17<00:00, 303.52it/s, est_norm=20.1]\n",
      "IHVP sample 3: 100%|████████| 5350/5350 [00:17<00:00, 298.62it/s, est_norm=18.2]\n",
      "IHVP sample 4: 100%|████████| 5350/5350 [00:17<00:00, 305.21it/s, est_norm=19.1]\n"
     ]
    },
    {
     "name": "stdout",
     "output_type": "stream",
     "text": [
      "Perturbation lbfgs training took [18] iter. Accuracy: 0.828\n",
      "Real avg. loss diff:  0.4766231 Est. avg. loss diff:  0.2937837\n",
      "Working on epsilon:  0.25\n",
      "lbfgs training took [21] iter. Accuracy: 0.868\n"
     ]
    },
    {
     "name": "stderr",
     "output_type": "stream",
     "text": [
      "IHVP sample 0: 100%|████████| 5350/5350 [00:16<00:00, 315.31it/s, est_norm=19.2]\n",
      "IHVP sample 1: 100%|████████| 5350/5350 [00:18<00:00, 292.18it/s, est_norm=18.3]\n",
      "IHVP sample 2: 100%|████████| 5350/5350 [00:17<00:00, 297.44it/s, est_norm=18.4]\n",
      "IHVP sample 3: 100%|████████| 5350/5350 [00:17<00:00, 299.51it/s, est_norm=19.2]\n",
      "IHVP sample 4: 100%|████████| 5350/5350 [00:17<00:00, 301.11it/s, est_norm=18.1]\n"
     ]
    },
    {
     "name": "stdout",
     "output_type": "stream",
     "text": [
      "Perturbation lbfgs training took [19] iter. Accuracy: 0.867\n",
      "Real avg. loss diff:  0.47877225 Est. avg. loss diff:  0.2817381\n",
      "Working on epsilon:  0.3\n",
      "lbfgs training took [21] iter. Accuracy: 0.868\n"
     ]
    },
    {
     "name": "stderr",
     "output_type": "stream",
     "text": [
      "IHVP sample 0: 100%|████████| 5350/5350 [00:17<00:00, 303.23it/s, est_norm=19.9]\n",
      "IHVP sample 1: 100%|████████| 5350/5350 [00:17<00:00, 299.34it/s, est_norm=19.1]\n",
      "IHVP sample 2: 100%|██████████| 5350/5350 [00:15<00:00, 344.43it/s, est_norm=19]\n",
      "IHVP sample 3: 100%|████████| 5350/5350 [00:17<00:00, 310.17it/s, est_norm=19.1]\n",
      "IHVP sample 4: 100%|████████| 5350/5350 [00:18<00:00, 296.36it/s, est_norm=17.1]\n"
     ]
    },
    {
     "name": "stdout",
     "output_type": "stream",
     "text": [
      "Perturbation lbfgs training took [18] iter. Accuracy: 0.866\n",
      "Real avg. loss diff:  0.4329469 Est. avg. loss diff:  0.343525\n",
      "Working on epsilon:  0.35\n",
      "lbfgs training took [21] iter. Accuracy: 0.868\n"
     ]
    },
    {
     "name": "stderr",
     "output_type": "stream",
     "text": [
      "IHVP sample 0: 100%|████████| 5350/5350 [00:17<00:00, 305.92it/s, est_norm=20.7]\n",
      "IHVP sample 1: 100%|████████| 5350/5350 [00:17<00:00, 301.84it/s, est_norm=19.6]\n",
      "IHVP sample 2: 100%|████████| 5350/5350 [00:16<00:00, 326.81it/s, est_norm=18.5]\n",
      "IHVP sample 3: 100%|████████| 5350/5350 [00:17<00:00, 302.83it/s, est_norm=18.7]\n",
      "IHVP sample 4: 100%|████████| 5350/5350 [00:16<00:00, 332.34it/s, est_norm=18.6]\n"
     ]
    },
    {
     "name": "stdout",
     "output_type": "stream",
     "text": [
      "Perturbation lbfgs training took [18] iter. Accuracy: 0.868\n",
      "Real avg. loss diff:  0.4459481 Est. avg. loss diff:  0.24842174\n",
      "Working on epsilon:  0.4\n",
      "lbfgs training took [21] iter. Accuracy: 0.868\n"
     ]
    },
    {
     "name": "stderr",
     "output_type": "stream",
     "text": [
      "IHVP sample 0: 100%|████████| 5350/5350 [00:18<00:00, 290.92it/s, est_norm=19.5]\n",
      "IHVP sample 1: 100%|████████| 5350/5350 [00:17<00:00, 297.45it/s, est_norm=18.6]\n",
      "IHVP sample 2: 100%|████████| 5350/5350 [00:18<00:00, 284.74it/s, est_norm=18.3]\n",
      "IHVP sample 3: 100%|████████| 5350/5350 [00:17<00:00, 306.14it/s, est_norm=18.4]\n",
      "IHVP sample 4: 100%|████████| 5350/5350 [00:17<00:00, 300.05it/s, est_norm=17.9]\n"
     ]
    },
    {
     "name": "stdout",
     "output_type": "stream",
     "text": [
      "Perturbation lbfgs training took [17] iter. Accuracy: 0.868\n",
      "Real avg. loss diff:  0.40501258 Est. avg. loss diff:  0.28404158\n",
      "Working on epsilon:  0.45\n",
      "lbfgs training took [21] iter. Accuracy: 0.868\n"
     ]
    },
    {
     "name": "stderr",
     "output_type": "stream",
     "text": [
      "IHVP sample 0: 100%|████████| 5350/5350 [00:17<00:00, 302.69it/s, est_norm=18.2]\n",
      "IHVP sample 1: 100%|██████████| 5350/5350 [00:18<00:00, 294.53it/s, est_norm=20]\n",
      "IHVP sample 2: 100%|████████| 5350/5350 [00:18<00:00, 281.60it/s, est_norm=19.7]\n",
      "IHVP sample 3: 100%|████████| 5350/5350 [00:17<00:00, 301.63it/s, est_norm=19.2]\n",
      "IHVP sample 4: 100%|████████| 5350/5350 [00:17<00:00, 310.95it/s, est_norm=17.6]\n"
     ]
    },
    {
     "name": "stdout",
     "output_type": "stream",
     "text": [
      "Perturbation lbfgs training took [19] iter. Accuracy: 0.868\n",
      "Real avg. loss diff:  0.37053075 Est. avg. loss diff:  0.3005842\n",
      "Working on epsilon:  0.5\n",
      "lbfgs training took [21] iter. Accuracy: 0.868\n"
     ]
    },
    {
     "name": "stderr",
     "output_type": "stream",
     "text": [
      "IHVP sample 0: 100%|████████| 5350/5350 [00:18<00:00, 296.32it/s, est_norm=19.4]\n",
      "IHVP sample 1: 100%|████████| 5350/5350 [00:17<00:00, 306.92it/s, est_norm=18.6]\n",
      "IHVP sample 2: 100%|██████████| 5350/5350 [00:18<00:00, 296.15it/s, est_norm=18]\n",
      "IHVP sample 3: 100%|████████| 5350/5350 [00:18<00:00, 292.08it/s, est_norm=20.2]\n",
      "IHVP sample 4: 100%|████████| 5350/5350 [00:19<00:00, 274.98it/s, est_norm=18.6]\n"
     ]
    },
    {
     "name": "stdout",
     "output_type": "stream",
     "text": [
      "Perturbation lbfgs training took [16] iter. Accuracy: 0.868\n",
      "Real avg. loss diff:  0.35848513 Est. avg. loss diff:  0.25757962\n",
      "Working on epsilon:  0.55\n",
      "lbfgs training took [21] iter. Accuracy: 0.868\n"
     ]
    },
    {
     "name": "stderr",
     "output_type": "stream",
     "text": [
      "IHVP sample 0: 100%|████████| 5350/5350 [00:19<00:00, 269.90it/s, est_norm=19.8]\n",
      "IHVP sample 1: 100%|████████| 5350/5350 [00:16<00:00, 317.89it/s, est_norm=18.4]\n",
      "IHVP sample 2: 100%|████████| 5350/5350 [00:18<00:00, 296.65it/s, est_norm=20.2]\n",
      "IHVP sample 3: 100%|████████| 5350/5350 [00:16<00:00, 332.09it/s, est_norm=17.7]\n",
      "IHVP sample 4: 100%|██████████| 5350/5350 [00:17<00:00, 301.79it/s, est_norm=19]\n"
     ]
    },
    {
     "name": "stdout",
     "output_type": "stream",
     "text": [
      "Perturbation lbfgs training took [16] iter. Accuracy: 0.867\n",
      "Real avg. loss diff:  0.3483561 Est. avg. loss diff:  0.2608117\n",
      "Working on epsilon:  0.6\n",
      "lbfgs training took [21] iter. Accuracy: 0.868\n"
     ]
    },
    {
     "name": "stderr",
     "output_type": "stream",
     "text": [
      "IHVP sample 0: 100%|████████| 5350/5350 [00:15<00:00, 344.31it/s, est_norm=20.9]\n",
      "IHVP sample 1: 100%|████████| 5350/5350 [00:17<00:00, 300.84it/s, est_norm=18.6]\n",
      "IHVP sample 2: 100%|████████| 5350/5350 [00:17<00:00, 304.29it/s, est_norm=19.2]\n",
      "IHVP sample 3: 100%|████████| 5350/5350 [00:17<00:00, 303.77it/s, est_norm=19.4]\n",
      "IHVP sample 4: 100%|████████| 5350/5350 [00:17<00:00, 302.27it/s, est_norm=19.5]\n"
     ]
    },
    {
     "name": "stdout",
     "output_type": "stream",
     "text": [
      "Perturbation lbfgs training took [17] iter. Accuracy: 0.868\n",
      "Real avg. loss diff:  0.33000892 Est. avg. loss diff:  0.26678658\n",
      "Working on epsilon:  0.65\n",
      "lbfgs training took [21] iter. Accuracy: 0.868\n"
     ]
    },
    {
     "name": "stderr",
     "output_type": "stream",
     "text": [
      "IHVP sample 0: 100%|██████████| 5350/5350 [00:17<00:00, 303.00it/s, est_norm=19]\n",
      "IHVP sample 1: 100%|████████| 5350/5350 [00:18<00:00, 294.53it/s, est_norm=18.7]\n",
      "IHVP sample 2: 100%|████████| 5350/5350 [00:17<00:00, 314.29it/s, est_norm=19.1]\n",
      "IHVP sample 3: 100%|████████| 5350/5350 [00:17<00:00, 301.66it/s, est_norm=18.4]\n",
      "IHVP sample 4: 100%|████████| 5350/5350 [00:17<00:00, 303.10it/s, est_norm=18.5]\n"
     ]
    },
    {
     "name": "stdout",
     "output_type": "stream",
     "text": [
      "Perturbation lbfgs training took [17] iter. Accuracy: 0.868\n",
      "Real avg. loss diff:  0.34855607 Est. avg. loss diff:  0.2389309\n",
      "Working on epsilon:  0.7\n",
      "lbfgs training took [21] iter. Accuracy: 0.868\n"
     ]
    },
    {
     "name": "stderr",
     "output_type": "stream",
     "text": [
      "IHVP sample 0: 100%|████████| 5350/5350 [00:17<00:00, 300.28it/s, est_norm=19.8]\n",
      "IHVP sample 1: 100%|████████| 5350/5350 [00:19<00:00, 273.04it/s, est_norm=19.9]\n",
      "IHVP sample 2: 100%|████████| 5350/5350 [00:16<00:00, 322.64it/s, est_norm=18.1]\n",
      "IHVP sample 3: 100%|████████| 5350/5350 [00:16<00:00, 317.94it/s, est_norm=18.8]\n",
      "IHVP sample 4: 100%|████████| 5350/5350 [00:17<00:00, 302.67it/s, est_norm=17.8]\n"
     ]
    },
    {
     "name": "stdout",
     "output_type": "stream",
     "text": [
      "Perturbation lbfgs training took [17] iter. Accuracy: 0.868\n",
      "Real avg. loss diff:  0.3409718 Est. avg. loss diff:  0.21352029\n",
      "Working on epsilon:  0.75\n",
      "lbfgs training took [21] iter. Accuracy: 0.868\n"
     ]
    },
    {
     "name": "stderr",
     "output_type": "stream",
     "text": [
      "IHVP sample 0: 100%|████████| 5350/5350 [00:18<00:00, 296.89it/s, est_norm=19.9]\n",
      "IHVP sample 1: 100%|████████| 5350/5350 [00:17<00:00, 308.22it/s, est_norm=19.1]\n",
      "IHVP sample 2: 100%|████████| 5350/5350 [00:17<00:00, 299.89it/s, est_norm=19.3]\n",
      "IHVP sample 3: 100%|████████| 5350/5350 [00:17<00:00, 299.22it/s, est_norm=18.2]\n",
      "IHVP sample 4: 100%|████████| 5350/5350 [00:17<00:00, 301.47it/s, est_norm=17.2]\n"
     ]
    },
    {
     "name": "stdout",
     "output_type": "stream",
     "text": [
      "Perturbation lbfgs training took [16] iter. Accuracy: 0.868\n",
      "Real avg. loss diff:  0.30060673 Est. avg. loss diff:  0.21831031\n",
      "Working on epsilon:  0.8\n",
      "lbfgs training took [21] iter. Accuracy: 0.868\n"
     ]
    },
    {
     "name": "stderr",
     "output_type": "stream",
     "text": [
      "IHVP sample 0: 100%|████████| 5350/5350 [00:18<00:00, 281.68it/s, est_norm=19.9]\n",
      "IHVP sample 1: 100%|████████| 5350/5350 [00:17<00:00, 301.64it/s, est_norm=19.1]\n",
      "IHVP sample 2: 100%|████████| 5350/5350 [00:16<00:00, 315.85it/s, est_norm=19.5]\n",
      "IHVP sample 3: 100%|████████| 5350/5350 [00:17<00:00, 301.81it/s, est_norm=18.4]\n",
      "IHVP sample 4: 100%|████████| 5350/5350 [00:17<00:00, 300.61it/s, est_norm=18.4]\n"
     ]
    },
    {
     "name": "stdout",
     "output_type": "stream",
     "text": [
      "Perturbation lbfgs training took [16] iter. Accuracy: 0.868\n",
      "Real avg. loss diff:  0.30350444 Est. avg. loss diff:  0.20973268\n",
      "Working on epsilon:  0.85\n",
      "lbfgs training took [21] iter. Accuracy: 0.868\n"
     ]
    },
    {
     "name": "stderr",
     "output_type": "stream",
     "text": [
      "IHVP sample 0: 100%|████████| 5350/5350 [00:17<00:00, 302.35it/s, est_norm=19.8]\n",
      "IHVP sample 1: 100%|████████| 5350/5350 [00:17<00:00, 298.82it/s, est_norm=19.9]\n",
      "IHVP sample 2: 100%|████████| 5350/5350 [00:18<00:00, 296.54it/s, est_norm=18.1]\n",
      "IHVP sample 3: 100%|████████| 5350/5350 [00:18<00:00, 296.56it/s, est_norm=19.1]\n",
      "IHVP sample 4: 100%|████████| 5350/5350 [00:17<00:00, 299.18it/s, est_norm=20.6]\n"
     ]
    },
    {
     "name": "stdout",
     "output_type": "stream",
     "text": [
      "Perturbation lbfgs training took [14] iter. Accuracy: 0.868\n",
      "Real avg. loss diff:  0.2888521 Est. avg. loss diff:  0.1689769\n",
      "Working on epsilon:  0.9\n",
      "lbfgs training took [21] iter. Accuracy: 0.868\n"
     ]
    },
    {
     "name": "stderr",
     "output_type": "stream",
     "text": [
      "IHVP sample 0: 100%|████████| 5350/5350 [00:17<00:00, 302.47it/s, est_norm=20.2]\n",
      "IHVP sample 1: 100%|████████| 5350/5350 [00:17<00:00, 299.36it/s, est_norm=17.9]\n",
      "IHVP sample 2: 100%|██████████| 5350/5350 [00:17<00:00, 301.51it/s, est_norm=21]\n",
      "IHVP sample 3: 100%|████████| 5350/5350 [00:17<00:00, 298.02it/s, est_norm=17.6]\n",
      "IHVP sample 4: 100%|████████| 5350/5350 [00:18<00:00, 295.21it/s, est_norm=18.8]\n"
     ]
    },
    {
     "name": "stdout",
     "output_type": "stream",
     "text": [
      "Perturbation lbfgs training took [18] iter. Accuracy: 0.868\n",
      "Real avg. loss diff:  0.30414528 Est. avg. loss diff:  0.20873518\n",
      "Working on epsilon:  0.95\n",
      "lbfgs training took [21] iter. Accuracy: 0.868\n"
     ]
    },
    {
     "name": "stderr",
     "output_type": "stream",
     "text": [
      "IHVP sample 0: 100%|████████| 5350/5350 [00:17<00:00, 310.18it/s, est_norm=19.2]\n",
      "IHVP sample 1: 100%|████████| 5350/5350 [00:17<00:00, 300.34it/s, est_norm=16.6]\n",
      "IHVP sample 2: 100%|████████| 5350/5350 [00:18<00:00, 295.33it/s, est_norm=19.5]\n",
      "IHVP sample 3: 100%|████████| 5350/5350 [00:17<00:00, 308.59it/s, est_norm=18.4]\n",
      "IHVP sample 4: 100%|████████| 5350/5350 [00:16<00:00, 314.96it/s, est_norm=19.2]\n"
     ]
    },
    {
     "name": "stdout",
     "output_type": "stream",
     "text": [
      "Perturbation lbfgs training took [16] iter. Accuracy: 0.868\n",
      "Real avg. loss diff:  0.26426896 Est. avg. loss diff:  0.19838029\n",
      "Working on epsilon:  1\n",
      "lbfgs training took [21] iter. Accuracy: 0.868\n"
     ]
    },
    {
     "name": "stderr",
     "output_type": "stream",
     "text": [
      "IHVP sample 0: 100%|████████| 5350/5350 [00:17<00:00, 310.72it/s, est_norm=18.8]\n",
      "IHVP sample 1: 100%|████████| 5350/5350 [00:18<00:00, 296.37it/s, est_norm=19.2]\n",
      "IHVP sample 2: 100%|████████| 5350/5350 [00:17<00:00, 302.70it/s, est_norm=18.1]\n",
      "IHVP sample 3: 100%|████████| 5350/5350 [00:17<00:00, 301.68it/s, est_norm=18.6]\n",
      "IHVP sample 4: 100%|████████| 5350/5350 [00:19<00:00, 281.56it/s, est_norm=18.3]\n"
     ]
    },
    {
     "name": "stdout",
     "output_type": "stream",
     "text": [
      "Perturbation lbfgs training took [16] iter. Accuracy: 0.868\n",
      "Real avg. loss diff:  0.24885738 Est. avg. loss diff:  0.16881645\n",
      "Working on epsilon:  5\n",
      "lbfgs training took [21] iter. Accuracy: 0.868\n"
     ]
    },
    {
     "name": "stderr",
     "output_type": "stream",
     "text": [
      "IHVP sample 0: 100%|████████| 5350/5350 [00:18<00:00, 282.43it/s, est_norm=20.4]\n",
      "IHVP sample 1: 100%|████████| 5350/5350 [00:18<00:00, 295.22it/s, est_norm=20.8]\n",
      "IHVP sample 2: 100%|████████| 5350/5350 [00:18<00:00, 286.61it/s, est_norm=18.8]\n",
      "IHVP sample 3: 100%|████████| 5350/5350 [00:17<00:00, 303.48it/s, est_norm=19.9]\n",
      "IHVP sample 4: 100%|████████| 5350/5350 [00:17<00:00, 299.01it/s, est_norm=19.1]\n"
     ]
    },
    {
     "name": "stdout",
     "output_type": "stream",
     "text": [
      "Perturbation lbfgs training took [20] iter. Accuracy: 0.868\n",
      "Real avg. loss diff:  0.003940761 Est. avg. loss diff:  0.0051079555\n",
      "Working on epsilon:  10\n",
      "lbfgs training took [21] iter. Accuracy: 0.868\n"
     ]
    },
    {
     "name": "stderr",
     "output_type": "stream",
     "text": [
      "IHVP sample 0: 100%|████████| 5350/5350 [00:17<00:00, 300.94it/s, est_norm=17.1]\n",
      "IHVP sample 1: 100%|████████| 5350/5350 [00:18<00:00, 291.37it/s, est_norm=18.8]\n",
      "IHVP sample 2: 100%|████████| 5350/5350 [00:17<00:00, 310.42it/s, est_norm=18.3]\n",
      "IHVP sample 3: 100%|████████| 5350/5350 [00:17<00:00, 303.93it/s, est_norm=21.1]\n",
      "IHVP sample 4: 100%|████████| 5350/5350 [00:17<00:00, 312.81it/s, est_norm=19.2]\n"
     ]
    },
    {
     "name": "stdout",
     "output_type": "stream",
     "text": [
      "Perturbation lbfgs training took [21] iter. Accuracy: 0.868\n",
      "Real avg. loss diff:  0.0 Est. avg. loss diff:  -6.043023e-11\n"
     ]
    }
   ],
   "source": [
    "epsilons = [.001, .005, .01, .05, .1, .15, .2, .25, .3, .35, .4, .45, .5, .55, .6, .65, .7, .75, .8, .85, .9, .95, 1, 5, 10]\n",
    "\n",
    "all_avg = []\n",
    "all_est = []\n",
    "\n",
    "weight_decay = 0.01\n",
    "rec_depth = 5350\n",
    "r = 5\n",
    "scale = 10\n",
    "damp = 0.01 \n",
    "rounds = 5\n",
    "\n",
    "LOO = TestLeaveOneOut()\n",
    "\n",
    "for ro in range(rounds):\n",
    "    avg_losses = []\n",
    "    est_losses = []\n",
    "    for e in epsilons:\n",
    "        print('Working on epsilon: ', e)\n",
    "        avg_loss_diff, est_loss_diff = LOO.test_leave_one_out(e, weight_decay, rec_depth, r, scale, damp)\n",
    "        avg_losses.append(avg_loss_diff)\n",
    "        est_losses.append(est_loss_diff)\n",
    "    all_avg.append(avg_losses)\n",
    "    all_est.append(est_losses)\n",
    "    \n",
    "final_real = [0 for x in range(len(epsilons))]\n",
    "final_est = [0 for x in range(len(epsilons))]\n",
    "\n",
    "for i in range(len(final_real)):\n",
    "    for j in range(len(all_avg)):\n",
    "        final_real[i] = final_real[i] + all_avg[j][i]\n",
    "        final_est[i] = final_est[i] + all_est[j][i]\n",
    "\n"
   ]
  },
  {
   "cell_type": "code",
   "execution_count": 2,
   "id": "060094e9",
   "metadata": {},
   "outputs": [
    {
     "ename": "NameError",
     "evalue": "name 'final_real' is not defined",
     "output_type": "error",
     "traceback": [
      "\u001b[0;31m---------------------------------------------------------------------------\u001b[0m",
      "\u001b[0;31mNameError\u001b[0m                                 Traceback (most recent call last)",
      "Cell \u001b[0;32mIn[2], line 1\u001b[0m\n\u001b[0;32m----> 1\u001b[0m graph([\u001b[43mfinal_real\u001b[49m, final_est, epsilons], \u001b[38;5;124m'\u001b[39m\u001b[38;5;124mActual vs. Estimated Loss per Epsilon\u001b[39m\u001b[38;5;124m'\u001b[39m, \u001b[38;5;124m'\u001b[39m\u001b[38;5;124mepsilon\u001b[39m\u001b[38;5;124m'\u001b[39m, \u001b[38;5;124m'\u001b[39m\u001b[38;5;124mAverage Loss\u001b[39m\u001b[38;5;124m'\u001b[39m, [\u001b[38;5;124m'\u001b[39m\u001b[38;5;124mActual\u001b[39m\u001b[38;5;124m'\u001b[39m, \u001b[38;5;124m'\u001b[39m\u001b[38;5;124mEstimated\u001b[39m\u001b[38;5;124m'\u001b[39m])\n",
      "\u001b[0;31mNameError\u001b[0m: name 'final_real' is not defined"
     ]
    }
   ],
   "source": [
    "graph([final_real, final_est, epsilons], 'Actual vs. Estimated Loss per Epsilon', 'epsilon', 'Average Loss', ['Actual', 'Estimated'])"
   ]
  },
  {
   "cell_type": "code",
   "execution_count": 21,
   "id": "752355d6",
   "metadata": {},
   "outputs": [
    {
     "data": {
      "image/png": "[encoded data removed]",
      "text/plain": [
       "<Figure size 1800x1500 with 1 Axes>"
      ]
     },
     "metadata": {},
     "output_type": "display_data"
    }
   ],
   "source": [
    "r2_s = visualize_result(final_real, final_est)"
   ]
  },
  {
   "cell_type": "code",
   "execution_count": null,
   "id": "19cc7497",
   "metadata": {},
   "outputs": [],
   "source": []
  },
  {
   "cell_type": "code",
   "execution_count": null,
   "id": "3d815add",
   "metadata": {},
   "outputs": [],
   "source": []
  }
 ],
 "metadata": {
  "kernelspec": {
   "display_name": "Python 3 (ipykernel)",
   "language": "python",
   "name": "python3"
  },
  "language_info": {
   "codemirror_mode": {
    "name": "ipython",
    "version": 3
   },
   "file_extension": ".py",
   "mimetype": "text/x-python",
   "name": "python",
   "nbconvert_exporter": "python",
   "pygments_lexer": "ipython3",
   "version": "3.9.15"
  }
 },
 "nbformat": 4,
 "nbformat_minor": 5
}
