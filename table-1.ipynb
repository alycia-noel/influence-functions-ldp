{
 "cells": [
  {
   "cell_type": "code",
   "execution_count": 4,
   "id": "abc6269c",
   "metadata": {},
   "outputs": [],
   "source": [
    "import numpy as np\n",
    "import pandas as pd\n",
    "import statsmodels.api as sm \n",
    "import seaborn as sns\n",
    "\n",
    "from sklearn.model_selection import train_test_split\n",
    "from sklearn.linear_model import LogisticRegression\n",
    "from sklearn.model_selection import cross_val_score\n",
    "from imblearn.under_sampling import RandomUnderSampler\n",
    "from sklearn.metrics import accuracy_score, precision_score, recall_score"
   ]
  },
  {
   "cell_type": "markdown",
   "id": "8e9d0342",
   "metadata": {},
   "source": [
    "### Diabetes-130"
   ]
  },
  {
   "cell_type": "code",
   "execution_count": 11,
   "id": "98d66f82",
   "metadata": {},
   "outputs": [
    {
     "data": {
      "text/plain": [
       "Index(['gender', 'time_in_hospital', 'num_lab_procedures', 'num_procedures',\n",
       "       'num_medications', 'number_outpatient', 'number_emergency',\n",
       "       'number_inpatient', 'number_diagnoses', 'metformin', 'repaglinide',\n",
       "       'nateglinide', 'chlorpropamide', 'glimepiride', 'acetohexamide',\n",
       "       'glipizide', 'glyburide', 'tolbutamide', 'pioglitazone',\n",
       "       'rosiglitazone', 'acarbose', 'miglitol', 'troglitazone', 'tolazamide',\n",
       "       'insulin', 'glyburide-metformin', 'glipizide-metformin',\n",
       "       'metformin-pioglitazone', 'change', 'diabetesMed', 'readmitted',\n",
       "       'numchange', 'age_-3.787224938653078', 'age_-3.161411479692977',\n",
       "       'age_-2.535598020732876', 'age_-1.909784561772775',\n",
       "       'age_-1.283971102812674', 'age_-0.658157643852573',\n",
       "       'age_-0.032344184892472004', 'age_0.593469274067629',\n",
       "       'age_1.21928273302773', 'age_1.845096191987831', 'admission_type_id_1',\n",
       "       'admission_type_id_3', 'admission_type_id_4', 'admission_type_id_5',\n",
       "       'discharge_disposition_id_1', 'discharge_disposition_id_2',\n",
       "       'discharge_disposition_id_7', 'discharge_disposition_id_10',\n",
       "       'discharge_disposition_id_18', 'discharge_disposition_id_19',\n",
       "       'discharge_disposition_id_20', 'discharge_disposition_id_27',\n",
       "       'discharge_disposition_id_28', 'admission_source_id_1',\n",
       "       'admission_source_id_4', 'admission_source_id_7',\n",
       "       'admission_source_id_8', 'admission_source_id_9',\n",
       "       'admission_source_id_11', 'max_glu_serum_-99', 'max_glu_serum_0',\n",
       "       'max_glu_serum_1', 'A1Cresult_-99', 'A1Cresult_0', 'A1Cresult_1',\n",
       "       'level1_diag1_0.0', 'level1_diag1_1.0', 'level1_diag1_2.0',\n",
       "       'level1_diag1_3.0', 'level1_diag1_4.0', 'level1_diag1_5.0',\n",
       "       'level1_diag1_6.0', 'level1_diag1_7.0', 'level1_diag1_8.0',\n",
       "       'race_AfricanAmerican', 'race_Asian', 'race_Caucasian', 'race_Hispanic',\n",
       "       'race_Other'],\n",
       "      dtype='object')"
      ]
     },
     "execution_count": 11,
     "metadata": {},
     "output_type": "execute_result"
    }
   ],
   "source": [
    "#loading Dataset\n",
    "data = pd.read_csv('data/diabetic_data.csv')\n",
    "\n",
    "data = data.drop(['weight','payer_code','medical_specialty', 'citoglipton', 'examide'], axis = 1)\n",
    "data = data[data.diag_1 != '?'] \n",
    "data = data[data.diag_1 != '?'] \n",
    "data = data[data.diag_1 != '?'] \n",
    "data = data[data.race != '?']\n",
    "data = data[data.discharge_disposition_id != 11]\n",
    "data = data[data.gender != 'Unknown/Invalid']\n",
    "\n",
    "keys = ['metformin', 'repaglinide', 'nateglinide', 'chlorpropamide', 'glimepiride', 'glipizide', 'glyburide', 'pioglitazone', 'rosiglitazone', 'acarbose', 'miglitol', 'insulin', 'glyburide-metformin', 'tolazamide', 'metformin-pioglitazone','metformin-rosiglitazone', 'glimepiride-pioglitazone', 'glipizide-metformin', 'troglitazone', 'tolbutamide', 'acetohexamide']\n",
    "\n",
    "for col in keys:\n",
    "    colname = str(col) + 'temp'\n",
    "    data[colname] = data[col].apply(lambda x: 0 if (x == 'No' or x == 'Steady') else 1)\n",
    "data['numchange'] = 0\n",
    "\n",
    "for col in keys:\n",
    "    colname = str(col) + 'temp'\n",
    "    data['numchange'] = data['numchange'] + data[colname]\n",
    "    del data[colname]\n",
    "    \n",
    "data['admission_type_id'] = data['admission_type_id'].replace(2,1)\n",
    "data['admission_type_id'] = data['admission_type_id'].replace(7,1)\n",
    "data['admission_type_id'] = data['admission_type_id'].replace(6,5)\n",
    "data['admission_type_id'] = data['admission_type_id'].replace(8,5)\n",
    "\n",
    "data['discharge_disposition_id'] = data['discharge_disposition_id'].replace(6,1)\n",
    "data['discharge_disposition_id'] = data['discharge_disposition_id'].replace(8,1)\n",
    "data['discharge_disposition_id'] = data['discharge_disposition_id'].replace(9,1)\n",
    "data['discharge_disposition_id'] = data['discharge_disposition_id'].replace(13,1)\n",
    "data['discharge_disposition_id'] = data['discharge_disposition_id'].replace(3,2)\n",
    "data['discharge_disposition_id'] = data['discharge_disposition_id'].replace(4,2)\n",
    "data['discharge_disposition_id'] = data['discharge_disposition_id'].replace(5,2)\n",
    "data['discharge_disposition_id'] = data['discharge_disposition_id'].replace(14,2)\n",
    "data['discharge_disposition_id'] = data['discharge_disposition_id'].replace(22,2)\n",
    "data['discharge_disposition_id'] = data['discharge_disposition_id'].replace(23,2)\n",
    "data['discharge_disposition_id'] = data['discharge_disposition_id'].replace(24,2)\n",
    "data['discharge_disposition_id'] = data['discharge_disposition_id'].replace(12,10)\n",
    "data['discharge_disposition_id'] = data['discharge_disposition_id'].replace(15,10)\n",
    "data['discharge_disposition_id'] = data['discharge_disposition_id'].replace(16,10)\n",
    "data['discharge_disposition_id'] = data['discharge_disposition_id'].replace(17,10)\n",
    "data['discharge_disposition_id'] = data['discharge_disposition_id'].replace(25,18)\n",
    "data['discharge_disposition_id'] = data['discharge_disposition_id'].replace(26,18)\n",
    "\n",
    "data['admission_source_id'] = data['admission_source_id'].replace(2,1)\n",
    "data['admission_source_id'] = data['admission_source_id'].replace(3,1)\n",
    "data['admission_source_id'] = data['admission_source_id'].replace(5,4)\n",
    "data['admission_source_id'] = data['admission_source_id'].replace(6,4)\n",
    "data['admission_source_id'] = data['admission_source_id'].replace(10,4)\n",
    "data['admission_source_id'] = data['admission_source_id'].replace(22,4)\n",
    "data['admission_source_id'] = data['admission_source_id'].replace(25,4)\n",
    "data['admission_source_id'] = data['admission_source_id'].replace(15,9)\n",
    "data['admission_source_id'] = data['admission_source_id'].replace(17,9)\n",
    "data['admission_source_id'] = data['admission_source_id'].replace(20,9)\n",
    "data['admission_source_id'] = data['admission_source_id'].replace(21,9)\n",
    "data['admission_source_id'] = data['admission_source_id'].replace(13,11)\n",
    "data['admission_source_id'] = data['admission_source_id'].replace(14,11)\n",
    "\n",
    "data['change'] = data['change'].replace('Ch', 1)\n",
    "data['change'] = data['change'].replace('No', 0)\n",
    "data['gender'] = data['gender'].replace('Male', 1)\n",
    "data['gender'] = data['gender'].replace('Female', 0)\n",
    "data['diabetesMed'] = data['diabetesMed'].replace('Yes', 1)\n",
    "data['diabetesMed'] = data['diabetesMed'].replace('No', 0)\n",
    "\n",
    "for col in keys:\n",
    "    data[col] = data[col].replace('No', 0)\n",
    "    data[col] = data[col].replace('Steady', 1)\n",
    "    data[col] = data[col].replace('Up', 1)\n",
    "    data[col] = data[col].replace('Down', 1)\n",
    "    \n",
    "data['A1Cresult'] = data['A1Cresult'].replace('>7', 1)\n",
    "data['A1Cresult'] = data['A1Cresult'].replace('>8', 1)\n",
    "data['A1Cresult'] = data['A1Cresult'].replace('Norm', 0)\n",
    "data['A1Cresult'] = data['A1Cresult'].replace('None', -99)\n",
    "data['max_glu_serum'] = data['max_glu_serum'].replace('>200', 1)\n",
    "data['max_glu_serum'] = data['max_glu_serum'].replace('>300', 1)\n",
    "data['max_glu_serum'] = data['max_glu_serum'].replace('Norm', 0)\n",
    "data['max_glu_serum'] = data['max_glu_serum'].replace('None', -99)\n",
    "\n",
    "for i in range(0,10):\n",
    "    data['age'] = data['age'].replace('['+str(10*i)+'-'+str(10*(i+1))+')', i+1)\n",
    "    \n",
    "data = data.drop_duplicates(subset= ['patient_nbr'], keep = 'first')\n",
    "\n",
    "data['readmitted'] = data['readmitted'].replace('>30', 0)\n",
    "data['readmitted'] = data['readmitted'].replace('<30', 1)\n",
    "data['readmitted'] = data['readmitted'].replace('NO', 0)\n",
    "\n",
    "data['level1_diag1'] = data['diag_1']\n",
    "data.loc[data['diag_1'].str.contains('V'), ['level1_diag1']] = 0\n",
    "data.loc[data['diag_1'].str.contains('E'), ['level1_diag1']] = 0\n",
    "data['level1_diag1'] = data['level1_diag1'].replace('?', -1)\n",
    "data['level1_diag1'] = data['level1_diag1'].astype(float)\n",
    "\n",
    "for index, row in data.iterrows():\n",
    "    if (row['level1_diag1'] >= 390 and row['level1_diag1'] < 460) or (np.floor(row['level1_diag1']) == 785):\n",
    "        data.loc[index, 'level1_diag1'] = 1\n",
    "    elif (row['level1_diag1'] >= 460 and row['level1_diag1'] < 520) or (np.floor(row['level1_diag1']) == 786):\n",
    "        data.loc[index, 'level1_diag1'] = 2\n",
    "    elif (row['level1_diag1'] >= 520 and row['level1_diag1'] < 580) or (np.floor(row['level1_diag1']) == 787):\n",
    "        data.loc[index, 'level1_diag1'] = 3\n",
    "    elif (np.floor(row['level1_diag1']) == 250):\n",
    "        data.loc[index, 'level1_diag1'] = 4\n",
    "    elif (row['level1_diag1'] >= 800 and row['level1_diag1'] < 1000):\n",
    "        data.loc[index, 'level1_diag1'] = 5\n",
    "    elif (row['level1_diag1'] >= 710 and row['level1_diag1'] < 740):\n",
    "        data.loc[index, 'level1_diag1'] = 6\n",
    "    elif (row['level1_diag1'] >= 580 and row['level1_diag1'] < 630) or (np.floor(row['level1_diag1']) == 788):\n",
    "        data.loc[index, 'level1_diag1'] = 7\n",
    "    elif (row['level1_diag1'] >= 140 and row['level1_diag1'] < 240):\n",
    "        data.loc[index, 'level1_diag1'] = 8\n",
    "    else:\n",
    "        data.loc[index, 'level1_diag1'] = 0\n",
    "        \n",
    "data = data.drop(['encounter_id', 'patient_nbr'], axis = 1)\n",
    "col_names = ['gender', 'admission_type_id', 'discharge_disposition_id', 'admission_source_id',\\\n",
    "          'A1Cresult', 'metformin', 'repaglinide', 'nateglinide', 'chlorpropamide', 'glimepiride', 'acetohexamide', \\\n",
    "          'glipizide', 'glyburide', 'tolbutamide', 'pioglitazone', 'rosiglitazone', 'acarbose','miglitol', \\\n",
    "          'troglitazone', 'tolazamide', 'insulin', 'glyburide-metformin', 'glipizide-metformin', \\\n",
    "          'glimepiride-pioglitazone', 'metformin-rosiglitazone', 'metformin-pioglitazone', 'change', 'diabetesMed', \\\n",
    "          'age', 'A1Cresult', 'max_glu_serum', 'level1_diag1']\n",
    "\n",
    "for na in col_names:\n",
    "    data[na].astype('object')\n",
    "    \n",
    "num_col = list(set(list(data._get_numeric_data().columns))- {'change', 'diabetesMed', 'readmitted', 'level1_diag1', 'metformin', 'repaglinide', 'nateglinide', 'chlorpropamide', 'glimepiride', 'acetohexamide', \\\n",
    "          'glipizide', 'glyburide', 'tolbutamide', 'pioglitazone', 'rosiglitazone', 'acarbose','miglitol', \\\n",
    "          'troglitazone', 'tolazamide', 'insulin', 'glyburide-metformin', 'glipizide-metformin', \\\n",
    "          'glimepiride-pioglitazone', 'metformin-rosiglitazone', 'metformin-pioglitazone','A1Cresult', 'admission_type_id', 'discharge_disposition_id',\n",
    "                                      'admission_source_id', 'max_glu_serum', 'A1Cresult'})\n",
    "\n",
    "for column in num_col:\n",
    "    data[column] = (data[column] - data[column].mean()) / data[column].std()\n",
    "\n",
    "i = ['metformin', 'repaglinide', 'nateglinide', 'chlorpropamide', 'glimepiride', 'acetohexamide', \\\n",
    "          'glipizide', 'glyburide', 'tolbutamide', 'pioglitazone', 'rosiglitazone', 'acarbose','miglitol', \\\n",
    "          'troglitazone', 'tolazamide', 'insulin', 'glyburide-metformin', 'glipizide-metformin', \\\n",
    "          'glimepiride-pioglitazone', 'metformin-rosiglitazone', 'metformin-pioglitazone','A1Cresult']\n",
    "data[i] = data[i].astype('int64')\n",
    "\n",
    "data['readmitted'] = data['readmitted'].apply(lambda x: 0 if x == 2 else x)\n",
    "data.drop(['diag_1', 'diag_2', 'diag_3', 'glimepiride-pioglitazone', 'metformin-rosiglitazone'], axis=1, inplace=True)\n",
    "\n",
    "data = pd.get_dummies(data, columns=['age', 'admission_type_id', 'discharge_disposition_id',\n",
    "                                      'admission_source_id', 'max_glu_serum', 'A1Cresult', 'level1_diag1', 'race'], drop_first = False)\n",
    "\n",
    "data.columns"
   ]
  },
  {
   "cell_type": "code",
   "execution_count": 15,
   "id": "adaae29f",
   "metadata": {},
   "outputs": [
    {
     "data": {
      "text/plain": [
       "0         0\n",
       "1         0\n",
       "2         1\n",
       "3         0\n",
       "4         0\n",
       "         ..\n",
       "101754    0\n",
       "101755    0\n",
       "101756    0\n",
       "101758    0\n",
       "101765    0\n",
       "Name: age_-2.535598020732876, Length: 68610, dtype: uint8"
      ]
     },
     "execution_count": 15,
     "metadata": {},
     "output_type": "execute_result"
    }
   ],
   "source": [
    "data['age_-2.535598020732876']"
   ]
  },
  {
   "cell_type": "code",
   "execution_count": 18,
   "id": "88f6cb8e",
   "metadata": {},
   "outputs": [
    {
     "data": {
      "text/plain": [
       "array([0.0001, 0.0112, 0.0223, 0.0334, 0.0445, 0.0556, 0.0667, 0.0778,\n",
       "       0.0889, 0.1   ])"
      ]
     },
     "execution_count": 18,
     "metadata": {},
     "output_type": "execute_result"
    }
   ],
   "source": [
    "lambdas = np.linspace(.0001, .1, 10)\n",
    "lambdas"
   ]
  },
  {
   "cell_type": "code",
   "execution_count": 19,
   "id": "e260afcc",
   "metadata": {},
   "outputs": [
    {
     "name": "stderr",
     "output_type": "stream",
     "text": [
      "/tmp/ipykernel_1669973/1141456746.py:2: FutureWarning: Passing a set as an indexer is deprecated and will raise in a future version. Use a list instead.\n",
      "  X = data[feature_set]\n"
     ]
    },
    {
     "name": "stdout",
     "output_type": "stream",
     "text": [
      "Accuracy is 0.61\n",
      "Precision is 0.59\n",
      "Recall is 0.57\n"
     ]
    }
   ],
   "source": [
    "feature_set = set(data.columns) - {'readmitted'}\n",
    "X = data[feature_set]\n",
    "y = data['readmitted']\n",
    "\n",
    "undersample = RandomUnderSampler(random_state=42)\n",
    "new_X, new_y = undersample.fit_resample(X, y)\n",
    "\n",
    "X_train, X_test, y_train, y_test = train_test_split(new_X, new_y, test_size=0.20, random_state=42)\n",
    "\n",
    "logit = LogisticRegression(C=1.0/0.1, fit_intercept=True, max_iter=1000, penalty='l2', solver='lbfgs')\n",
    "logit.fit(X_train, y_train)\n",
    "\n",
    "logit_pred = logit.predict(X_test)\n",
    "\n",
    "pd.crosstab(pd.Series(y_test, name = 'Actual'), pd.Series(logit_pred, name = 'Predict'), margins = True)\n",
    "\n",
    "print(\"Accuracy is {0:.2f}\".format(accuracy_score(y_test, logit_pred)))\n",
    "print(\"Precision is {0:.2f}\".format(precision_score(y_test, logit_pred, zero_division=0)))\n",
    "print(\"Recall is {0:.2f}\".format(recall_score(y_test, logit_pred)))"
   ]
  },
  {
   "cell_type": "markdown",
   "id": "35904f93",
   "metadata": {},
   "source": [
    "### Adult"
   ]
  },
  {
   "cell_type": "code",
   "execution_count": 62,
   "id": "502784bb",
   "metadata": {},
   "outputs": [
    {
     "name": "stdout",
     "output_type": "stream",
     "text": [
      "32561\n"
     ]
    }
   ],
   "source": [
    "features = ['age', 'workclass', 'final_weight', 'education', 'education_num', 'marital_status', 'occupation', 'relationship', 'race', 'sex', 'capital_gain', 'capital_loss', 'hours_per_week', 'native_country', 'income_class']\n",
    "\n",
    "data = pd.read_csv('data/adult.data', comment='|', skipinitialspace=True, names=features,\n",
    "        na_values={\n",
    "            'capital_gain': 99999,\n",
    "            'workclass': '?',\n",
    "            'native_country': '?',\n",
    "            'occupation': '?'\n",
    "        },\n",
    "    )\n",
    "print(len(data))\n",
    "data = data.replace({'<=50K.' : '<=50K', '>50K.' : '>50K'})\n",
    "\n",
    "data = (data[(data['workclass'] != '?') & (data['occupation'] != '?') & (data['workclass'] != 'Without-pay')].reset_index(drop=True))\n",
    "data.loc[data['workclass'].isin(['State-gov', 'Federal-gov', 'Local-gov']), 'workclass'] = 'Government'\n",
    "data.loc[data['workclass'].isin(['Self-emp-not-inc', 'Self-emp-inc']), 'workclass'] = 'Self-Employed'\n",
    "data.loc[data['workclass'].isin(['Private']), 'workclass'] = 'Privately-Employed'\n",
    "\n",
    "data.loc[data['occupation'] == 'Armed-Forces', 'occupation'] = 'Protective-serv'\n",
    "\n",
    "data.loc[data['marital_status'].isin(['Married-AF-spouse', 'Married-civ-spouse', 'Married-spouse-absent']), 'marital_status'] ='Married'\n",
    "data.loc[data['marital_status'].isin(['Divorced', 'Never-married', 'Separated', 'Widowed']), 'marital_status'] = 'Not-married'\n",
    "\n",
    "data.loc[data['education_num'] <= 8, 'education'] = 'Less than High School'\n",
    "data.loc[data['education_num'].isin([9, 10]), 'education'] = 'High School'\n",
    "data.loc[data['education_num'].isin([11, 12]), 'education'] = 'Associates'\n",
    "data.loc[data['education_num'].isin([13]), 'education'] = 'Bachelors'\n",
    "data.loc[data['education_num'].isin([14]), 'education'] = 'Masters'\n",
    "data.loc[data['education_num'].isin([15, 16]), 'education'] = 'PhD/Professional'\n",
    "\n",
    "data = data.drop('final_weight', axis=1)\n",
    "data = data.drop_duplicates()\n",
    "data = data.drop('education_num', axis = 1)\n",
    "data = data.dropna(how='any', axis=0)\n",
    "data.capital_gain = data.capital_gain.astype(int)\n",
    "\n",
    "to_replace = ['workclass', 'education', 'marital_status', 'occupation','relationship', 'race', 'native_country']\n",
    "data = pd.get_dummies(data, columns=to_replace, drop_first = False)\n",
    "\n",
    "data['sex'] = data['sex'].astype('category').cat.codes\n",
    "data['income_class'] = data['income_class'].astype('category').cat.codes\n",
    "\n",
    "data['age'] = (data['age'] - data['age'].mean()) / data['age'].std()\n",
    "data['hours_per_week'] = (data['hours_per_week'] - data['hours_per_week'].mean()) / data['hours_per_week'].std()\n",
    "data['capital_gain'] = (data['capital_gain'] - data['capital_gain'].mean()) / data['capital_gain'].std()\n",
    "data['capital_loss'] = (data['capital_loss'] - data['capital_loss'].mean()) / data['capital_loss'].std()\n",
    "\n",
    "data = data.drop('native_country_Holand-Netherlands', axis=1)"
   ]
  },
  {
   "cell_type": "code",
   "execution_count": 65,
   "id": "af337d12",
   "metadata": {},
   "outputs": [
    {
     "name": "stderr",
     "output_type": "stream",
     "text": [
      "/tmp/ipykernel_1283172/744614226.py:2: FutureWarning: Passing a set as an indexer is deprecated and will raise in a future version. Use a list instead.\n",
      "  X = data[feature_set]\n"
     ]
    },
    {
     "name": "stdout",
     "output_type": "stream",
     "text": [
      "26223\n",
      "Accuracy is 0.84\n",
      "Precision is 0.73\n",
      "Recall is 0.61\n"
     ]
    }
   ],
   "source": [
    "feature_set = set(data.columns) - {'income_class'}\n",
    "X = data[feature_set]\n",
    "y = data['income_class']\n",
    "print(len(X))\n",
    "#undersample = RandomUnderSampler(random_state=42)\n",
    "#new_X, new_y = undersample.fit_resample(X, y)\n",
    "\n",
    "X_train, X_test, y_train, y_test = train_test_split(X, y, test_size=0.20, random_state=42)\n",
    "\n",
    "logit = LogisticRegression(C=1.0, fit_intercept=True, max_iter=1000, penalty='l2', solver='lbfgs')\n",
    "logit.fit(X_train, y_train)\n",
    "\n",
    "logit_pred = logit.predict(X_test)\n",
    "\n",
    "pd.crosstab(pd.Series(y_test, name = 'Actual'), pd.Series(logit_pred, name = 'Predict'), margins = True)\n",
    "\n",
    "print(\"Accuracy is {0:.2f}\".format(accuracy_score(y_test, logit_pred)))\n",
    "print(\"Precision is {0:.2f}\".format(precision_score(y_test, logit_pred, zero_division=0)))\n",
    "print(\"Recall is {0:.2f}\".format(recall_score(y_test, logit_pred)))"
   ]
  },
  {
   "cell_type": "markdown",
   "id": "16c1d33b",
   "metadata": {},
   "source": [
    "### Law School"
   ]
  },
  {
   "cell_type": "code",
   "execution_count": 49,
   "id": "aa5a79c7",
   "metadata": {},
   "outputs": [
    {
     "name": "stdout",
     "output_type": "stream",
     "text": [
      "15\n"
     ]
    }
   ],
   "source": [
    "data = pd.read_csv('data/lawschs1_1.csv')\n",
    "data.columns\n",
    "print(len(data.columns))"
   ]
  },
  {
   "cell_type": "code",
   "execution_count": 50,
   "id": "0079255f",
   "metadata": {},
   "outputs": [],
   "source": [
    "data = data[data.MissingRace != 1]\n",
    "data = data.drop('Race', axis=1)\n",
    "data = data.drop('MissingRace', axis=1)\n",
    "data = data.drop('college', axis=1)\n",
    "data = data.drop('Year', axis=1)\n",
    "data = data.dropna(how='any', axis=0)"
   ]
  },
  {
   "cell_type": "code",
   "execution_count": 51,
   "id": "8cc535b7",
   "metadata": {},
   "outputs": [
    {
     "name": "stdout",
     "output_type": "stream",
     "text": [
      "420\n"
     ]
    }
   ],
   "source": [
    "to_replace = ['LSAT', 'GPA', 'Gender']\n",
    "data = pd.get_dummies(data, columns=to_replace, drop_first = False)\n",
    "print(len(data.columns))"
   ]
  },
  {
   "cell_type": "code",
   "execution_count": 52,
   "id": "ef688702",
   "metadata": {},
   "outputs": [
    {
     "ename": "KeyboardInterrupt",
     "evalue": "",
     "output_type": "error",
     "traceback": [
      "\u001b[0;31m---------------------------------------------------------------------------\u001b[0m",
      "\u001b[0;31mKeyboardInterrupt\u001b[0m                         Traceback (most recent call last)",
      "Cell \u001b[0;32mIn[52], line 4\u001b[0m\n\u001b[1;32m      1\u001b[0m \u001b[38;5;28;01mfrom\u001b[39;00m \u001b[38;5;21;01mmatplotlib\u001b[39;00m\u001b[38;5;21;01m.\u001b[39;00m\u001b[38;5;21;01mcolors\u001b[39;00m \u001b[38;5;28;01mimport\u001b[39;00m ListedColormap\n\u001b[1;32m      3\u001b[0m my_cmap \u001b[38;5;241m=\u001b[39m ListedColormap(sns\u001b[38;5;241m.\u001b[39mlight_palette((\u001b[38;5;241m250\u001b[39m, \u001b[38;5;241m100\u001b[39m, \u001b[38;5;241m50\u001b[39m), \u001b[38;5;28minput\u001b[39m\u001b[38;5;241m=\u001b[39m\u001b[38;5;124m\"\u001b[39m\u001b[38;5;124mhusl\u001b[39m\u001b[38;5;124m\"\u001b[39m, n_colors\u001b[38;5;241m=\u001b[39m\u001b[38;5;241m50\u001b[39m)\u001b[38;5;241m.\u001b[39mas_hex())\n\u001b[0;32m----> 4\u001b[0m table \u001b[38;5;241m=\u001b[39m \u001b[43mdata\u001b[49m\u001b[38;5;241;43m.\u001b[39;49m\u001b[43mcorr\u001b[49m\u001b[43m(\u001b[49m\u001b[43mmethod\u001b[49m\u001b[38;5;241;43m=\u001b[39;49m\u001b[38;5;124;43m'\u001b[39;49m\u001b[38;5;124;43mpearson\u001b[39;49m\u001b[38;5;124;43m'\u001b[39;49m\u001b[43m)\u001b[49m\n\u001b[1;32m      5\u001b[0m table\u001b[38;5;241m.\u001b[39mstyle\u001b[38;5;241m.\u001b[39mbackground_gradient(cmap\u001b[38;5;241m=\u001b[39mmy_cmap, axis \u001b[38;5;241m=\u001b[39m \u001b[38;5;241m0\u001b[39m)\n",
      "File \u001b[0;32m~/.conda/envs/influence/lib/python3.9/site-packages/pandas/core/frame.py:10307\u001b[0m, in \u001b[0;36mDataFrame.corr\u001b[0;34m(self, method, min_periods, numeric_only)\u001b[0m\n\u001b[1;32m  10304\u001b[0m mat \u001b[38;5;241m=\u001b[39m data\u001b[38;5;241m.\u001b[39mto_numpy(dtype\u001b[38;5;241m=\u001b[39m\u001b[38;5;28mfloat\u001b[39m, na_value\u001b[38;5;241m=\u001b[39mnp\u001b[38;5;241m.\u001b[39mnan, copy\u001b[38;5;241m=\u001b[39m\u001b[38;5;28;01mFalse\u001b[39;00m)\n\u001b[1;32m  10306\u001b[0m \u001b[38;5;28;01mif\u001b[39;00m method \u001b[38;5;241m==\u001b[39m \u001b[38;5;124m\"\u001b[39m\u001b[38;5;124mpearson\u001b[39m\u001b[38;5;124m\"\u001b[39m:\n\u001b[0;32m> 10307\u001b[0m     correl \u001b[38;5;241m=\u001b[39m \u001b[43mlibalgos\u001b[49m\u001b[38;5;241;43m.\u001b[39;49m\u001b[43mnancorr\u001b[49m\u001b[43m(\u001b[49m\u001b[43mmat\u001b[49m\u001b[43m,\u001b[49m\u001b[43m \u001b[49m\u001b[43mminp\u001b[49m\u001b[38;5;241;43m=\u001b[39;49m\u001b[43mmin_periods\u001b[49m\u001b[43m)\u001b[49m\n\u001b[1;32m  10308\u001b[0m \u001b[38;5;28;01melif\u001b[39;00m method \u001b[38;5;241m==\u001b[39m \u001b[38;5;124m\"\u001b[39m\u001b[38;5;124mspearman\u001b[39m\u001b[38;5;124m\"\u001b[39m:\n\u001b[1;32m  10309\u001b[0m     correl \u001b[38;5;241m=\u001b[39m libalgos\u001b[38;5;241m.\u001b[39mnancorr_spearman(mat, minp\u001b[38;5;241m=\u001b[39mmin_periods)\n",
      "\u001b[0;31mKeyboardInterrupt\u001b[0m: "
     ]
    }
   ],
   "source": [
    "from matplotlib.colors import ListedColormap\n",
    "\n",
    "my_cmap = ListedColormap(sns.light_palette((250, 100, 50), input=\"husl\", n_colors=50).as_hex())\n",
    "table = data.corr(method='pearson')\n",
    "table.style.background_gradient(cmap=my_cmap, axis = 0)"
   ]
  },
  {
   "cell_type": "code",
   "execution_count": 53,
   "id": "7b84ef9f",
   "metadata": {},
   "outputs": [
    {
     "name": "stderr",
     "output_type": "stream",
     "text": [
      "/tmp/ipykernel_1337332/4090517878.py:2: FutureWarning: Passing a set as an indexer is deprecated and will raise in a future version. Use a list instead.\n",
      "  X = data[feature_set]\n"
     ]
    },
    {
     "name": "stdout",
     "output_type": "stream",
     "text": [
      "24754\n",
      "Accuracy is 0.73\n",
      "Precision is 0.73\n",
      "Recall is 0.82\n"
     ]
    }
   ],
   "source": [
    "feature_set = set(data.columns) - {'admit'}\n",
    "X = data[feature_set]\n",
    "y = data['admit']\n",
    "print(len(X))\n",
    "\n",
    "#undersample = RandomUnderSampler(random_state=42)\n",
    "#new_X, new_y = undersample.fit_resample(X, y)\n",
    "\n",
    "X_train, X_test, y_train, y_test = train_test_split(X, y, test_size=0.20, random_state=42)\n",
    "\n",
    "logit = LogisticRegression(C=1.0, fit_intercept=True, max_iter=1000, penalty='l2', solver='lbfgs')\n",
    "logit.fit(X_train, y_train)\n",
    "\n",
    "logit_pred = logit.predict(X_test)\n",
    "\n",
    "pd.crosstab(pd.Series(y_test, name = 'Actual'), pd.Series(logit_pred, name = 'Predict'), margins = True)\n",
    "\n",
    "print(\"Accuracy is {0:.2f}\".format(accuracy_score(y_test, logit_pred)))\n",
    "print(\"Precision is {0:.2f}\".format(precision_score(y_test, logit_pred, zero_division=0)))\n",
    "print(\"Recall is {0:.2f}\".format(recall_score(y_test, logit_pred)))"
   ]
  },
  {
   "cell_type": "markdown",
   "id": "4cf5640c",
   "metadata": {},
   "source": [
    "### Ricci"
   ]
  },
  {
   "cell_type": "code",
   "execution_count": 144,
   "id": "3402b97a",
   "metadata": {},
   "outputs": [],
   "source": [
    "data = pd.read_csv('data/ricci.csv')\n",
    "data = data.drop(['Oral', 'Combine'], axis=1)"
   ]
  },
  {
   "cell_type": "code",
   "execution_count": 145,
   "id": "6dbe86a7",
   "metadata": {},
   "outputs": [],
   "source": [
    "data.loc[data['Oral_round'] <= 9, 'Oral_bin'] = '0-9'\n",
    "data.loc[(data['Oral_round'] <= 19) & (data['Oral_round'] > 9), 'Oral_bin'] = '10-19'\n",
    "data.loc[(data['Oral_round'] <= 29) & (data['Oral_round'] > 19), 'Oral_bin'] = '20-29'\n",
    "data.loc[(data['Oral_round'] <= 39) & (data['Oral_round'] > 29), 'Oral_bin'] = '30-39'\n",
    "data.loc[(data['Oral_round'] <= 49) & (data['Oral_round'] > 39), 'Oral_bin'] = '40-49'\n",
    "data.loc[(data['Oral_round'] <= 59) & (data['Oral_round'] > 49), 'Oral_bin'] = '50-59'\n",
    "data.loc[(data['Oral_round'] <= 69) & (data['Oral_round'] > 59), 'Oral_bin'] = '60-69'\n",
    "data.loc[(data['Oral_round'] <= 79) & (data['Oral_round'] > 69), 'Oral_bin'] = '70-79'\n",
    "data.loc[(data['Oral_round'] <= 89) & (data['Oral_round'] > 79), 'Oral_bin'] = '80-89'\n",
    "data.loc[(data['Oral_round'] <= 100) & (data['Oral_round'] > 89), 'Oral_bin'] = '90-100'"
   ]
  },
  {
   "cell_type": "code",
   "execution_count": 146,
   "id": "4f83cfce",
   "metadata": {},
   "outputs": [],
   "source": [
    "data.loc[data['Combine_round'] <= 9, 'Combine_bin'] = '0-9'\n",
    "data.loc[(data['Combine_round'] <= 19) & (data['Combine_round'] > 9), 'Combine_bin'] = '10-19'\n",
    "data.loc[(data['Combine_round'] <= 29) & (data['Combine_round'] > 19), 'Combine_bin'] = '20-29'\n",
    "data.loc[(data['Combine_round'] <= 39) & (data['Combine_round'] > 29), 'Combine_bin'] = '30-39'\n",
    "data.loc[(data['Combine_round'] <= 49) & (data['Combine_round'] > 39), 'Combine_bin'] = '40-49'\n",
    "data.loc[(data['Combine_round'] <= 59) & (data['Combine_round'] > 49), 'Combine_bin'] = '50-59'\n",
    "data.loc[(data['Combine_round'] <= 69) & (data['Combine_round'] > 59), 'Combine_bin'] = '60-69'\n",
    "data.loc[(data['Combine_round'] <= 79) & (data['Combine_round'] > 69), 'Combine_bin'] = '70-79'\n",
    "data.loc[(data['Combine_round'] <= 89) & (data['Combine_round'] > 79), 'Combine_bin'] = '80-89'\n",
    "data.loc[(data['Combine_round'] <= 100) & (data['Combine_round'] > 89), 'Combine_bin'] = '90-100'"
   ]
  },
  {
   "cell_type": "code",
   "execution_count": 147,
   "id": "0fe602a1",
   "metadata": {},
   "outputs": [],
   "source": [
    "data.loc[data['Written'] <= 9, 'Written_bin'] = '0-9'\n",
    "data.loc[(data['Written'] <= 19) & (data['Written'] > 9), 'Written_bin'] = '10-19'\n",
    "data.loc[(data['Written'] <= 29) & (data['Written'] > 19), 'Written_bin'] = '20-29'\n",
    "data.loc[(data['Written'] <= 39) & (data['Written'] > 29), 'Written_bin'] = '30-39'\n",
    "data.loc[(data['Written'] <= 49) & (data['Written'] > 39), 'Written_bin'] = '40-49'\n",
    "data.loc[(data['Written'] <= 59) & (data['Written'] > 49), 'Written_bin'] = '50-59'\n",
    "data.loc[(data['Written'] <= 69) & (data['Written'] > 59), 'Written_bin'] = '60-69'\n",
    "data.loc[(data['Written'] <= 79) & (data['Written'] > 69), 'Written_bin'] = '70-79'\n",
    "data.loc[(data['Written'] <= 89) & (data['Written'] > 79), 'Written_bin'] = '80-89'\n",
    "data.loc[(data['Written'] <= 100) & (data['Written'] > 89), 'Written_bin'] = '90-100'"
   ]
  },
  {
   "cell_type": "code",
   "execution_count": 148,
   "id": "21718063",
   "metadata": {},
   "outputs": [],
   "source": [
    "data.loc[(data['promote'] == 'y'), 'promote'] = 1\n",
    "data.loc[(data['promote'] == 'n'), 'promote'] = 0"
   ]
  },
  {
   "cell_type": "code",
   "execution_count": 149,
   "id": "39b7385e",
   "metadata": {},
   "outputs": [
    {
     "data": {
      "text/html": [
       "<div>\n",
       "<style scoped>\n",
       "    .dataframe tbody tr th:only-of-type {\n",
       "        vertical-align: middle;\n",
       "    }\n",
       "\n",
       "    .dataframe tbody tr th {\n",
       "        vertical-align: top;\n",
       "    }\n",
       "\n",
       "    .dataframe thead th {\n",
       "        text-align: right;\n",
       "    }\n",
       "</style>\n",
       "<table border=\"1\" class=\"dataframe\">\n",
       "  <thead>\n",
       "    <tr style=\"text-align: right;\">\n",
       "      <th></th>\n",
       "      <th>Race</th>\n",
       "      <th>Position</th>\n",
       "      <th>promote</th>\n",
       "      <th>Oral_bin</th>\n",
       "      <th>Combine_bin</th>\n",
       "      <th>Written_bin</th>\n",
       "    </tr>\n",
       "  </thead>\n",
       "  <tbody>\n",
       "    <tr>\n",
       "      <th>0</th>\n",
       "      <td>W</td>\n",
       "      <td>Captain</td>\n",
       "      <td>1</td>\n",
       "      <td>90-100</td>\n",
       "      <td>90-100</td>\n",
       "      <td>90-100</td>\n",
       "    </tr>\n",
       "    <tr>\n",
       "      <th>1</th>\n",
       "      <td>W</td>\n",
       "      <td>Captain</td>\n",
       "      <td>1</td>\n",
       "      <td>80-89</td>\n",
       "      <td>80-89</td>\n",
       "      <td>90-100</td>\n",
       "    </tr>\n",
       "    <tr>\n",
       "      <th>2</th>\n",
       "      <td>W</td>\n",
       "      <td>Captain</td>\n",
       "      <td>1</td>\n",
       "      <td>80-89</td>\n",
       "      <td>80-89</td>\n",
       "      <td>80-89</td>\n",
       "    </tr>\n",
       "    <tr>\n",
       "      <th>3</th>\n",
       "      <td>W</td>\n",
       "      <td>Captain</td>\n",
       "      <td>1</td>\n",
       "      <td>80-89</td>\n",
       "      <td>80-89</td>\n",
       "      <td>70-79</td>\n",
       "    </tr>\n",
       "    <tr>\n",
       "      <th>4</th>\n",
       "      <td>W</td>\n",
       "      <td>Captain</td>\n",
       "      <td>1</td>\n",
       "      <td>70-79</td>\n",
       "      <td>80-89</td>\n",
       "      <td>80-89</td>\n",
       "    </tr>\n",
       "    <tr>\n",
       "      <th>...</th>\n",
       "      <td>...</td>\n",
       "      <td>...</td>\n",
       "      <td>...</td>\n",
       "      <td>...</td>\n",
       "      <td>...</td>\n",
       "      <td>...</td>\n",
       "    </tr>\n",
       "    <tr>\n",
       "      <th>113</th>\n",
       "      <td>H</td>\n",
       "      <td>Lieutenant</td>\n",
       "      <td>0</td>\n",
       "      <td>40-49</td>\n",
       "      <td>50-59</td>\n",
       "      <td>60-69</td>\n",
       "    </tr>\n",
       "    <tr>\n",
       "      <th>114</th>\n",
       "      <td>B</td>\n",
       "      <td>Lieutenant</td>\n",
       "      <td>0</td>\n",
       "      <td>50-59</td>\n",
       "      <td>50-59</td>\n",
       "      <td>50-59</td>\n",
       "    </tr>\n",
       "    <tr>\n",
       "      <th>115</th>\n",
       "      <td>H</td>\n",
       "      <td>Lieutenant</td>\n",
       "      <td>0</td>\n",
       "      <td>40-49</td>\n",
       "      <td>50-59</td>\n",
       "      <td>50-59</td>\n",
       "    </tr>\n",
       "    <tr>\n",
       "      <th>116</th>\n",
       "      <td>B</td>\n",
       "      <td>Lieutenant</td>\n",
       "      <td>0</td>\n",
       "      <td>50-59</td>\n",
       "      <td>50-59</td>\n",
       "      <td>40-49</td>\n",
       "    </tr>\n",
       "    <tr>\n",
       "      <th>117</th>\n",
       "      <td>B</td>\n",
       "      <td>Lieutenant</td>\n",
       "      <td>0</td>\n",
       "      <td>40-49</td>\n",
       "      <td>40-49</td>\n",
       "      <td>40-49</td>\n",
       "    </tr>\n",
       "  </tbody>\n",
       "</table>\n",
       "<p>118 rows × 6 columns</p>\n",
       "</div>"
      ],
      "text/plain": [
       "    Race    Position promote Oral_bin Combine_bin Written_bin\n",
       "0      W     Captain       1   90-100      90-100      90-100\n",
       "1      W     Captain       1    80-89       80-89      90-100\n",
       "2      W     Captain       1    80-89       80-89       80-89\n",
       "3      W     Captain       1    80-89       80-89       70-79\n",
       "4      W     Captain       1    70-79       80-89       80-89\n",
       "..   ...         ...     ...      ...         ...         ...\n",
       "113    H  Lieutenant       0    40-49       50-59       60-69\n",
       "114    B  Lieutenant       0    50-59       50-59       50-59\n",
       "115    H  Lieutenant       0    40-49       50-59       50-59\n",
       "116    B  Lieutenant       0    50-59       50-59       40-49\n",
       "117    B  Lieutenant       0    40-49       40-49       40-49\n",
       "\n",
       "[118 rows x 6 columns]"
      ]
     },
     "execution_count": 149,
     "metadata": {},
     "output_type": "execute_result"
    }
   ],
   "source": [
    "data = data.drop(['Oral_round', 'Combine_round', 'Written'], axis=1)\n",
    "data"
   ]
  },
  {
   "cell_type": "code",
   "execution_count": 150,
   "id": "ede38bd5",
   "metadata": {},
   "outputs": [],
   "source": [
    "to_replace = ['Race', 'Oral_bin', 'Combine_bin', 'Written_bin']\n",
    "data = pd.get_dummies(data, columns=to_replace, drop_first = False)\n",
    "data['Position'] = data['Position'].astype('category').cat.codes\n",
    "data['promote'] = data['promote'].astype('int64')"
   ]
  },
  {
   "cell_type": "code",
   "execution_count": 153,
   "id": "4a263172",
   "metadata": {},
   "outputs": [
    {
     "data": {
      "text/plain": [
       "23"
      ]
     },
     "execution_count": 153,
     "metadata": {},
     "output_type": "execute_result"
    }
   ],
   "source": [
    "len(data.columns)"
   ]
  },
  {
   "cell_type": "code",
   "execution_count": 157,
   "id": "d6afc96c",
   "metadata": {},
   "outputs": [
    {
     "name": "stdout",
     "output_type": "stream",
     "text": [
      "Accuracy is 1.00\n",
      "Precision is 1.00\n",
      "Recall is 1.00\n"
     ]
    },
    {
     "name": "stderr",
     "output_type": "stream",
     "text": [
      "/tmp/ipykernel_1337332/671556695.py:3: FutureWarning: Passing a set as an indexer is deprecated and will raise in a future version. Use a list instead.\n",
      "  X = data[feature_set]\n"
     ]
    }
   ],
   "source": [
    "data = data.sample(frac=1)\n",
    "feature_set = set(data.columns) - {'promote'}\n",
    "X = data[feature_set]\n",
    "y = data['promote']\n",
    "\n",
    "X_train, X_test, y_train, y_test = train_test_split(X, y, test_size=0.20, random_state=42)\n",
    "\n",
    "logit = LogisticRegression(C=1.0, fit_intercept=True, max_iter=1000, penalty='l2', solver='lbfgs')\n",
    "logit.fit(X_train, y_train)\n",
    "\n",
    "logit_pred = logit.predict(X_test)\n",
    "\n",
    "pd.crosstab(pd.Series(y_test, name = 'Actual'), pd.Series(logit_pred, name = 'Predict'), margins = True)\n",
    "\n",
    "print(\"Accuracy is {0:.2f}\".format(accuracy_score(y_test, logit_pred)))\n",
    "print(\"Precision is {0:.2f}\".format(precision_score(y_test, logit_pred, zero_division=0)))\n",
    "print(\"Recall is {0:.2f}\".format(recall_score(y_test, logit_pred)))"
   ]
  },
  {
   "cell_type": "code",
   "execution_count": null,
   "id": "0a74ee47",
   "metadata": {},
   "outputs": [],
   "source": []
  }
 ],
 "metadata": {
  "kernelspec": {
   "display_name": "Python 3 (ipykernel)",
   "language": "python",
   "name": "python3"
  },
  "language_info": {
   "codemirror_mode": {
    "name": "ipython",
    "version": 3
   },
   "file_extension": ".py",
   "mimetype": "text/x-python",
   "name": "python",
   "nbconvert_exporter": "python",
   "pygments_lexer": "ipython3",
   "version": "3.9.15"
  }
 },
 "nbformat": 4,
 "nbformat_minor": 5
}
